{
  "cells": [
    {
      "cell_type": "markdown",
      "metadata": {
        "id": "0w5pDofR-78y"
      },
      "source": [
        "#Importing the Libraries"
      ]
    },
    {
      "cell_type": "code",
      "execution_count": null,
      "metadata": {
        "id": "FR7urILSA1ns"
      },
      "outputs": [],
      "source": [
        "import numpy as np\n",
        "import pandas as pd\n",
        "import cv2\n",
        "from sklearn.metrics import accuracy_score,classification_report,confusion_matrix, precision_score, f1_score, recall_score\n",
        "from tensorflow.keras.applications import ResNet50, InceptionV3\n",
        "import matplotlib.pyplot as plt\n",
        "import os\n",
        "import matplotlib.pyplot as plt\n",
        "import seaborn as sns\n",
        "from sklearn.model_selection import train_test_split\n",
        "from tensorflow.keras.layers import Dense, Conv2D, Conv1D, MaxPooling2D, MaxPooling1D, BatchNormalization\n",
        "from tensorflow.keras.layers import Input, concatenate, Activation, Flatten, ZeroPadding2D,Add, AveragePooling2D\n",
        "from tensorflow.keras.models import Model, load_model"
      ]
    },
    {
      "cell_type": "markdown",
      "metadata": {
        "id": "FOATHw20--ra"
      },
      "source": [
        "#Loading, and Normalizing the Images"
      ]
    },
    {
      "cell_type": "code",
      "execution_count": null,
      "metadata": {
        "id": "Ce7D06eyA_g7"
      },
      "outputs": [],
      "source": [
        "def load_images(folder_path, categories):\n",
        "  images = []\n",
        "  image_labels = []\n",
        "  for category in categories:\n",
        "    path = os.path.join(folder_path,category)\n",
        "    label = categories.index(category)\n",
        "    for image in os.listdir(path):\n",
        "      if image is not None:\n",
        "        img = cv2.imread(os.path.join(path,image)) \n",
        "        img = cv2.resize(img, (128,128)) # resizing to (128,128)\n",
        "        images.append(img)\n",
        "        image_labels.append(label)\n",
        "      else:\n",
        "        pass\n",
        "  images = (np.array(images))/255 #converting to array and normalizing images\n",
        "  image_labels = np.array(image_labels)\n",
        "  return images,image_labels"
      ]
    },
    {
      "cell_type": "code",
      "execution_count": null,
      "metadata": {
        "id": "mn7dT4NuA0ZB"
      },
      "outputs": [],
      "source": [
        "folder_path = \"/content/drive/MyDrive/Virtual Consultant (FYP)/Covid Detection\"\n",
        "categories = [\"Normal\",\"Covid\"] #2000 images of each class \n",
        "\n",
        "images, image_labels = load_images(folder_path, categories)\n",
        "images = np.expand_dims(images, axis = -1)"
      ]
    },
    {
      "cell_type": "markdown",
      "metadata": {
        "id": "zKwQVhTO_CJK"
      },
      "source": [
        "#Loading the Tabular Data"
      ]
    },
    {
      "cell_type": "code",
      "execution_count": null,
      "metadata": {
        "colab": {
          "base_uri": "https://localhost:8080/"
        },
        "id": "WrAKyllnFlk-",
        "outputId": "46c2e4cb-bbbb-4d59-e9ee-0b1fb6fcdf97"
      },
      "outputs": [
        {
          "output_type": "execute_result",
          "data": {
            "text/plain": [
              "(4000, 11)"
            ]
          },
          "metadata": {},
          "execution_count": 6
        }
      ],
      "source": [
        "tabular_data = pd.read_csv(\"/content/drive/MyDrive/Virtual Consultant (FYP)/Covid Tabular Data/Covid19TabularData.csv\")\n",
        "tabular_data.shape"
      ]
    },
    {
      "cell_type": "markdown",
      "metadata": {
        "id": "w-VhOsztB7BJ"
      },
      "source": [
        "#Separting the Input and Output variable of Tabular Data"
      ]
    },
    {
      "cell_type": "code",
      "execution_count": null,
      "metadata": {
        "id": "L7_tytat_Mvy"
      },
      "outputs": [],
      "source": [
        "tabular_input = tabular_data.drop(\"corona_result\",axis = 1)\n",
        "tabular_labels = (tabular_data[\"corona_result\"])"
      ]
    },
    {
      "cell_type": "code",
      "execution_count": null,
      "metadata": {
        "id": "nyBLMuZjrfQn"
      },
      "outputs": [],
      "source": [
        "tabular_input = np.expand_dims(tabular_input, axis = 2)"
      ]
    },
    {
      "cell_type": "markdown",
      "metadata": {
        "id": "ihMguhFzCOqR"
      },
      "source": [
        "#Looking at the shape of data"
      ]
    },
    {
      "cell_type": "code",
      "execution_count": null,
      "metadata": {
        "colab": {
          "base_uri": "https://localhost:8080/"
        },
        "id": "l43JJk5r_IDf",
        "outputId": "b9d43db1-ba11-4771-ba57-8c78717b9b91"
      },
      "outputs": [
        {
          "output_type": "stream",
          "name": "stdout",
          "text": [
            "(4000, 128, 128, 3)\n",
            "(4000,)\n",
            "(4000, 10, 1)\n",
            "(4000,)\n"
          ]
        }
      ],
      "source": [
        "print(images.shape)\n",
        "print(image_labels.shape)\n",
        "print(tabular_input.shape)\n",
        "print(tabular_labels.shape)"
      ]
    },
    {
      "cell_type": "markdown",
      "metadata": {
        "id": "0zEN22a5CbLY"
      },
      "source": [
        "#Comparing the Labels of Images and Tabular Data"
      ]
    },
    {
      "cell_type": "code",
      "execution_count": null,
      "metadata": {
        "colab": {
          "base_uri": "https://localhost:8080/"
        },
        "id": "bwqWFk8vCfFC",
        "outputId": "321ebaa3-bcbb-4306-af71-f92df8d83baa"
      },
      "outputs": [
        {
          "output_type": "stream",
          "name": "stdout",
          "text": [
            "<---------------------------Images Labels---------------------->\n",
            "Image Number 1 Label: 0\n",
            "Image Number 2000 Label: 0\n",
            "Image Number 2001 Label: 1\n",
            "Image Number 4000 Label: 1\n",
            "<---------------------------Tabular Data Labels---------------------->\n",
            "Record Number 1 Label: 0.0\n",
            "Record Number 2000 Label: 0.0\n",
            "Record Number 2001 Label: 1.0\n",
            "Record Number 4000 Label: 1.0\n"
          ]
        }
      ],
      "source": [
        "print(\"<---------------------------Images Labels---------------------->\")\n",
        "print(\"Image Number 1 Label:\",image_labels[0])\n",
        "print(\"Image Number 2000 Label:\",image_labels[1999])\n",
        "print(\"Image Number 2001 Label:\",image_labels[2000])\n",
        "print(\"Image Number 4000 Label:\",image_labels[3999])\n",
        "\n",
        "\n",
        "print(\"<---------------------------Tabular Data Labels---------------------->\")\n",
        "print(\"Record Number 1 Label:\",tabular_labels[0]) \n",
        "print(\"Record Number 2000 Label:\",tabular_labels[1999])\n",
        "print(\"Record Number 2001 Label:\",tabular_labels[2000])\n",
        "print(\"Record Number 4000 Label:\",tabular_labels[3999])"
      ]
    },
    {
      "cell_type": "markdown",
      "metadata": {
        "id": "zOiCey51EVA-"
      },
      "source": [
        "#Spliting the Data into Train and Test"
      ]
    },
    {
      "cell_type": "code",
      "execution_count": null,
      "metadata": {
        "colab": {
          "base_uri": "https://localhost:8080/",
          "height": 35
        },
        "id": "NBuNeAifF30J",
        "outputId": "ff6d20da-ee1f-480f-91a1-574b2037a802"
      },
      "outputs": [
        {
          "output_type": "execute_result",
          "data": {
            "text/plain": [
              "'\\nBoth labels (image_labels and tabular_labels) are in same order we can use anyone of them\\nI have used image_labels\\n'"
            ],
            "application/vnd.google.colaboratory.intrinsic+json": {
              "type": "string"
            }
          },
          "metadata": {},
          "execution_count": 11
        }
      ],
      "source": [
        "X_train_image,X_test_image,X_train_tabular,X_test_tabular,Y_train,Y_test = train_test_split(images,\n",
        "                                                                                            tabular_input,\n",
        "                                                                                            image_labels,\n",
        "                                                                                            test_size = 0.2,\n",
        "                                                                                            random_state = 45)\n",
        "\"\"\"\n",
        "Both labels (image_labels and tabular_labels) are in same order we can use anyone of them\n",
        "I have used image_labels\n",
        "\"\"\""
      ]
    },
    {
      "cell_type": "markdown",
      "metadata": {
        "id": "NOiRWhwhGS4c"
      },
      "source": [
        "#Convolutional Neural Network (Used for Deployment)\n",
        "\n",
        "*   Conv2D for Images\n",
        "*   Dense Layers for Tabular Data\n",
        "\n"
      ]
    },
    {
      "cell_type": "code",
      "execution_count": null,
      "metadata": {
        "id": "U5YxB-qWGS4d"
      },
      "outputs": [],
      "source": [
        "def CNN_Model(image_shape = (128,128,3), tabular_shape = (10,)):\n",
        "  #Layers for Image\n",
        "  image_input_layer = Input(shape = image_shape)\n",
        "  x = Conv2D(filters = 16, kernel_size = (3,3), padding = \"same\", strides = 2, activation = \"relu\")(image_input_layer)\n",
        "  x = MaxPooling2D(pool_size = (2,2))(x)\n",
        "\n",
        "  x = Conv2D(filters = 32, kernel_size = (3,3), padding = \"same\", strides = 2, activation = \"relu\")(x)\n",
        "  x = Conv2D(filters = 32, kernel_size = (3,3), padding = \"same\", strides = 1, activation = \"relu\")(x)\n",
        "  x = MaxPooling2D(pool_size = (2,2))(x)\n",
        "\n",
        "  x = Conv2D(filters = 64, kernel_size = (3,3), padding = \"same\", strides = 2, activation = \"relu\")(x)\n",
        "  x = Conv2D(filters = 64, kernel_size = (3,3), padding = \"same\", strides = 1, activation = \"relu\")(x)\n",
        "  x = Conv2D(filters = 64, kernel_size = (3,3), padding = \"same\", strides = 1, activation = \"relu\")(x)\n",
        "  x = MaxPooling2D(pool_size = (2,2))(x)\n",
        "\n",
        "  x = Conv2D(filters = 128, kernel_size = (3,3), padding = \"same\", strides = 2, activation = \"relu\")(x)\n",
        "  x = Conv2D(filters = 128, kernel_size = (3,3), padding = \"same\", strides = 1, activation = \"relu\")(x)\n",
        "  x = MaxPooling2D(pool_size = (2,2), padding = \"same\")(x)\n",
        "\n",
        "  x = Conv2D(filters = 256, kernel_size = (3,3), padding = \"same\", strides = 2, activation = \"relu\")(x)\n",
        "  x = Conv2D(filters = 256, kernel_size = (3,3), padding = \"same\", strides = 1, activation = \"relu\")(x)\n",
        "  x = Conv2D(filters = 256, kernel_size = (3,3), padding = \"same\", strides = 1, activation = \"relu\")(x)\n",
        "  x = MaxPooling2D(pool_size = (2,2), padding = \"same\")(x)\n",
        "\n",
        "  x = Conv2D(filters = 128, kernel_size = (3,3), padding = \"same\", strides = 2, activation = \"relu\")(x)\n",
        "  x = Conv2D(filters = 64, kernel_size = (3,3), padding = \"same\", strides = 1, activation = \"relu\")(x)\n",
        "  x = MaxPooling2D(pool_size = (2,2), padding = \"same\")(x)\n",
        "\n",
        "  flat = Flatten()(x)\n",
        "\n",
        "\n",
        "  #Layers for Tabular Data\n",
        "  tabular_input_layer = Input(shape = tabular_shape)\n",
        "  dense = Dense(128, activation = \"relu\")(tabular_input_layer)\n",
        "  dense = Dense(64,activation = \"relu\")(dense)\n",
        "  dense = Dense(32,activation = \"relu\")(dense)\n",
        "  dense = Dense(16,activation = \"relu\")(dense)\n",
        "  dense = Dense(8,activation = \"relu\")(dense)\n",
        "\n",
        "\n",
        "  concat = concatenate([flat,dense])\n",
        "  dense = Dense(4,activation = \"relu\")(concat)\n",
        "  output_layer = Dense(1,activation = \"sigmoid\")(dense)\n",
        "\n",
        "  model = Model(inputs = [image_input_layer, tabular_input_layer], outputs = output_layer)\n",
        "  return model"
      ]
    },
    {
      "cell_type": "code",
      "execution_count": null,
      "metadata": {
        "colab": {
          "base_uri": "https://localhost:8080/"
        },
        "outputId": "ffd80559-1e8a-495b-c9df-158657416957",
        "id": "WJ4mbe4ZGS4e"
      },
      "outputs": [
        {
          "output_type": "stream",
          "name": "stdout",
          "text": [
            "Epoch 1/60\n",
            "25/25 [==============================] - 31s 1s/step - loss: 0.6346 - accuracy: 0.7534\n",
            "Epoch 2/60\n",
            "25/25 [==============================] - 23s 882ms/step - loss: 0.4811 - accuracy: 0.8094\n",
            "Epoch 3/60\n",
            "25/25 [==============================] - 22s 864ms/step - loss: 0.4545 - accuracy: 0.8087\n",
            "Epoch 4/60\n",
            "25/25 [==============================] - 22s 862ms/step - loss: 0.4511 - accuracy: 0.8097\n",
            "Epoch 5/60\n",
            "25/25 [==============================] - 22s 867ms/step - loss: 0.4387 - accuracy: 0.8106\n",
            "Epoch 6/60\n",
            "25/25 [==============================] - 22s 885ms/step - loss: 0.3524 - accuracy: 0.8284\n",
            "Epoch 7/60\n",
            "25/25 [==============================] - 22s 871ms/step - loss: 0.2793 - accuracy: 0.8628\n",
            "Epoch 8/60\n",
            "25/25 [==============================] - 22s 897ms/step - loss: 0.2458 - accuracy: 0.8881\n",
            "Epoch 9/60\n",
            "25/25 [==============================] - 22s 869ms/step - loss: 0.2312 - accuracy: 0.9016\n",
            "Epoch 10/60\n",
            "25/25 [==============================] - 22s 871ms/step - loss: 0.1937 - accuracy: 0.9234\n",
            "Epoch 11/60\n",
            "25/25 [==============================] - 22s 869ms/step - loss: 0.1669 - accuracy: 0.9275\n",
            "Epoch 12/60\n",
            "25/25 [==============================] - 22s 869ms/step - loss: 0.1427 - accuracy: 0.9431\n",
            "Epoch 13/60\n",
            "25/25 [==============================] - 22s 870ms/step - loss: 0.1263 - accuracy: 0.9491\n",
            "Epoch 14/60\n",
            "25/25 [==============================] - 22s 872ms/step - loss: 0.1258 - accuracy: 0.9466\n",
            "Epoch 15/60\n",
            "25/25 [==============================] - 22s 868ms/step - loss: 0.1166 - accuracy: 0.9547\n",
            "Epoch 16/60\n",
            "25/25 [==============================] - 22s 869ms/step - loss: 0.0896 - accuracy: 0.9663\n",
            "Epoch 17/60\n",
            "25/25 [==============================] - 22s 870ms/step - loss: 0.0785 - accuracy: 0.9675\n",
            "Epoch 18/60\n",
            "25/25 [==============================] - 22s 885ms/step - loss: 0.0716 - accuracy: 0.9725\n",
            "Epoch 19/60\n",
            "25/25 [==============================] - 22s 880ms/step - loss: 0.0667 - accuracy: 0.9737\n",
            "Epoch 20/60\n",
            "25/25 [==============================] - 22s 885ms/step - loss: 0.0755 - accuracy: 0.9700\n",
            "Epoch 21/60\n",
            "25/25 [==============================] - 22s 886ms/step - loss: 0.0488 - accuracy: 0.9809\n",
            "Epoch 22/60\n",
            "25/25 [==============================] - 22s 876ms/step - loss: 0.0351 - accuracy: 0.9859\n",
            "Epoch 23/60\n",
            "25/25 [==============================] - 22s 875ms/step - loss: 0.0252 - accuracy: 0.9919\n",
            "Epoch 24/60\n",
            "25/25 [==============================] - 22s 869ms/step - loss: 0.0609 - accuracy: 0.9775\n",
            "Epoch 25/60\n",
            "25/25 [==============================] - 22s 870ms/step - loss: 0.0377 - accuracy: 0.9862\n",
            "Epoch 26/60\n",
            "25/25 [==============================] - 22s 868ms/step - loss: 0.0215 - accuracy: 0.9937\n",
            "Epoch 27/60\n",
            "25/25 [==============================] - 22s 873ms/step - loss: 0.0190 - accuracy: 0.9928\n",
            "Epoch 28/60\n",
            "25/25 [==============================] - 22s 875ms/step - loss: 0.0158 - accuracy: 0.9941\n",
            "Epoch 29/60\n",
            "25/25 [==============================] - 22s 887ms/step - loss: 0.0197 - accuracy: 0.9934\n",
            "Epoch 30/60\n",
            "25/25 [==============================] - 22s 898ms/step - loss: 0.0293 - accuracy: 0.9878\n",
            "Epoch 31/60\n",
            "25/25 [==============================] - 22s 899ms/step - loss: 0.0103 - accuracy: 0.9962\n",
            "Epoch 32/60\n",
            "25/25 [==============================] - 22s 886ms/step - loss: 0.0255 - accuracy: 0.9912\n",
            "Epoch 33/60\n",
            "25/25 [==============================] - 22s 889ms/step - loss: 0.0173 - accuracy: 0.9941\n",
            "Epoch 34/60\n",
            "25/25 [==============================] - 22s 884ms/step - loss: 0.0110 - accuracy: 0.9962\n",
            "Epoch 35/60\n",
            "25/25 [==============================] - 22s 889ms/step - loss: 0.0040 - accuracy: 0.9994\n",
            "Epoch 36/60\n",
            "25/25 [==============================] - 22s 888ms/step - loss: 8.3057e-04 - accuracy: 1.0000\n",
            "Epoch 37/60\n",
            "25/25 [==============================] - 22s 894ms/step - loss: 2.7156e-04 - accuracy: 1.0000\n",
            "Epoch 38/60\n",
            "25/25 [==============================] - 22s 896ms/step - loss: 1.5354e-04 - accuracy: 1.0000\n",
            "Epoch 39/60\n",
            "25/25 [==============================] - 23s 905ms/step - loss: 1.0747e-04 - accuracy: 1.0000\n",
            "Epoch 40/60\n",
            "25/25 [==============================] - 22s 877ms/step - loss: 8.7624e-05 - accuracy: 1.0000\n",
            "Epoch 41/60\n",
            "25/25 [==============================] - 22s 878ms/step - loss: 7.4973e-05 - accuracy: 1.0000\n",
            "Epoch 42/60\n",
            "25/25 [==============================] - 22s 880ms/step - loss: 6.5428e-05 - accuracy: 1.0000\n",
            "Epoch 43/60\n",
            "25/25 [==============================] - 22s 877ms/step - loss: 5.7125e-05 - accuracy: 1.0000\n",
            "Epoch 44/60\n",
            "25/25 [==============================] - 23s 903ms/step - loss: 5.0962e-05 - accuracy: 1.0000\n",
            "Epoch 45/60\n",
            "25/25 [==============================] - 22s 872ms/step - loss: 4.5903e-05 - accuracy: 1.0000\n",
            "Epoch 46/60\n",
            "25/25 [==============================] - 22s 871ms/step - loss: 4.1337e-05 - accuracy: 1.0000\n",
            "Epoch 47/60\n",
            "25/25 [==============================] - 22s 871ms/step - loss: 3.7742e-05 - accuracy: 1.0000\n",
            "Epoch 48/60\n",
            "25/25 [==============================] - 22s 872ms/step - loss: 3.4707e-05 - accuracy: 1.0000\n",
            "Epoch 49/60\n",
            "25/25 [==============================] - 22s 870ms/step - loss: 3.1876e-05 - accuracy: 1.0000\n",
            "Epoch 50/60\n",
            "25/25 [==============================] - 22s 869ms/step - loss: 2.9698e-05 - accuracy: 1.0000\n",
            "Epoch 51/60\n",
            "25/25 [==============================] - 22s 869ms/step - loss: 2.7343e-05 - accuracy: 1.0000\n",
            "Epoch 52/60\n",
            "25/25 [==============================] - 22s 868ms/step - loss: 2.5366e-05 - accuracy: 1.0000\n",
            "Epoch 53/60\n",
            "25/25 [==============================] - 22s 870ms/step - loss: 2.3617e-05 - accuracy: 1.0000\n",
            "Epoch 54/60\n",
            "25/25 [==============================] - 22s 865ms/step - loss: 2.2063e-05 - accuracy: 1.0000\n",
            "Epoch 55/60\n",
            "25/25 [==============================] - 22s 870ms/step - loss: 2.0758e-05 - accuracy: 1.0000\n",
            "Epoch 56/60\n",
            "25/25 [==============================] - 22s 872ms/step - loss: 1.9269e-05 - accuracy: 1.0000\n",
            "Epoch 57/60\n",
            "25/25 [==============================] - 22s 872ms/step - loss: 1.8118e-05 - accuracy: 1.0000\n",
            "Epoch 58/60\n",
            "25/25 [==============================] - 22s 873ms/step - loss: 1.7055e-05 - accuracy: 1.0000\n",
            "Epoch 59/60\n",
            "25/25 [==============================] - 22s 873ms/step - loss: 1.6054e-05 - accuracy: 1.0000\n",
            "Epoch 60/60\n",
            "25/25 [==============================] - 22s 871ms/step - loss: 1.5169e-05 - accuracy: 1.0000\n"
          ]
        }
      ],
      "source": [
        "model = CNN_Model()\n",
        "model.compile(optimizer = \"adam\", loss = \"binary_crossentropy\", metrics = [\"accuracy\"])\n",
        "history = model.fit([X_train_image,X_train_tabular],Y_train,epochs = 60, batch_size = 128) "
      ]
    },
    {
      "cell_type": "code",
      "execution_count": null,
      "metadata": {
        "colab": {
          "base_uri": "https://localhost:8080/"
        },
        "id": "VCx9k_WOdMJ0",
        "outputId": "209e1dbe-8eea-49b4-a482-361481f5eb81"
      },
      "outputs": [
        {
          "output_type": "stream",
          "name": "stdout",
          "text": [
            "25/25 [==============================] - 1s 39ms/step - loss: 0.1858 - accuracy: 0.9700\n"
          ]
        },
        {
          "output_type": "execute_result",
          "data": {
            "text/plain": [
              "[0.18581178784370422, 0.9700000286102295]"
            ]
          },
          "metadata": {},
          "execution_count": 23
        }
      ],
      "source": [
        "model.evaluate([X_test_image,X_test_tabular],Y_test)"
      ]
    },
    {
      "cell_type": "markdown",
      "source": [
        "## Confusion Matrix"
      ],
      "metadata": {
        "id": "svNfWvLvSsFZ"
      }
    },
    {
      "cell_type": "code",
      "execution_count": null,
      "metadata": {
        "colab": {
          "base_uri": "https://localhost:8080/",
          "height": 312
        },
        "outputId": "92cc3617-4ea8-437d-f718-a6f9b4b4da50",
        "id": "GNEHqieLSrOw"
      },
      "outputs": [
        {
          "data": {
            "text/plain": [
              "[]"
            ]
          },
          "execution_count": 77,
          "metadata": {},
          "output_type": "execute_result"
        },
        {
          "data": {
            "image/png": "[encoded data removed]",
            "text/plain": [
              "<Figure size 432x288 with 2 Axes>"
            ]
          },
          "metadata": {},
          "output_type": "display_data"
        }
      ],
      "source": [
        "y_pred_cnn = model.predict([X_test_image,X_test_tabular])\n",
        "y_pred_cnn = np.round(y_pred_cnn)\n",
        "y_pred_cnn = np.ravel(y_pred_cnn)\n",
        "\n",
        "cm = confusion_matrix(Y_test,y_pred_cnn)\n",
        "\n",
        "sns.heatmap(cm,annot = True,fmt = \".3g\")\n",
        "plt.ylabel(\"True Label\")\n",
        "plt.xlabel(\"Predicted Label\")\n",
        "plt.title(\"Confusion Matrix\")\n",
        "plt.savefig(\"/content/drive/MyDrive/Virtual Consultant (FYP)/Covid Tabular Data/Confusion Matrix of CNN.png\",dpi = 1200)\n",
        "plt.plot()"
      ]
    },
    {
      "cell_type": "markdown",
      "source": [
        "## Training Loss & Accuracy"
      ],
      "metadata": {
        "id": "h1vId92tS4ud"
      }
    },
    {
      "cell_type": "code",
      "execution_count": null,
      "metadata": {
        "colab": {
          "base_uri": "https://localhost:8080/",
          "height": 350
        },
        "outputId": "4369e32f-dfe0-4f7c-9df4-ff4b565c2fca",
        "id": "yrYuXUHOS34e"
      },
      "outputs": [
        {
          "data": {
            "image/png": "[encoded data removed]",
            "text/plain": [
              "<Figure size 360x360 with 1 Axes>"
            ]
          },
          "metadata": {},
          "output_type": "display_data"
        }
      ],
      "source": [
        "plt.figure(figsize = (5,5))\n",
        "plt.plot(history.history['loss'])\n",
        "\n",
        "plt.plot(history.history['accuracy'])\n",
        "plt.title('Training Loss and Accuracy')\n",
        "plt.ylabel('Accuracy and Loss')\n",
        "plt.xlabel('Epochs')\n",
        "plt.legend(['Loss', 'Accuracy'], loc='lower left')\n",
        "plt.show()"
      ]
    },
    {
      "cell_type": "code",
      "source": [
        "#model.save(\"/content/drive/MyDrive/Virtual Consultant (FYP)/Covid Tabular Data/cnn_with 97%.h5\")"
      ],
      "metadata": {
        "id": "iQ22qNwpHBjE"
      },
      "execution_count": null,
      "outputs": []
    },
    {
      "cell_type": "markdown",
      "metadata": {
        "id": "dHcURVx0Go4w"
      },
      "source": [
        "#Convolutional Neural Network\n",
        "\n",
        "\n",
        "*   Conv2D for Images\n",
        "*   Conv1D for Tabular Data\n",
        "\n"
      ]
    },
    {
      "cell_type": "code",
      "execution_count": null,
      "metadata": {
        "id": "3q_IVWtHF6Xp"
      },
      "outputs": [],
      "source": [
        "def CNN_Model(image_shape = (128,128,3), tabular_shape = (10,1)):\n",
        "  #Layers for Image\n",
        "  image_input_layer = Input(shape = image_shape)\n",
        "  x = Conv2D(filters = 16, kernel_size = (3,3), padding = \"same\", strides = 2, activation = \"relu\")(image_input_layer)\n",
        "  x = MaxPooling2D(pool_size = (2,2))(x)\n",
        "\n",
        "  x = Conv2D(filters = 32, kernel_size = (3,3), padding = \"same\", strides = 2, activation = \"relu\")(x)\n",
        "  x = Conv2D(filters = 32, kernel_size = (3,3), padding = \"same\", strides = 1, activation = \"relu\")(x)\n",
        "  x = MaxPooling2D(pool_size = (2,2))(x)\n",
        "\n",
        "  x = Conv2D(filters = 64, kernel_size = (3,3), padding = \"same\", strides = 2, activation = \"relu\")(x)\n",
        "  x = Conv2D(filters = 64, kernel_size = (3,3), padding = \"same\", strides = 1, activation = \"relu\")(x)\n",
        "  x = Conv2D(filters = 64, kernel_size = (3,3), padding = \"same\", strides = 1, activation = \"relu\")(x)\n",
        "  x = MaxPooling2D(pool_size = (2,2))(x)\n",
        "\n",
        "  x = Conv2D(filters = 128, kernel_size = (3,3), padding = \"same\", strides = 2, activation = \"relu\")(x)\n",
        "  x = Conv2D(filters = 128, kernel_size = (3,3), padding = \"same\", strides = 1, activation = \"relu\")(x)\n",
        "  x = MaxPooling2D(pool_size = (2,2), padding = \"same\")(x)\n",
        "\n",
        "  x = Conv2D(filters = 256, kernel_size = (3,3), padding = \"same\", strides = 2, activation = \"relu\")(x)\n",
        "  x = Conv2D(filters = 256, kernel_size = (3,3), padding = \"same\", strides = 1, activation = \"relu\")(x)\n",
        "  x = Conv2D(filters = 256, kernel_size = (3,3), padding = \"same\", strides = 1, activation = \"relu\")(x)\n",
        "  x = MaxPooling2D(pool_size = (2,2), padding = \"same\")(x)\n",
        "\n",
        "  x = Conv2D(filters = 128, kernel_size = (3,3), padding = \"same\", strides = 2, activation = \"relu\")(x)\n",
        "  x = Conv2D(filters = 64, kernel_size = (3,3), padding = \"same\", strides = 1, activation = \"relu\")(x)\n",
        "  x = MaxPooling2D(pool_size = (2,2), padding = \"same\")(x)\n",
        "\n",
        "  image_flat = Flatten()(x)\n",
        "\n",
        "\n",
        "  #Layers for Tabular Data\n",
        "  tabular_input_layer = Input(shape = tabular_shape)\n",
        "  y = Conv1D(filters = 16, kernel_size = 3, padding = \"same\", strides = 2, activation = \"relu\")(tabular_input_layer)\n",
        "  y = MaxPooling1D(pool_size = 2,padding = \"same\")(y)\n",
        "\n",
        "  y = Conv1D(filters = 32, kernel_size = 3, padding = \"same\", strides = 2, activation = \"relu\")(y)\n",
        "  y = Conv1D(filters = 32, kernel_size = 3, padding = \"same\", strides = 1, activation = \"relu\")(y)\n",
        "  y = MaxPooling1D(pool_size = 2,padding = \"same\")(y)\n",
        "\n",
        "  y = Conv1D(filters = 64, kernel_size = 3, padding = \"same\", strides = 2, activation = \"relu\")(y)\n",
        "  y = Conv1D(filters = 64, kernel_size = 3, padding = \"same\", strides = 1, activation = \"relu\")(y)\n",
        "  y = Conv1D(filters = 64, kernel_size = 3, padding = \"same\", strides = 1, activation = \"relu\")(y)\n",
        "  y = MaxPooling1D(pool_size = 2,padding = \"same\")(y)\n",
        "  \"\"\"  \n",
        "  y = Conv1D(filters = 128, kernel_size = 3, padding = \"same\", strides = 2, activation = \"relu\")(y)\n",
        "  y = Conv1D(filters = 128, kernel_size = 3, padding = \"same\", strides = 1, activation = \"relu\")(y)\n",
        "  y = MaxPooling1D(pool_size = 2,padding = \"same\")(y)\n",
        "\n",
        "  y = Conv1D(filters = 256, kernel_size = 3, padding = \"same\", strides = 2, activation = \"relu\")(y)\n",
        "  y = Conv1D(filters = 256, kernel_size = 3, padding = \"same\", strides = 1, activation = \"relu\")(y)\n",
        "  y = Conv1D(filters = 256, kernel_size = 3, padding = \"same\", strides = 1, activation = \"relu\")(y)\n",
        "  y = MaxPooling1D(pool_size = 2,padding = \"same\")(y)\n",
        "\n",
        "  y = Conv1D(filters = 128, kernel_size = 3, padding = \"same\", strides = 2, activation = \"relu\")(y)\n",
        "  y = Conv1D(filters = 64, kernel_size = 3, padding = \"same\", strides = 1, activation = \"relu\")(y)\n",
        "  y = MaxPooling1D(pool_size = 2,padding = \"same\")(y)\n",
        "\"\"\"\n",
        "  tabular_flat = Flatten()(y)\n",
        "\n",
        "  concat = concatenate([image_flat,tabular_flat])\n",
        "  dense = Dense(4,activation = \"relu\")(concat)\n",
        "  output_layer = Dense(1,activation = \"sigmoid\")(dense)\n",
        "\n",
        "  model = Model(inputs = [image_input_layer, tabular_input_layer], outputs = output_layer)\n",
        "  return model"
      ]
    },
    {
      "cell_type": "code",
      "execution_count": null,
      "metadata": {
        "colab": {
          "base_uri": "https://localhost:8080/"
        },
        "id": "xl8gP5zFGnsZ",
        "outputId": "2897b3b0-da58-440f-c90e-9cf710fee8e7"
      },
      "outputs": [
        {
          "output_type": "stream",
          "name": "stdout",
          "text": [
            "Epoch 1/20\n",
            "25/25 [==============================] - 24s 962ms/step - loss: 1.3129e-05 - accuracy: 1.0000\n",
            "Epoch 2/20\n",
            "25/25 [==============================] - 22s 871ms/step - loss: 1.2484e-05 - accuracy: 1.0000\n",
            "Epoch 3/20\n",
            "25/25 [==============================] - 22s 869ms/step - loss: 1.2023e-05 - accuracy: 1.0000\n",
            "Epoch 4/20\n",
            "25/25 [==============================] - 23s 938ms/step - loss: 1.1369e-05 - accuracy: 1.0000\n",
            "Epoch 5/20\n",
            "25/25 [==============================] - 22s 891ms/step - loss: 1.0879e-05 - accuracy: 1.0000\n",
            "Epoch 6/20\n",
            "25/25 [==============================] - 23s 891ms/step - loss: 1.0397e-05 - accuracy: 1.0000\n",
            "Epoch 7/20\n",
            "25/25 [==============================] - 22s 889ms/step - loss: 9.9644e-06 - accuracy: 1.0000\n",
            "Epoch 8/20\n",
            "25/25 [==============================] - 23s 923ms/step - loss: 9.4945e-06 - accuracy: 1.0000\n",
            "Epoch 9/20\n",
            "25/25 [==============================] - 22s 890ms/step - loss: 9.1359e-06 - accuracy: 1.0000\n",
            "Epoch 10/20\n",
            "25/25 [==============================] - 23s 912ms/step - loss: 8.7397e-06 - accuracy: 1.0000\n",
            "Epoch 11/20\n",
            "25/25 [==============================] - 22s 893ms/step - loss: 8.4132e-06 - accuracy: 1.0000\n",
            "Epoch 12/20\n",
            "25/25 [==============================] - 22s 888ms/step - loss: 8.0587e-06 - accuracy: 1.0000\n",
            "Epoch 13/20\n",
            "25/25 [==============================] - 22s 896ms/step - loss: 7.7622e-06 - accuracy: 1.0000\n",
            "Epoch 14/20\n",
            "25/25 [==============================] - 22s 894ms/step - loss: 7.4530e-06 - accuracy: 1.0000\n",
            "Epoch 15/20\n",
            "25/25 [==============================] - 22s 893ms/step - loss: 7.2028e-06 - accuracy: 1.0000\n",
            "Epoch 16/20\n",
            "25/25 [==============================] - 22s 892ms/step - loss: 6.9460e-06 - accuracy: 1.0000\n",
            "Epoch 17/20\n",
            "25/25 [==============================] - 22s 898ms/step - loss: 6.7000e-06 - accuracy: 1.0000\n",
            "Epoch 18/20\n",
            "25/25 [==============================] - 22s 894ms/step - loss: 6.4636e-06 - accuracy: 1.0000\n",
            "Epoch 19/20\n",
            "25/25 [==============================] - 22s 893ms/step - loss: 6.2438e-06 - accuracy: 1.0000\n",
            "Epoch 20/20\n",
            "25/25 [==============================] - 22s 894ms/step - loss: 6.0483e-06 - accuracy: 1.0000\n"
          ]
        }
      ],
      "source": [
        "model = CNN_Model()\n",
        "model.compile(optimizer = \"adam\", loss = \"binary_crossentropy\", metrics = [\"accuracy\"])\n",
        "history = model.fit([X_train_image,X_train_tabular],Y_train,epochs = 20, batch_size = 128) "
      ]
    },
    {
      "cell_type": "code",
      "source": [
        "model.evaluate([X_test_image,X_test_tabular],Y_test)"
      ],
      "metadata": {
        "colab": {
          "base_uri": "https://localhost:8080/"
        },
        "id": "WLQ2bBMFb49B",
        "outputId": "3781ca1a-88d7-4f31-d69c-7c442992fc1f"
      },
      "execution_count": null,
      "outputs": [
        {
          "output_type": "stream",
          "name": "stdout",
          "text": [
            "25/25 [==============================] - 1s 39ms/step - loss: 0.3600 - accuracy: 0.9538\n"
          ]
        },
        {
          "output_type": "execute_result",
          "data": {
            "text/plain": [
              "[0.36002498865127563, 0.9537500143051147]"
            ]
          },
          "metadata": {},
          "execution_count": 17
        }
      ]
    },
    {
      "cell_type": "markdown",
      "source": [
        "## Training & Validation Loss"
      ],
      "metadata": {
        "id": "q5rco-JaF3jA"
      }
    },
    {
      "cell_type": "code",
      "execution_count": null,
      "metadata": {
        "colab": {
          "base_uri": "https://localhost:8080/",
          "height": 350
        },
        "id": "D3Rv4PEoMrSC",
        "outputId": "d7882aba-ca3a-43ce-c254-c1335d84fd9a"
      },
      "outputs": [
        {
          "data": {
            "image/png": "[encoded data removed]",
            "text/plain": [
              "<Figure size 360x360 with 1 Axes>"
            ]
          },
          "metadata": {},
          "output_type": "display_data"
        }
      ],
      "source": [
        "plt.figure(figsize = (5,5))\n",
        "plt.plot(history.history[\"loss\"])\n",
        "plt.plot(history.history[\"val_loss\"])\n",
        "plt.title(\"Training and Validation Loss\")\n",
        "plt.ylabel(\"Loss\")\n",
        "plt.xlabel(\"Epochs\")\n",
        "plt.legend([\"Training\",\"Validation\"], loc='upper right')\n",
        "plt.savefig(\"/content/drive/MyDrive/Virtual Consultant (FYP)/Covid Tabular Data/Loss of CNN.png\",dpi = 1200)\n",
        "plt.show()"
      ]
    },
    {
      "cell_type": "markdown",
      "source": [
        "## Training & Validation Accuracy"
      ],
      "metadata": {
        "id": "2cvDPm0nF9I5"
      }
    },
    {
      "cell_type": "code",
      "execution_count": null,
      "metadata": {
        "colab": {
          "base_uri": "https://localhost:8080/",
          "height": 350
        },
        "id": "0lReW0jr49Ce",
        "outputId": "79398e48-0cd6-4fb5-8096-2959924ac9eb"
      },
      "outputs": [
        {
          "data": {
            "image/png": "[encoded data removed]",
            "text/plain": [
              "<Figure size 360x360 with 1 Axes>"
            ]
          },
          "metadata": {},
          "output_type": "display_data"
        }
      ],
      "source": [
        "plt.figure(figsize = (5,5))\n",
        "plt.plot(history.history[\"accuracy\"])\n",
        "plt.plot(history.history[\"val_accuracy\"])\n",
        "plt.title(\"Training and Validation Accuracy\")\n",
        "plt.ylabel(\"Accuracy\")\n",
        "plt.xlabel(\"Epochs\")\n",
        "#plt.legend([\"Training\",\"Validation\"], loc='lower right')\n",
        "plt.savefig(\"/content/drive/MyDrive/Virtual Consultant (FYP)/Covid Tabular Data/Accuracy of CNN.png\",dpi = 1200)\n",
        "plt.show()"
      ]
    },
    {
      "cell_type": "markdown",
      "source": [
        "## Confusion Matrix"
      ],
      "metadata": {
        "id": "guKcvdO2GAc9"
      }
    },
    {
      "cell_type": "code",
      "execution_count": null,
      "metadata": {
        "colab": {
          "base_uri": "https://localhost:8080/",
          "height": 312
        },
        "id": "sCVu-kBGcpZp",
        "outputId": "f7090394-49d8-4271-f8c6-132de1b0a419"
      },
      "outputs": [
        {
          "output_type": "execute_result",
          "data": {
            "text/plain": [
              "[]"
            ]
          },
          "metadata": {},
          "execution_count": 18
        },
        {
          "output_type": "display_data",
          "data": {
            "text/plain": [
              "<Figure size 432x288 with 2 Axes>"
            ],
            "image/png": "[encoded data removed]"
          },
          "metadata": {
            "needs_background": "light"
          }
        }
      ],
      "source": [
        "y_pred_cnn = model.predict([X_test_image,X_test_tabular])\n",
        "y_pred_cnn = np.round(y_pred_cnn)\n",
        "y_pred_cnn = np.ravel(y_pred_cnn)\n",
        "\n",
        "cm = confusion_matrix(Y_test,y_pred_cnn)\n",
        "\n",
        "sns.heatmap(cm,annot = True,fmt = \".3g\")\n",
        "plt.ylabel(\"True Label\")\n",
        "plt.xlabel(\"Predicted Label\")\n",
        "plt.title(\"Confusion Matrix\")\n",
        "plt.savefig(\"/content/drive/MyDrive/Virtual Consultant (FYP)/Covid Tabular Data/Confusion Matrix of CNN.png\",dpi = 1200)\n",
        "plt.plot()"
      ]
    },
    {
      "cell_type": "markdown",
      "metadata": {
        "id": "dX7DuGnEUrRC"
      },
      "source": [
        "#Pre-trained ResNet50"
      ]
    },
    {
      "cell_type": "code",
      "execution_count": null,
      "metadata": {
        "id": "a8Krb3gDVU4K"
      },
      "outputs": [],
      "source": [
        "def pre_trained_model_resnet50(input = (128,128,3)):\n",
        "  resnet50 = ResNet50(include_top = False, weights=\"imagenet\",input_shape = (128,128,3))\n",
        "\n",
        "  for layer in resnet50.layers:\n",
        "    layer.trainable = False\n",
        "  \n",
        "  output_base = resnet50.output\n",
        "  Flat = Flatten()(output_base)\n",
        "  dense1 = Dense(256,activation = \"relu\")(Flat)\n",
        "  dense2 = Dense(128,activation = \"relu\")(dense1)\n",
        "  dense3 = Dense(64,activation = \"relu\")(dense2)\n",
        "\n",
        "\n",
        "  input_tab = Input(shape = (10,))\n",
        "  dense4 = Dense(256,activation = \"relu\")(input_tab)\n",
        "  dense5 = Dense(128,activation = \"relu\")(dense4)\n",
        "  dense6 = Dense(64,activation = \"relu\")(dense5)\n",
        "\n",
        "  concat = concatenate([dense3,dense6])\n",
        "\n",
        "  dense7 = Dense(64,activation = \"relu\")(concat)\n",
        "  dense8 = Dense(32,activation = \"relu\")(dense7)\n",
        "  output = Dense(1,activation = \"sigmoid\")(dense8)\n",
        "\n",
        "  model = Model(inputs = [resnet50.input,input_tab],outputs = output)\n",
        "  return model"
      ]
    },
    {
      "cell_type": "code",
      "execution_count": null,
      "metadata": {
        "colab": {
          "base_uri": "https://localhost:8080/"
        },
        "id": "vT6FMLvoXdKn",
        "outputId": "c6680eae-ec30-4467-ef2e-53d2d5b1ffbf"
      },
      "outputs": [
        {
          "name": "stdout",
          "output_type": "stream",
          "text": [
            "Downloading data from https://storage.googleapis.com/tensorflow/keras-applications/resnet/resnet50_weights_tf_dim_ordering_tf_kernels_notop.h5\n",
            "94773248/94765736 [==============================] - 1s 0us/step\n",
            "94781440/94765736 [==============================] - 1s 0us/step\n",
            "Model: \"model\"\n",
            "__________________________________________________________________________________________________\n",
            " Layer (type)                   Output Shape         Param #     Connected to                     \n",
            "==================================================================================================\n",
            " input_1 (InputLayer)           [(None, 128, 128, 3  0           []                               \n",
            "                                )]                                                                \n",
            "                                                                                                  \n",
            " conv1_pad (ZeroPadding2D)      (None, 134, 134, 3)  0           ['input_1[0][0]']                \n",
            "                                                                                                  \n",
            " conv1_conv (Conv2D)            (None, 64, 64, 64)   9472        ['conv1_pad[0][0]']              \n",
            "                                                                                                  \n",
            " conv1_bn (BatchNormalization)  (None, 64, 64, 64)   256         ['conv1_conv[0][0]']             \n",
            "                                                                                                  \n",
            " conv1_relu (Activation)        (None, 64, 64, 64)   0           ['conv1_bn[0][0]']               \n",
            "                                                                                                  \n",
            " pool1_pad (ZeroPadding2D)      (None, 66, 66, 64)   0           ['conv1_relu[0][0]']             \n",
            "                                                                                                  \n",
            " pool1_pool (MaxPooling2D)      (None, 32, 32, 64)   0           ['pool1_pad[0][0]']              \n",
            "                                                                                                  \n",
            " conv2_block1_1_conv (Conv2D)   (None, 32, 32, 64)   4160        ['pool1_pool[0][0]']             \n",
            "                                                                                                  \n",
            " conv2_block1_1_bn (BatchNormal  (None, 32, 32, 64)  256         ['conv2_block1_1_conv[0][0]']    \n",
            " ization)                                                                                         \n",
            "                                                                                                  \n",
            " conv2_block1_1_relu (Activatio  (None, 32, 32, 64)  0           ['conv2_block1_1_bn[0][0]']      \n",
            " n)                                                                                               \n",
            "                                                                                                  \n",
            " conv2_block1_2_conv (Conv2D)   (None, 32, 32, 64)   36928       ['conv2_block1_1_relu[0][0]']    \n",
            "                                                                                                  \n",
            " conv2_block1_2_bn (BatchNormal  (None, 32, 32, 64)  256         ['conv2_block1_2_conv[0][0]']    \n",
            " ization)                                                                                         \n",
            "                                                                                                  \n",
            " conv2_block1_2_relu (Activatio  (None, 32, 32, 64)  0           ['conv2_block1_2_bn[0][0]']      \n",
            " n)                                                                                               \n",
            "                                                                                                  \n",
            " conv2_block1_0_conv (Conv2D)   (None, 32, 32, 256)  16640       ['pool1_pool[0][0]']             \n",
            "                                                                                                  \n",
            " conv2_block1_3_conv (Conv2D)   (None, 32, 32, 256)  16640       ['conv2_block1_2_relu[0][0]']    \n",
            "                                                                                                  \n",
            " conv2_block1_0_bn (BatchNormal  (None, 32, 32, 256)  1024       ['conv2_block1_0_conv[0][0]']    \n",
            " ization)                                                                                         \n",
            "                                                                                                  \n",
            " conv2_block1_3_bn (BatchNormal  (None, 32, 32, 256)  1024       ['conv2_block1_3_conv[0][0]']    \n",
            " ization)                                                                                         \n",
            "                                                                                                  \n",
            " conv2_block1_add (Add)         (None, 32, 32, 256)  0           ['conv2_block1_0_bn[0][0]',      \n",
            "                                                                  'conv2_block1_3_bn[0][0]']      \n",
            "                                                                                                  \n",
            " conv2_block1_out (Activation)  (None, 32, 32, 256)  0           ['conv2_block1_add[0][0]']       \n",
            "                                                                                                  \n",
            " conv2_block2_1_conv (Conv2D)   (None, 32, 32, 64)   16448       ['conv2_block1_out[0][0]']       \n",
            "                                                                                                  \n",
            " conv2_block2_1_bn (BatchNormal  (None, 32, 32, 64)  256         ['conv2_block2_1_conv[0][0]']    \n",
            " ization)                                                                                         \n",
            "                                                                                                  \n",
            " conv2_block2_1_relu (Activatio  (None, 32, 32, 64)  0           ['conv2_block2_1_bn[0][0]']      \n",
            " n)                                                                                               \n",
            "                                                                                                  \n",
            " conv2_block2_2_conv (Conv2D)   (None, 32, 32, 64)   36928       ['conv2_block2_1_relu[0][0]']    \n",
            "                                                                                                  \n",
            " conv2_block2_2_bn (BatchNormal  (None, 32, 32, 64)  256         ['conv2_block2_2_conv[0][0]']    \n",
            " ization)                                                                                         \n",
            "                                                                                                  \n",
            " conv2_block2_2_relu (Activatio  (None, 32, 32, 64)  0           ['conv2_block2_2_bn[0][0]']      \n",
            " n)                                                                                               \n",
            "                                                                                                  \n",
            " conv2_block2_3_conv (Conv2D)   (None, 32, 32, 256)  16640       ['conv2_block2_2_relu[0][0]']    \n",
            "                                                                                                  \n",
            " conv2_block2_3_bn (BatchNormal  (None, 32, 32, 256)  1024       ['conv2_block2_3_conv[0][0]']    \n",
            " ization)                                                                                         \n",
            "                                                                                                  \n",
            " conv2_block2_add (Add)         (None, 32, 32, 256)  0           ['conv2_block1_out[0][0]',       \n",
            "                                                                  'conv2_block2_3_bn[0][0]']      \n",
            "                                                                                                  \n",
            " conv2_block2_out (Activation)  (None, 32, 32, 256)  0           ['conv2_block2_add[0][0]']       \n",
            "                                                                                                  \n",
            " conv2_block3_1_conv (Conv2D)   (None, 32, 32, 64)   16448       ['conv2_block2_out[0][0]']       \n",
            "                                                                                                  \n",
            " conv2_block3_1_bn (BatchNormal  (None, 32, 32, 64)  256         ['conv2_block3_1_conv[0][0]']    \n",
            " ization)                                                                                         \n",
            "                                                                                                  \n",
            " conv2_block3_1_relu (Activatio  (None, 32, 32, 64)  0           ['conv2_block3_1_bn[0][0]']      \n",
            " n)                                                                                               \n",
            "                                                                                                  \n",
            " conv2_block3_2_conv (Conv2D)   (None, 32, 32, 64)   36928       ['conv2_block3_1_relu[0][0]']    \n",
            "                                                                                                  \n",
            " conv2_block3_2_bn (BatchNormal  (None, 32, 32, 64)  256         ['conv2_block3_2_conv[0][0]']    \n",
            " ization)                                                                                         \n",
            "                                                                                                  \n",
            " conv2_block3_2_relu (Activatio  (None, 32, 32, 64)  0           ['conv2_block3_2_bn[0][0]']      \n",
            " n)                                                                                               \n",
            "                                                                                                  \n",
            " conv2_block3_3_conv (Conv2D)   (None, 32, 32, 256)  16640       ['conv2_block3_2_relu[0][0]']    \n",
            "                                                                                                  \n",
            " conv2_block3_3_bn (BatchNormal  (None, 32, 32, 256)  1024       ['conv2_block3_3_conv[0][0]']    \n",
            " ization)                                                                                         \n",
            "                                                                                                  \n",
            " conv2_block3_add (Add)         (None, 32, 32, 256)  0           ['conv2_block2_out[0][0]',       \n",
            "                                                                  'conv2_block3_3_bn[0][0]']      \n",
            "                                                                                                  \n",
            " conv2_block3_out (Activation)  (None, 32, 32, 256)  0           ['conv2_block3_add[0][0]']       \n",
            "                                                                                                  \n",
            " conv3_block1_1_conv (Conv2D)   (None, 16, 16, 128)  32896       ['conv2_block3_out[0][0]']       \n",
            "                                                                                                  \n",
            " conv3_block1_1_bn (BatchNormal  (None, 16, 16, 128)  512        ['conv3_block1_1_conv[0][0]']    \n",
            " ization)                                                                                         \n",
            "                                                                                                  \n",
            " conv3_block1_1_relu (Activatio  (None, 16, 16, 128)  0          ['conv3_block1_1_bn[0][0]']      \n",
            " n)                                                                                               \n",
            "                                                                                                  \n",
            " conv3_block1_2_conv (Conv2D)   (None, 16, 16, 128)  147584      ['conv3_block1_1_relu[0][0]']    \n",
            "                                                                                                  \n",
            " conv3_block1_2_bn (BatchNormal  (None, 16, 16, 128)  512        ['conv3_block1_2_conv[0][0]']    \n",
            " ization)                                                                                         \n",
            "                                                                                                  \n",
            " conv3_block1_2_relu (Activatio  (None, 16, 16, 128)  0          ['conv3_block1_2_bn[0][0]']      \n",
            " n)                                                                                               \n",
            "                                                                                                  \n",
            " conv3_block1_0_conv (Conv2D)   (None, 16, 16, 512)  131584      ['conv2_block3_out[0][0]']       \n",
            "                                                                                                  \n",
            " conv3_block1_3_conv (Conv2D)   (None, 16, 16, 512)  66048       ['conv3_block1_2_relu[0][0]']    \n",
            "                                                                                                  \n",
            " conv3_block1_0_bn (BatchNormal  (None, 16, 16, 512)  2048       ['conv3_block1_0_conv[0][0]']    \n",
            " ization)                                                                                         \n",
            "                                                                                                  \n",
            " conv3_block1_3_bn (BatchNormal  (None, 16, 16, 512)  2048       ['conv3_block1_3_conv[0][0]']    \n",
            " ization)                                                                                         \n",
            "                                                                                                  \n",
            " conv3_block1_add (Add)         (None, 16, 16, 512)  0           ['conv3_block1_0_bn[0][0]',      \n",
            "                                                                  'conv3_block1_3_bn[0][0]']      \n",
            "                                                                                                  \n",
            " conv3_block1_out (Activation)  (None, 16, 16, 512)  0           ['conv3_block1_add[0][0]']       \n",
            "                                                                                                  \n",
            " conv3_block2_1_conv (Conv2D)   (None, 16, 16, 128)  65664       ['conv3_block1_out[0][0]']       \n",
            "                                                                                                  \n",
            " conv3_block2_1_bn (BatchNormal  (None, 16, 16, 128)  512        ['conv3_block2_1_conv[0][0]']    \n",
            " ization)                                                                                         \n",
            "                                                                                                  \n",
            " conv3_block2_1_relu (Activatio  (None, 16, 16, 128)  0          ['conv3_block2_1_bn[0][0]']      \n",
            " n)                                                                                               \n",
            "                                                                                                  \n",
            " conv3_block2_2_conv (Conv2D)   (None, 16, 16, 128)  147584      ['conv3_block2_1_relu[0][0]']    \n",
            "                                                                                                  \n",
            " conv3_block2_2_bn (BatchNormal  (None, 16, 16, 128)  512        ['conv3_block2_2_conv[0][0]']    \n",
            " ization)                                                                                         \n",
            "                                                                                                  \n",
            " conv3_block2_2_relu (Activatio  (None, 16, 16, 128)  0          ['conv3_block2_2_bn[0][0]']      \n",
            " n)                                                                                               \n",
            "                                                                                                  \n",
            " conv3_block2_3_conv (Conv2D)   (None, 16, 16, 512)  66048       ['conv3_block2_2_relu[0][0]']    \n",
            "                                                                                                  \n",
            " conv3_block2_3_bn (BatchNormal  (None, 16, 16, 512)  2048       ['conv3_block2_3_conv[0][0]']    \n",
            " ization)                                                                                         \n",
            "                                                                                                  \n",
            " conv3_block2_add (Add)         (None, 16, 16, 512)  0           ['conv3_block1_out[0][0]',       \n",
            "                                                                  'conv3_block2_3_bn[0][0]']      \n",
            "                                                                                                  \n",
            " conv3_block2_out (Activation)  (None, 16, 16, 512)  0           ['conv3_block2_add[0][0]']       \n",
            "                                                                                                  \n",
            " conv3_block3_1_conv (Conv2D)   (None, 16, 16, 128)  65664       ['conv3_block2_out[0][0]']       \n",
            "                                                                                                  \n",
            " conv3_block3_1_bn (BatchNormal  (None, 16, 16, 128)  512        ['conv3_block3_1_conv[0][0]']    \n",
            " ization)                                                                                         \n",
            "                                                                                                  \n",
            " conv3_block3_1_relu (Activatio  (None, 16, 16, 128)  0          ['conv3_block3_1_bn[0][0]']      \n",
            " n)                                                                                               \n",
            "                                                                                                  \n",
            " conv3_block3_2_conv (Conv2D)   (None, 16, 16, 128)  147584      ['conv3_block3_1_relu[0][0]']    \n",
            "                                                                                                  \n",
            " conv3_block3_2_bn (BatchNormal  (None, 16, 16, 128)  512        ['conv3_block3_2_conv[0][0]']    \n",
            " ization)                                                                                         \n",
            "                                                                                                  \n",
            " conv3_block3_2_relu (Activatio  (None, 16, 16, 128)  0          ['conv3_block3_2_bn[0][0]']      \n",
            " n)                                                                                               \n",
            "                                                                                                  \n",
            " conv3_block3_3_conv (Conv2D)   (None, 16, 16, 512)  66048       ['conv3_block3_2_relu[0][0]']    \n",
            "                                                                                                  \n",
            " conv3_block3_3_bn (BatchNormal  (None, 16, 16, 512)  2048       ['conv3_block3_3_conv[0][0]']    \n",
            " ization)                                                                                         \n",
            "                                                                                                  \n",
            " conv3_block3_add (Add)         (None, 16, 16, 512)  0           ['conv3_block2_out[0][0]',       \n",
            "                                                                  'conv3_block3_3_bn[0][0]']      \n",
            "                                                                                                  \n",
            " conv3_block3_out (Activation)  (None, 16, 16, 512)  0           ['conv3_block3_add[0][0]']       \n",
            "                                                                                                  \n",
            " conv3_block4_1_conv (Conv2D)   (None, 16, 16, 128)  65664       ['conv3_block3_out[0][0]']       \n",
            "                                                                                                  \n",
            " conv3_block4_1_bn (BatchNormal  (None, 16, 16, 128)  512        ['conv3_block4_1_conv[0][0]']    \n",
            " ization)                                                                                         \n",
            "                                                                                                  \n",
            " conv3_block4_1_relu (Activatio  (None, 16, 16, 128)  0          ['conv3_block4_1_bn[0][0]']      \n",
            " n)                                                                                               \n",
            "                                                                                                  \n",
            " conv3_block4_2_conv (Conv2D)   (None, 16, 16, 128)  147584      ['conv3_block4_1_relu[0][0]']    \n",
            "                                                                                                  \n",
            " conv3_block4_2_bn (BatchNormal  (None, 16, 16, 128)  512        ['conv3_block4_2_conv[0][0]']    \n",
            " ization)                                                                                         \n",
            "                                                                                                  \n",
            " conv3_block4_2_relu (Activatio  (None, 16, 16, 128)  0          ['conv3_block4_2_bn[0][0]']      \n",
            " n)                                                                                               \n",
            "                                                                                                  \n",
            " conv3_block4_3_conv (Conv2D)   (None, 16, 16, 512)  66048       ['conv3_block4_2_relu[0][0]']    \n",
            "                                                                                                  \n",
            " conv3_block4_3_bn (BatchNormal  (None, 16, 16, 512)  2048       ['conv3_block4_3_conv[0][0]']    \n",
            " ization)                                                                                         \n",
            "                                                                                                  \n",
            " conv3_block4_add (Add)         (None, 16, 16, 512)  0           ['conv3_block3_out[0][0]',       \n",
            "                                                                  'conv3_block4_3_bn[0][0]']      \n",
            "                                                                                                  \n",
            " conv3_block4_out (Activation)  (None, 16, 16, 512)  0           ['conv3_block4_add[0][0]']       \n",
            "                                                                                                  \n",
            " conv4_block1_1_conv (Conv2D)   (None, 8, 8, 256)    131328      ['conv3_block4_out[0][0]']       \n",
            "                                                                                                  \n",
            " conv4_block1_1_bn (BatchNormal  (None, 8, 8, 256)   1024        ['conv4_block1_1_conv[0][0]']    \n",
            " ization)                                                                                         \n",
            "                                                                                                  \n",
            " conv4_block1_1_relu (Activatio  (None, 8, 8, 256)   0           ['conv4_block1_1_bn[0][0]']      \n",
            " n)                                                                                               \n",
            "                                                                                                  \n",
            " conv4_block1_2_conv (Conv2D)   (None, 8, 8, 256)    590080      ['conv4_block1_1_relu[0][0]']    \n",
            "                                                                                                  \n",
            " conv4_block1_2_bn (BatchNormal  (None, 8, 8, 256)   1024        ['conv4_block1_2_conv[0][0]']    \n",
            " ization)                                                                                         \n",
            "                                                                                                  \n",
            " conv4_block1_2_relu (Activatio  (None, 8, 8, 256)   0           ['conv4_block1_2_bn[0][0]']      \n",
            " n)                                                                                               \n",
            "                                                                                                  \n",
            " conv4_block1_0_conv (Conv2D)   (None, 8, 8, 1024)   525312      ['conv3_block4_out[0][0]']       \n",
            "                                                                                                  \n",
            " conv4_block1_3_conv (Conv2D)   (None, 8, 8, 1024)   263168      ['conv4_block1_2_relu[0][0]']    \n",
            "                                                                                                  \n",
            " conv4_block1_0_bn (BatchNormal  (None, 8, 8, 1024)  4096        ['conv4_block1_0_conv[0][0]']    \n",
            " ization)                                                                                         \n",
            "                                                                                                  \n",
            " conv4_block1_3_bn (BatchNormal  (None, 8, 8, 1024)  4096        ['conv4_block1_3_conv[0][0]']    \n",
            " ization)                                                                                         \n",
            "                                                                                                  \n",
            " conv4_block1_add (Add)         (None, 8, 8, 1024)   0           ['conv4_block1_0_bn[0][0]',      \n",
            "                                                                  'conv4_block1_3_bn[0][0]']      \n",
            "                                                                                                  \n",
            " conv4_block1_out (Activation)  (None, 8, 8, 1024)   0           ['conv4_block1_add[0][0]']       \n",
            "                                                                                                  \n",
            " conv4_block2_1_conv (Conv2D)   (None, 8, 8, 256)    262400      ['conv4_block1_out[0][0]']       \n",
            "                                                                                                  \n",
            " conv4_block2_1_bn (BatchNormal  (None, 8, 8, 256)   1024        ['conv4_block2_1_conv[0][0]']    \n",
            " ization)                                                                                         \n",
            "                                                                                                  \n",
            " conv4_block2_1_relu (Activatio  (None, 8, 8, 256)   0           ['conv4_block2_1_bn[0][0]']      \n",
            " n)                                                                                               \n",
            "                                                                                                  \n",
            " conv4_block2_2_conv (Conv2D)   (None, 8, 8, 256)    590080      ['conv4_block2_1_relu[0][0]']    \n",
            "                                                                                                  \n",
            " conv4_block2_2_bn (BatchNormal  (None, 8, 8, 256)   1024        ['conv4_block2_2_conv[0][0]']    \n",
            " ization)                                                                                         \n",
            "                                                                                                  \n",
            " conv4_block2_2_relu (Activatio  (None, 8, 8, 256)   0           ['conv4_block2_2_bn[0][0]']      \n",
            " n)                                                                                               \n",
            "                                                                                                  \n",
            " conv4_block2_3_conv (Conv2D)   (None, 8, 8, 1024)   263168      ['conv4_block2_2_relu[0][0]']    \n",
            "                                                                                                  \n",
            " conv4_block2_3_bn (BatchNormal  (None, 8, 8, 1024)  4096        ['conv4_block2_3_conv[0][0]']    \n",
            " ization)                                                                                         \n",
            "                                                                                                  \n",
            " conv4_block2_add (Add)         (None, 8, 8, 1024)   0           ['conv4_block1_out[0][0]',       \n",
            "                                                                  'conv4_block2_3_bn[0][0]']      \n",
            "                                                                                                  \n",
            " conv4_block2_out (Activation)  (None, 8, 8, 1024)   0           ['conv4_block2_add[0][0]']       \n",
            "                                                                                                  \n",
            " conv4_block3_1_conv (Conv2D)   (None, 8, 8, 256)    262400      ['conv4_block2_out[0][0]']       \n",
            "                                                                                                  \n",
            " conv4_block3_1_bn (BatchNormal  (None, 8, 8, 256)   1024        ['conv4_block3_1_conv[0][0]']    \n",
            " ization)                                                                                         \n",
            "                                                                                                  \n",
            " conv4_block3_1_relu (Activatio  (None, 8, 8, 256)   0           ['conv4_block3_1_bn[0][0]']      \n",
            " n)                                                                                               \n",
            "                                                                                                  \n",
            " conv4_block3_2_conv (Conv2D)   (None, 8, 8, 256)    590080      ['conv4_block3_1_relu[0][0]']    \n",
            "                                                                                                  \n",
            " conv4_block3_2_bn (BatchNormal  (None, 8, 8, 256)   1024        ['conv4_block3_2_conv[0][0]']    \n",
            " ization)                                                                                         \n",
            "                                                                                                  \n",
            " conv4_block3_2_relu (Activatio  (None, 8, 8, 256)   0           ['conv4_block3_2_bn[0][0]']      \n",
            " n)                                                                                               \n",
            "                                                                                                  \n",
            " conv4_block3_3_conv (Conv2D)   (None, 8, 8, 1024)   263168      ['conv4_block3_2_relu[0][0]']    \n",
            "                                                                                                  \n",
            " conv4_block3_3_bn (BatchNormal  (None, 8, 8, 1024)  4096        ['conv4_block3_3_conv[0][0]']    \n",
            " ization)                                                                                         \n",
            "                                                                                                  \n",
            " conv4_block3_add (Add)         (None, 8, 8, 1024)   0           ['conv4_block2_out[0][0]',       \n",
            "                                                                  'conv4_block3_3_bn[0][0]']      \n",
            "                                                                                                  \n",
            " conv4_block3_out (Activation)  (None, 8, 8, 1024)   0           ['conv4_block3_add[0][0]']       \n",
            "                                                                                                  \n",
            " conv4_block4_1_conv (Conv2D)   (None, 8, 8, 256)    262400      ['conv4_block3_out[0][0]']       \n",
            "                                                                                                  \n",
            " conv4_block4_1_bn (BatchNormal  (None, 8, 8, 256)   1024        ['conv4_block4_1_conv[0][0]']    \n",
            " ization)                                                                                         \n",
            "                                                                                                  \n",
            " conv4_block4_1_relu (Activatio  (None, 8, 8, 256)   0           ['conv4_block4_1_bn[0][0]']      \n",
            " n)                                                                                               \n",
            "                                                                                                  \n",
            " conv4_block4_2_conv (Conv2D)   (None, 8, 8, 256)    590080      ['conv4_block4_1_relu[0][0]']    \n",
            "                                                                                                  \n",
            " conv4_block4_2_bn (BatchNormal  (None, 8, 8, 256)   1024        ['conv4_block4_2_conv[0][0]']    \n",
            " ization)                                                                                         \n",
            "                                                                                                  \n",
            " conv4_block4_2_relu (Activatio  (None, 8, 8, 256)   0           ['conv4_block4_2_bn[0][0]']      \n",
            " n)                                                                                               \n",
            "                                                                                                  \n",
            " conv4_block4_3_conv (Conv2D)   (None, 8, 8, 1024)   263168      ['conv4_block4_2_relu[0][0]']    \n",
            "                                                                                                  \n",
            " conv4_block4_3_bn (BatchNormal  (None, 8, 8, 1024)  4096        ['conv4_block4_3_conv[0][0]']    \n",
            " ization)                                                                                         \n",
            "                                                                                                  \n",
            " conv4_block4_add (Add)         (None, 8, 8, 1024)   0           ['conv4_block3_out[0][0]',       \n",
            "                                                                  'conv4_block4_3_bn[0][0]']      \n",
            "                                                                                                  \n",
            " conv4_block4_out (Activation)  (None, 8, 8, 1024)   0           ['conv4_block4_add[0][0]']       \n",
            "                                                                                                  \n",
            " conv4_block5_1_conv (Conv2D)   (None, 8, 8, 256)    262400      ['conv4_block4_out[0][0]']       \n",
            "                                                                                                  \n",
            " conv4_block5_1_bn (BatchNormal  (None, 8, 8, 256)   1024        ['conv4_block5_1_conv[0][0]']    \n",
            " ization)                                                                                         \n",
            "                                                                                                  \n",
            " conv4_block5_1_relu (Activatio  (None, 8, 8, 256)   0           ['conv4_block5_1_bn[0][0]']      \n",
            " n)                                                                                               \n",
            "                                                                                                  \n",
            " conv4_block5_2_conv (Conv2D)   (None, 8, 8, 256)    590080      ['conv4_block5_1_relu[0][0]']    \n",
            "                                                                                                  \n",
            " conv4_block5_2_bn (BatchNormal  (None, 8, 8, 256)   1024        ['conv4_block5_2_conv[0][0]']    \n",
            " ization)                                                                                         \n",
            "                                                                                                  \n",
            " conv4_block5_2_relu (Activatio  (None, 8, 8, 256)   0           ['conv4_block5_2_bn[0][0]']      \n",
            " n)                                                                                               \n",
            "                                                                                                  \n",
            " conv4_block5_3_conv (Conv2D)   (None, 8, 8, 1024)   263168      ['conv4_block5_2_relu[0][0]']    \n",
            "                                                                                                  \n",
            " conv4_block5_3_bn (BatchNormal  (None, 8, 8, 1024)  4096        ['conv4_block5_3_conv[0][0]']    \n",
            " ization)                                                                                         \n",
            "                                                                                                  \n",
            " conv4_block5_add (Add)         (None, 8, 8, 1024)   0           ['conv4_block4_out[0][0]',       \n",
            "                                                                  'conv4_block5_3_bn[0][0]']      \n",
            "                                                                                                  \n",
            " conv4_block5_out (Activation)  (None, 8, 8, 1024)   0           ['conv4_block5_add[0][0]']       \n",
            "                                                                                                  \n",
            " conv4_block6_1_conv (Conv2D)   (None, 8, 8, 256)    262400      ['conv4_block5_out[0][0]']       \n",
            "                                                                                                  \n",
            " conv4_block6_1_bn (BatchNormal  (None, 8, 8, 256)   1024        ['conv4_block6_1_conv[0][0]']    \n",
            " ization)                                                                                         \n",
            "                                                                                                  \n",
            " conv4_block6_1_relu (Activatio  (None, 8, 8, 256)   0           ['conv4_block6_1_bn[0][0]']      \n",
            " n)                                                                                               \n",
            "                                                                                                  \n",
            " conv4_block6_2_conv (Conv2D)   (None, 8, 8, 256)    590080      ['conv4_block6_1_relu[0][0]']    \n",
            "                                                                                                  \n",
            " conv4_block6_2_bn (BatchNormal  (None, 8, 8, 256)   1024        ['conv4_block6_2_conv[0][0]']    \n",
            " ization)                                                                                         \n",
            "                                                                                                  \n",
            " conv4_block6_2_relu (Activatio  (None, 8, 8, 256)   0           ['conv4_block6_2_bn[0][0]']      \n",
            " n)                                                                                               \n",
            "                                                                                                  \n",
            " conv4_block6_3_conv (Conv2D)   (None, 8, 8, 1024)   263168      ['conv4_block6_2_relu[0][0]']    \n",
            "                                                                                                  \n",
            " conv4_block6_3_bn (BatchNormal  (None, 8, 8, 1024)  4096        ['conv4_block6_3_conv[0][0]']    \n",
            " ization)                                                                                         \n",
            "                                                                                                  \n",
            " conv4_block6_add (Add)         (None, 8, 8, 1024)   0           ['conv4_block5_out[0][0]',       \n",
            "                                                                  'conv4_block6_3_bn[0][0]']      \n",
            "                                                                                                  \n",
            " conv4_block6_out (Activation)  (None, 8, 8, 1024)   0           ['conv4_block6_add[0][0]']       \n",
            "                                                                                                  \n",
            " conv5_block1_1_conv (Conv2D)   (None, 4, 4, 512)    524800      ['conv4_block6_out[0][0]']       \n",
            "                                                                                                  \n",
            " conv5_block1_1_bn (BatchNormal  (None, 4, 4, 512)   2048        ['conv5_block1_1_conv[0][0]']    \n",
            " ization)                                                                                         \n",
            "                                                                                                  \n",
            " conv5_block1_1_relu (Activatio  (None, 4, 4, 512)   0           ['conv5_block1_1_bn[0][0]']      \n",
            " n)                                                                                               \n",
            "                                                                                                  \n",
            " conv5_block1_2_conv (Conv2D)   (None, 4, 4, 512)    2359808     ['conv5_block1_1_relu[0][0]']    \n",
            "                                                                                                  \n",
            " conv5_block1_2_bn (BatchNormal  (None, 4, 4, 512)   2048        ['conv5_block1_2_conv[0][0]']    \n",
            " ization)                                                                                         \n",
            "                                                                                                  \n",
            " conv5_block1_2_relu (Activatio  (None, 4, 4, 512)   0           ['conv5_block1_2_bn[0][0]']      \n",
            " n)                                                                                               \n",
            "                                                                                                  \n",
            " conv5_block1_0_conv (Conv2D)   (None, 4, 4, 2048)   2099200     ['conv4_block6_out[0][0]']       \n",
            "                                                                                                  \n",
            " conv5_block1_3_conv (Conv2D)   (None, 4, 4, 2048)   1050624     ['conv5_block1_2_relu[0][0]']    \n",
            "                                                                                                  \n",
            " conv5_block1_0_bn (BatchNormal  (None, 4, 4, 2048)  8192        ['conv5_block1_0_conv[0][0]']    \n",
            " ization)                                                                                         \n",
            "                                                                                                  \n",
            " conv5_block1_3_bn (BatchNormal  (None, 4, 4, 2048)  8192        ['conv5_block1_3_conv[0][0]']    \n",
            " ization)                                                                                         \n",
            "                                                                                                  \n",
            " conv5_block1_add (Add)         (None, 4, 4, 2048)   0           ['conv5_block1_0_bn[0][0]',      \n",
            "                                                                  'conv5_block1_3_bn[0][0]']      \n",
            "                                                                                                  \n",
            " conv5_block1_out (Activation)  (None, 4, 4, 2048)   0           ['conv5_block1_add[0][0]']       \n",
            "                                                                                                  \n",
            " conv5_block2_1_conv (Conv2D)   (None, 4, 4, 512)    1049088     ['conv5_block1_out[0][0]']       \n",
            "                                                                                                  \n",
            " conv5_block2_1_bn (BatchNormal  (None, 4, 4, 512)   2048        ['conv5_block2_1_conv[0][0]']    \n",
            " ization)                                                                                         \n",
            "                                                                                                  \n",
            " conv5_block2_1_relu (Activatio  (None, 4, 4, 512)   0           ['conv5_block2_1_bn[0][0]']      \n",
            " n)                                                                                               \n",
            "                                                                                                  \n",
            " conv5_block2_2_conv (Conv2D)   (None, 4, 4, 512)    2359808     ['conv5_block2_1_relu[0][0]']    \n",
            "                                                                                                  \n",
            " conv5_block2_2_bn (BatchNormal  (None, 4, 4, 512)   2048        ['conv5_block2_2_conv[0][0]']    \n",
            " ization)                                                                                         \n",
            "                                                                                                  \n",
            " conv5_block2_2_relu (Activatio  (None, 4, 4, 512)   0           ['conv5_block2_2_bn[0][0]']      \n",
            " n)                                                                                               \n",
            "                                                                                                  \n",
            " conv5_block2_3_conv (Conv2D)   (None, 4, 4, 2048)   1050624     ['conv5_block2_2_relu[0][0]']    \n",
            "                                                                                                  \n",
            " conv5_block2_3_bn (BatchNormal  (None, 4, 4, 2048)  8192        ['conv5_block2_3_conv[0][0]']    \n",
            " ization)                                                                                         \n",
            "                                                                                                  \n",
            " conv5_block2_add (Add)         (None, 4, 4, 2048)   0           ['conv5_block1_out[0][0]',       \n",
            "                                                                  'conv5_block2_3_bn[0][0]']      \n",
            "                                                                                                  \n",
            " conv5_block2_out (Activation)  (None, 4, 4, 2048)   0           ['conv5_block2_add[0][0]']       \n",
            "                                                                                                  \n",
            " conv5_block3_1_conv (Conv2D)   (None, 4, 4, 512)    1049088     ['conv5_block2_out[0][0]']       \n",
            "                                                                                                  \n",
            " conv5_block3_1_bn (BatchNormal  (None, 4, 4, 512)   2048        ['conv5_block3_1_conv[0][0]']    \n",
            " ization)                                                                                         \n",
            "                                                                                                  \n",
            " conv5_block3_1_relu (Activatio  (None, 4, 4, 512)   0           ['conv5_block3_1_bn[0][0]']      \n",
            " n)                                                                                               \n",
            "                                                                                                  \n",
            " conv5_block3_2_conv (Conv2D)   (None, 4, 4, 512)    2359808     ['conv5_block3_1_relu[0][0]']    \n",
            "                                                                                                  \n",
            " conv5_block3_2_bn (BatchNormal  (None, 4, 4, 512)   2048        ['conv5_block3_2_conv[0][0]']    \n",
            " ization)                                                                                         \n",
            "                                                                                                  \n",
            " conv5_block3_2_relu (Activatio  (None, 4, 4, 512)   0           ['conv5_block3_2_bn[0][0]']      \n",
            " n)                                                                                               \n",
            "                                                                                                  \n",
            " conv5_block3_3_conv (Conv2D)   (None, 4, 4, 2048)   1050624     ['conv5_block3_2_relu[0][0]']    \n",
            "                                                                                                  \n",
            " conv5_block3_3_bn (BatchNormal  (None, 4, 4, 2048)  8192        ['conv5_block3_3_conv[0][0]']    \n",
            " ization)                                                                                         \n",
            "                                                                                                  \n",
            " conv5_block3_add (Add)         (None, 4, 4, 2048)   0           ['conv5_block2_out[0][0]',       \n",
            "                                                                  'conv5_block3_3_bn[0][0]']      \n",
            "                                                                                                  \n",
            " conv5_block3_out (Activation)  (None, 4, 4, 2048)   0           ['conv5_block3_add[0][0]']       \n",
            "                                                                                                  \n",
            " flatten (Flatten)              (None, 32768)        0           ['conv5_block3_out[0][0]']       \n",
            "                                                                                                  \n",
            " input_2 (InputLayer)           [(None, 10)]         0           []                               \n",
            "                                                                                                  \n",
            " dense (Dense)                  (None, 256)          8388864     ['flatten[0][0]']                \n",
            "                                                                                                  \n",
            " dense_3 (Dense)                (None, 256)          2816        ['input_2[0][0]']                \n",
            "                                                                                                  \n",
            " dense_1 (Dense)                (None, 128)          32896       ['dense[0][0]']                  \n",
            "                                                                                                  \n",
            " dense_4 (Dense)                (None, 128)          32896       ['dense_3[0][0]']                \n",
            "                                                                                                  \n",
            " dense_2 (Dense)                (None, 64)           8256        ['dense_1[0][0]']                \n",
            "                                                                                                  \n",
            " dense_5 (Dense)                (None, 64)           8256        ['dense_4[0][0]']                \n",
            "                                                                                                  \n",
            " concatenate (Concatenate)      (None, 128)          0           ['dense_2[0][0]',                \n",
            "                                                                  'dense_5[0][0]']                \n",
            "                                                                                                  \n",
            " dense_6 (Dense)                (None, 64)           8256        ['concatenate[0][0]']            \n",
            "                                                                                                  \n",
            " dense_7 (Dense)                (None, 32)           2080        ['dense_6[0][0]']                \n",
            "                                                                                                  \n",
            " dense_8 (Dense)                (None, 1)            33          ['dense_7[0][0]']                \n",
            "                                                                                                  \n",
            "==================================================================================================\n",
            "Total params: 32,072,065\n",
            "Trainable params: 8,484,353\n",
            "Non-trainable params: 23,587,712\n",
            "__________________________________________________________________________________________________\n"
          ]
        }
      ],
      "source": [
        "Pre_trained_Resnet50 = pre_trained_model_resnet50()\n",
        "Pre_trained_Resnet50.summary()"
      ]
    },
    {
      "cell_type": "code",
      "execution_count": null,
      "metadata": {
        "colab": {
          "base_uri": "https://localhost:8080/"
        },
        "id": "d1-35-7CVkTe",
        "outputId": "846fee65-c5dd-4961-89cb-74d53cb07af2"
      },
      "outputs": [
        {
          "name": "stdout",
          "output_type": "stream",
          "text": [
            "Epoch 1/15\n",
            "25/25 [==============================] - 210s 8s/step - loss: 0.5647 - accuracy: 0.7259 - val_loss: 0.3725 - val_accuracy: 0.7925\n",
            "Epoch 2/15\n",
            "25/25 [==============================] - 202s 8s/step - loss: 0.3255 - accuracy: 0.8556 - val_loss: 0.3211 - val_accuracy: 0.8275\n",
            "Epoch 3/15\n",
            "25/25 [==============================] - 202s 8s/step - loss: 0.2870 - accuracy: 0.8697 - val_loss: 0.2838 - val_accuracy: 0.8775\n",
            "Epoch 4/15\n",
            "25/25 [==============================] - 206s 8s/step - loss: 0.2447 - accuracy: 0.8856 - val_loss: 0.2593 - val_accuracy: 0.8725\n",
            "Epoch 5/15\n",
            "25/25 [==============================] - 203s 8s/step - loss: 0.2751 - accuracy: 0.8681 - val_loss: 0.2267 - val_accuracy: 0.9000\n",
            "Epoch 6/15\n",
            "25/25 [==============================] - 204s 8s/step - loss: 0.2258 - accuracy: 0.8959 - val_loss: 0.2091 - val_accuracy: 0.9013\n",
            "Epoch 7/15\n",
            "25/25 [==============================] - 204s 8s/step - loss: 0.2227 - accuracy: 0.8984 - val_loss: 0.2193 - val_accuracy: 0.8913\n",
            "Epoch 8/15\n",
            "25/25 [==============================] - 204s 8s/step - loss: 0.2124 - accuracy: 0.9034 - val_loss: 0.2523 - val_accuracy: 0.8938\n",
            "Epoch 9/15\n",
            "25/25 [==============================] - 201s 8s/step - loss: 0.2361 - accuracy: 0.8925 - val_loss: 0.2043 - val_accuracy: 0.9075\n",
            "Epoch 10/15\n",
            "25/25 [==============================] - 201s 8s/step - loss: 0.1903 - accuracy: 0.9141 - val_loss: 0.2074 - val_accuracy: 0.9087\n",
            "Epoch 11/15\n",
            "25/25 [==============================] - 201s 8s/step - loss: 0.2344 - accuracy: 0.8925 - val_loss: 0.2062 - val_accuracy: 0.9112\n",
            "Epoch 12/15\n",
            "25/25 [==============================] - 201s 8s/step - loss: 0.1967 - accuracy: 0.9166 - val_loss: 0.1917 - val_accuracy: 0.9162\n",
            "Epoch 13/15\n",
            "25/25 [==============================] - 204s 8s/step - loss: 0.1894 - accuracy: 0.9137 - val_loss: 0.2139 - val_accuracy: 0.9000\n",
            "Epoch 14/15\n",
            "25/25 [==============================] - 204s 8s/step - loss: 0.2211 - accuracy: 0.8984 - val_loss: 0.2665 - val_accuracy: 0.8850\n",
            "Epoch 15/15\n",
            "20/25 [=======================>......] - ETA: 33s - loss: 0.1905 - accuracy: 0.9168"
          ]
        }
      ],
      "source": [
        "Pre_trained_Resnet50.compile(optimizer = \"adam\",loss = \"binary_crossentropy\",metrics = [\"accuracy\"])\n",
        "history = Pre_trained_Resnet50.fit([X_train_image,X_train_tabular],Y_train,epochs = 15,validation_data = ([X_test_image,X_test_tabular],Y_test),batch_size = 128)"
      ]
    },
    {
      "cell_type": "code",
      "execution_count": null,
      "metadata": {
        "colab": {
          "base_uri": "https://localhost:8080/"
        },
        "id": "UQIwz5GKWLau",
        "outputId": "f6c30ad3-330b-416f-eeaf-959f32a8a2b5"
      },
      "outputs": [
        {
          "name": "stdout",
          "output_type": "stream",
          "text": [
            "25/25 [==============================] - 41s 2s/step - loss: 0.1981 - accuracy: 0.9162\n"
          ]
        },
        {
          "data": {
            "text/plain": [
              "[0.1981073021888733, 0.9162499904632568]"
            ]
          },
          "execution_count": 23,
          "metadata": {},
          "output_type": "execute_result"
        }
      ],
      "source": [
        "Pre_trained_Resnet50.evaluate([X_test_image,X_test_tabular],Y_test)"
      ]
    },
    {
      "cell_type": "markdown",
      "source": [
        "## Training & Valiation Loss"
      ],
      "metadata": {
        "id": "zzcCndSwH2_J"
      }
    },
    {
      "cell_type": "code",
      "execution_count": null,
      "metadata": {
        "colab": {
          "base_uri": "https://localhost:8080/",
          "height": 350
        },
        "id": "6JTu4OGk9ElI",
        "outputId": "5b9b3fcb-1626-4416-8ea1-6d4e1556a885"
      },
      "outputs": [
        {
          "data": {
            "image/png": "[encoded data removed]",
            "text/plain": [
              "<Figure size 360x360 with 1 Axes>"
            ]
          },
          "metadata": {},
          "output_type": "display_data"
        }
      ],
      "source": [
        "plt.figure(figsize = (5,5))\n",
        "plt.plot(history.history[\"loss\"])\n",
        "plt.plot(history.history[\"val_loss\"])\n",
        "plt.title(\"Training and Validation Loss\")\n",
        "plt.ylabel(\"Loss\")\n",
        "plt.xlabel(\"Epochs\")\n",
        "plt.legend([\"Training\",\"Validation\"], loc='upper right')\n",
        "plt.savefig(\"/content/drive/MyDrive/Virtual Consultant (FYP)/Covid Tabular Data/Loss of ResNet.png\",dpi = 1200)\n",
        "plt.show()"
      ]
    },
    {
      "cell_type": "markdown",
      "source": [
        "## Training & Validation Accuracy"
      ],
      "metadata": {
        "id": "4KdB_SBZH66l"
      }
    },
    {
      "cell_type": "code",
      "execution_count": null,
      "metadata": {
        "colab": {
          "base_uri": "https://localhost:8080/",
          "height": 350
        },
        "id": "XE19cTKy9LDY",
        "outputId": "75c24d59-07d7-4da1-cabe-00cdddb14a13"
      },
      "outputs": [
        {
          "data": {
            "image/png": "[encoded data removed]",
            "text/plain": [
              "<Figure size 360x360 with 1 Axes>"
            ]
          },
          "metadata": {},
          "output_type": "display_data"
        }
      ],
      "source": [
        "plt.figure(figsize = (5,5))\n",
        "plt.plot(history.history[\"accuracy\"])\n",
        "plt.plot(history.history[\"val_accuracy\"])\n",
        "plt.title(\"Training and Validation Accuracy\")\n",
        "plt.ylabel(\"Accuracy\")\n",
        "plt.xlabel(\"Epochs\")\n",
        "plt.legend([\"Training\",\"Validation\"], loc='lower right')\n",
        "plt.savefig(\"/content/drive/MyDrive/Virtual Consultant (FYP)/Covid Tabular Data/Accuracy of ResNet.png\",dpi = 1200)\n",
        "plt.show()"
      ]
    },
    {
      "cell_type": "markdown",
      "source": [
        "## Confusion Matrix"
      ],
      "metadata": {
        "id": "S55VsNWYH-JA"
      }
    },
    {
      "cell_type": "code",
      "execution_count": null,
      "metadata": {
        "id": "TovbBRKb_u3k"
      },
      "outputs": [],
      "source": [
        "y_pred_resnet = Pre_trained_Resnet50.predict([X_test_image,X_test_tabular])\n",
        "y_pred_resnet = np.round(y_pred_cnn)\n",
        "y_pred_resnet = np.ravel(y_pred_cnn)"
      ]
    },
    {
      "cell_type": "code",
      "execution_count": null,
      "metadata": {
        "colab": {
          "base_uri": "https://localhost:8080/",
          "height": 312
        },
        "id": "0A01t_1f9QBW",
        "outputId": "f6a2423b-8de4-4d54-81cf-e2aaf0a4e8ad"
      },
      "outputs": [
        {
          "data": {
            "text/plain": [
              "[]"
            ]
          },
          "execution_count": 22,
          "metadata": {},
          "output_type": "execute_result"
        },
        {
          "data": {
            "image/png": "[encoded data removed]",
            "text/plain": [
              "<Figure size 432x288 with 2 Axes>"
            ]
          },
          "metadata": {},
          "output_type": "display_data"
        }
      ],
      "source": [
        "cm = confusion_matrix(Y_test,y_pred_cnn)\n",
        "\n",
        "sns.heatmap(cm,annot = True,fmt = \".3g\")\n",
        "plt.ylabel(\"True Label\")\n",
        "plt.xlabel(\"Predicted Label\")\n",
        "plt.title(\"Confusion Matrix\")\n",
        "plt.savefig(\"/content/drive/MyDrive/Virtual Consultant (FYP)/Covid Tabular Data/Confusion Matrix of ResNet.png\",dpi = 1200)\n",
        "plt.plot()"
      ]
    },
    {
      "cell_type": "code",
      "execution_count": null,
      "metadata": {
        "id": "CHyHXsXXHZlr"
      },
      "outputs": [],
      "source": []
    }
  ],
  "metadata": {
    "accelerator": "TPU",
    "colab": {
      "collapsed_sections": [
        "NOiRWhwhGS4c",
        "dHcURVx0Go4w",
        "dX7DuGnEUrRC"
      ],
      "provenance": []
    },
    "gpuClass": "standard",
    "kernelspec": {
      "display_name": "Python 3",
      "name": "python3"
    },
    "language_info": {
      "name": "python"
    }
  },
  "nbformat": 4,
  "nbformat_minor": 0
}