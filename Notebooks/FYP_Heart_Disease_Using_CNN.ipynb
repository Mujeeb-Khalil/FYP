{
  "cells": [
    {
      "cell_type": "markdown",
      "metadata": {
        "id": "uYVM1nw5Eszh"
      },
      "source": [
        "#Importing Libraires"
      ]
    },
    {
      "cell_type": "code",
      "execution_count": null,
      "metadata": {
        "id": "5DU0gJ7QCAdF"
      },
      "outputs": [],
      "source": [
        "import numpy as np\n",
        "import pandas as pd\n",
        "from sklearn.model_selection import train_test_split\n",
        "from sklearn.preprocessing import MinMaxScaler\n",
        "from sklearn.metrics import accuracy_score,classification_report,confusion_matrix,f1_score,precision_score, recall_score\n",
        "import tensorflow as tf\n",
        "from tensorflow.keras.layers import Input,Dense,BatchNormalization,Dropout,concatenate,Conv2D,MaxPooling2D,Flatten\n",
        "from tensorflow.keras.layers import Add,Activation,Conv1D,MaxPooling1D,ZeroPadding1D,AveragePooling1D,DepthwiseConv1D\n",
        "from tensorflow.keras.models import Model,load_model\n",
        "from tensorflow.keras.utils import plot_model\n",
        "from tensorflow.keras.optimizers import Adam,RMSprop,SGD,Nadam,Adagrad  \n",
        "from tensorflow.keras.callbacks import EarlyStopping\n",
        "from sklearn.ensemble import RandomForestClassifier\n",
        "import seaborn as sns\n",
        "import matplotlib.pyplot as plt"
      ]
    },
    {
      "cell_type": "markdown",
      "metadata": {
        "id": "99PzsMIEEufp"
      },
      "source": [
        "#Loading Dataset"
      ]
    },
    {
      "cell_type": "code",
      "execution_count": null,
      "metadata": {
        "id": "U6Owp7zvEhjk"
      },
      "outputs": [],
      "source": [
        "data = pd.read_csv(\"/content/drive/MyDrive/Virtual Consultant (FYP)/Heart Disease/Preprocessed_data.csv\")"
      ]
    },
    {
      "cell_type": "code",
      "execution_count": null,
      "metadata": {
        "colab": {
          "base_uri": "https://localhost:8080/",
          "height": 340
        },
        "id": "jHjIf58YE1uT",
        "outputId": "e8e00d28-b728-40cb-e561-53611d005934"
      },
      "outputs": [
        {
          "output_type": "execute_result",
          "data": {
            "text/plain": [
              "   age  sex  resting bp s  cholesterol  fasting blood sugar  max heart rate  \\\n",
              "0   40    1           140          289                    0             172   \n",
              "1   49    0           160          180                    0             156   \n",
              "2   37    1           130          283                    0              98   \n",
              "3   48    0           138          214                    0             108   \n",
              "4   54    1           150          195                    0             122   \n",
              "\n",
              "   exercise angina  oldpeak  target  chest pain type_asymptomatic  \\\n",
              "0                0      0.0       0                             0   \n",
              "1                0      1.0       1                             0   \n",
              "2                0      0.0       0                             0   \n",
              "3                1      1.5       1                             1   \n",
              "4                0      0.0       0                             0   \n",
              "\n",
              "   chest pain type_atypical angina  chest pain type_non-anginal pain  \\\n",
              "0                                1                                 0   \n",
              "1                                0                                 1   \n",
              "2                                1                                 0   \n",
              "3                                0                                 0   \n",
              "4                                0                                 1   \n",
              "\n",
              "   chest pain type_typical angina  ST slope_downsloping  ST slope_flat  \\\n",
              "0                               0                     0              0   \n",
              "1                               0                     0              1   \n",
              "2                               0                     0              0   \n",
              "3                               0                     0              1   \n",
              "4                               0                     0              0   \n",
              "\n",
              "   ST slope_normal  ST slope_upsloping  resting ecg_ST-T wave abnormality  \\\n",
              "0                0                   1                                  0   \n",
              "1                0                   0                                  0   \n",
              "2                0                   1                                  1   \n",
              "3                0                   0                                  0   \n",
              "4                0                   1                                  0   \n",
              "\n",
              "   resting ecg_left ventricular hypertrophy  resting ecg_normal  \n",
              "0                                         0                   1  \n",
              "1                                         0                   1  \n",
              "2                                         0                   0  \n",
              "3                                         0                   1  \n",
              "4                                         0                   1  "
            ],
            "text/html": [
              "\n",
              "  <div id=\"df-8d46ad3f-d160-489c-a351-2e801599d041\">\n",
              "    <div class=\"colab-df-container\">\n",
              "      <div>\n",
              "<style scoped>\n",
              "    .dataframe tbody tr th:only-of-type {\n",
              "        vertical-align: middle;\n",
              "    }\n",
              "\n",
              "    .dataframe tbody tr th {\n",
              "        vertical-align: top;\n",
              "    }\n",
              "\n",
              "    .dataframe thead th {\n",
              "        text-align: right;\n",
              "    }\n",
              "</style>\n",
              "<table border=\"1\" class=\"dataframe\">\n",
              "  <thead>\n",
              "    <tr style=\"text-align: right;\">\n",
              "      <th></th>\n",
              "      <th>age</th>\n",
              "      <th>sex</th>\n",
              "      <th>resting bp s</th>\n",
              "      <th>cholesterol</th>\n",
              "      <th>fasting blood sugar</th>\n",
              "      <th>max heart rate</th>\n",
              "      <th>exercise angina</th>\n",
              "      <th>oldpeak</th>\n",
              "      <th>target</th>\n",
              "      <th>chest pain type_asymptomatic</th>\n",
              "      <th>chest pain type_atypical angina</th>\n",
              "      <th>chest pain type_non-anginal pain</th>\n",
              "      <th>chest pain type_typical angina</th>\n",
              "      <th>ST slope_downsloping</th>\n",
              "      <th>ST slope_flat</th>\n",
              "      <th>ST slope_normal</th>\n",
              "      <th>ST slope_upsloping</th>\n",
              "      <th>resting ecg_ST-T wave abnormality</th>\n",
              "      <th>resting ecg_left ventricular hypertrophy</th>\n",
              "      <th>resting ecg_normal</th>\n",
              "    </tr>\n",
              "  </thead>\n",
              "  <tbody>\n",
              "    <tr>\n",
              "      <th>0</th>\n",
              "      <td>40</td>\n",
              "      <td>1</td>\n",
              "      <td>140</td>\n",
              "      <td>289</td>\n",
              "      <td>0</td>\n",
              "      <td>172</td>\n",
              "      <td>0</td>\n",
              "      <td>0.0</td>\n",
              "      <td>0</td>\n",
              "      <td>0</td>\n",
              "      <td>1</td>\n",
              "      <td>0</td>\n",
              "      <td>0</td>\n",
              "      <td>0</td>\n",
              "      <td>0</td>\n",
              "      <td>0</td>\n",
              "      <td>1</td>\n",
              "      <td>0</td>\n",
              "      <td>0</td>\n",
              "      <td>1</td>\n",
              "    </tr>\n",
              "    <tr>\n",
              "      <th>1</th>\n",
              "      <td>49</td>\n",
              "      <td>0</td>\n",
              "      <td>160</td>\n",
              "      <td>180</td>\n",
              "      <td>0</td>\n",
              "      <td>156</td>\n",
              "      <td>0</td>\n",
              "      <td>1.0</td>\n",
              "      <td>1</td>\n",
              "      <td>0</td>\n",
              "      <td>0</td>\n",
              "      <td>1</td>\n",
              "      <td>0</td>\n",
              "      <td>0</td>\n",
              "      <td>1</td>\n",
              "      <td>0</td>\n",
              "      <td>0</td>\n",
              "      <td>0</td>\n",
              "      <td>0</td>\n",
              "      <td>1</td>\n",
              "    </tr>\n",
              "    <tr>\n",
              "      <th>2</th>\n",
              "      <td>37</td>\n",
              "      <td>1</td>\n",
              "      <td>130</td>\n",
              "      <td>283</td>\n",
              "      <td>0</td>\n",
              "      <td>98</td>\n",
              "      <td>0</td>\n",
              "      <td>0.0</td>\n",
              "      <td>0</td>\n",
              "      <td>0</td>\n",
              "      <td>1</td>\n",
              "      <td>0</td>\n",
              "      <td>0</td>\n",
              "      <td>0</td>\n",
              "      <td>0</td>\n",
              "      <td>0</td>\n",
              "      <td>1</td>\n",
              "      <td>1</td>\n",
              "      <td>0</td>\n",
              "      <td>0</td>\n",
              "    </tr>\n",
              "    <tr>\n",
              "      <th>3</th>\n",
              "      <td>48</td>\n",
              "      <td>0</td>\n",
              "      <td>138</td>\n",
              "      <td>214</td>\n",
              "      <td>0</td>\n",
              "      <td>108</td>\n",
              "      <td>1</td>\n",
              "      <td>1.5</td>\n",
              "      <td>1</td>\n",
              "      <td>1</td>\n",
              "      <td>0</td>\n",
              "      <td>0</td>\n",
              "      <td>0</td>\n",
              "      <td>0</td>\n",
              "      <td>1</td>\n",
              "      <td>0</td>\n",
              "      <td>0</td>\n",
              "      <td>0</td>\n",
              "      <td>0</td>\n",
              "      <td>1</td>\n",
              "    </tr>\n",
              "    <tr>\n",
              "      <th>4</th>\n",
              "      <td>54</td>\n",
              "      <td>1</td>\n",
              "      <td>150</td>\n",
              "      <td>195</td>\n",
              "      <td>0</td>\n",
              "      <td>122</td>\n",
              "      <td>0</td>\n",
              "      <td>0.0</td>\n",
              "      <td>0</td>\n",
              "      <td>0</td>\n",
              "      <td>0</td>\n",
              "      <td>1</td>\n",
              "      <td>0</td>\n",
              "      <td>0</td>\n",
              "      <td>0</td>\n",
              "      <td>0</td>\n",
              "      <td>1</td>\n",
              "      <td>0</td>\n",
              "      <td>0</td>\n",
              "      <td>1</td>\n",
              "    </tr>\n",
              "  </tbody>\n",
              "</table>\n",
              "</div>\n",
              "      <button class=\"colab-df-convert\" onclick=\"convertToInteractive('df-8d46ad3f-d160-489c-a351-2e801599d041')\"\n",
              "              title=\"Convert this dataframe to an interactive table.\"\n",
              "              style=\"display:none;\">\n",
              "        \n",
              "  <svg xmlns=\"http://www.w3.org/2000/svg\" height=\"24px\"viewBox=\"0 0 24 24\"\n",
              "       width=\"24px\">\n",
              "    <path d=\"M0 0h24v24H0V0z\" fill=\"none\"/>\n",
              "    <path d=\"M18.56 5.44l.94 2.06.94-2.06 2.06-.94-2.06-.94-.94-2.06-.94 2.06-2.06.94zm-11 1L8.5 8.5l.94-2.06 2.06-.94-2.06-.94L8.5 2.5l-.94 2.06-2.06.94zm10 10l.94 2.06.94-2.06 2.06-.94-2.06-.94-.94-2.06-.94 2.06-2.06.94z\"/><path d=\"M17.41 7.96l-1.37-1.37c-.4-.4-.92-.59-1.43-.59-.52 0-1.04.2-1.43.59L10.3 9.45l-7.72 7.72c-.78.78-.78 2.05 0 2.83L4 21.41c.39.39.9.59 1.41.59.51 0 1.02-.2 1.41-.59l7.78-7.78 2.81-2.81c.8-.78.8-2.07 0-2.86zM5.41 20L4 18.59l7.72-7.72 1.47 1.35L5.41 20z\"/>\n",
              "  </svg>\n",
              "      </button>\n",
              "      \n",
              "  <style>\n",
              "    .colab-df-container {\n",
              "      display:flex;\n",
              "      flex-wrap:wrap;\n",
              "      gap: 12px;\n",
              "    }\n",
              "\n",
              "    .colab-df-convert {\n",
              "      background-color: #E8F0FE;\n",
              "      border: none;\n",
              "      border-radius: 50%;\n",
              "      cursor: pointer;\n",
              "      display: none;\n",
              "      fill: #1967D2;\n",
              "      height: 32px;\n",
              "      padding: 0 0 0 0;\n",
              "      width: 32px;\n",
              "    }\n",
              "\n",
              "    .colab-df-convert:hover {\n",
              "      background-color: #E2EBFA;\n",
              "      box-shadow: 0px 1px 2px rgba(60, 64, 67, 0.3), 0px 1px 3px 1px rgba(60, 64, 67, 0.15);\n",
              "      fill: #174EA6;\n",
              "    }\n",
              "\n",
              "    [theme=dark] .colab-df-convert {\n",
              "      background-color: #3B4455;\n",
              "      fill: #D2E3FC;\n",
              "    }\n",
              "\n",
              "    [theme=dark] .colab-df-convert:hover {\n",
              "      background-color: #434B5C;\n",
              "      box-shadow: 0px 1px 3px 1px rgba(0, 0, 0, 0.15);\n",
              "      filter: drop-shadow(0px 1px 2px rgba(0, 0, 0, 0.3));\n",
              "      fill: #FFFFFF;\n",
              "    }\n",
              "  </style>\n",
              "\n",
              "      <script>\n",
              "        const buttonEl =\n",
              "          document.querySelector('#df-8d46ad3f-d160-489c-a351-2e801599d041 button.colab-df-convert');\n",
              "        buttonEl.style.display =\n",
              "          google.colab.kernel.accessAllowed ? 'block' : 'none';\n",
              "\n",
              "        async function convertToInteractive(key) {\n",
              "          const element = document.querySelector('#df-8d46ad3f-d160-489c-a351-2e801599d041');\n",
              "          const dataTable =\n",
              "            await google.colab.kernel.invokeFunction('convertToInteractive',\n",
              "                                                     [key], {});\n",
              "          if (!dataTable) return;\n",
              "\n",
              "          const docLinkHtml = 'Like what you see? Visit the ' +\n",
              "            '<a target=\"_blank\" href=https://colab.research.google.com/notebooks/data_table.ipynb>data table notebook</a>'\n",
              "            + ' to learn more about interactive tables.';\n",
              "          element.innerHTML = '';\n",
              "          dataTable['output_type'] = 'display_data';\n",
              "          await google.colab.output.renderOutput(dataTable, element);\n",
              "          const docLink = document.createElement('div');\n",
              "          docLink.innerHTML = docLinkHtml;\n",
              "          element.appendChild(docLink);\n",
              "        }\n",
              "      </script>\n",
              "    </div>\n",
              "  </div>\n",
              "  "
            ]
          },
          "metadata": {},
          "execution_count": 41
        }
      ],
      "source": [
        "data.head()"
      ]
    },
    {
      "cell_type": "markdown",
      "metadata": {
        "id": "YNOB58ltFD5r"
      },
      "source": [
        "#Spliting the dependent and independent variables"
      ]
    },
    {
      "cell_type": "code",
      "execution_count": null,
      "metadata": {
        "id": "3FM1_C1-E21x"
      },
      "outputs": [],
      "source": [
        "In = data.drop(\"target\",axis = 1)\n",
        "Output = data[\"target\"]"
      ]
    },
    {
      "cell_type": "markdown",
      "metadata": {
        "id": "fVVkiqrEFREO"
      },
      "source": [
        "#Spliting the data into train and test"
      ]
    },
    {
      "cell_type": "code",
      "execution_count": null,
      "metadata": {
        "id": "23hizYUdFFqn"
      },
      "outputs": [],
      "source": [
        "X_train,X_test,Y_train,Y_test = train_test_split(In,Output,test_size = 0.2, random_state = 55)"
      ]
    },
    {
      "cell_type": "markdown",
      "metadata": {
        "id": "6gV0E3pUFW8z"
      },
      "source": [
        "#Normalizing the Data"
      ]
    },
    {
      "cell_type": "code",
      "execution_count": null,
      "metadata": {
        "id": "-8-ihNRkFUDq"
      },
      "outputs": [],
      "source": [
        "minmax = MinMaxScaler()\n",
        "col = [\"age\",\"resting bp s\",\"cholesterol\",\"max heart rate\",\"oldpeak\"]\n",
        "X_train[col] = minmax.fit_transform(X_train[col])\n",
        "X_test[col] = minmax.transform(X_test[col])"
      ]
    },
    {
      "cell_type": "markdown",
      "metadata": {
        "id": "1g7wtMNSmQDt"
      },
      "source": [
        "#Expanding dimension of data"
      ]
    },
    {
      "cell_type": "code",
      "execution_count": null,
      "metadata": {
        "id": "FWYZLWlemTpu"
      },
      "outputs": [],
      "source": [
        "X_train = np.expand_dims(X_train,axis = 2)\n",
        "X_test = np.expand_dims(X_test,axis = 2)"
      ]
    },
    {
      "cell_type": "markdown",
      "metadata": {
        "id": "yK67brXnkzhZ"
      },
      "source": [
        "#Convolutional Neural Network"
      ]
    },
    {
      "cell_type": "code",
      "execution_count": null,
      "metadata": {
        "colab": {
          "base_uri": "https://localhost:8080/"
        },
        "id": "Q_XMR9Ddk218",
        "outputId": "be033ecc-c916-479f-cedd-c79fde986386"
      },
      "outputs": [
        {
          "name": "stdout",
          "output_type": "stream",
          "text": [
            "Epoch 1/100\n",
            "12/12 [==============================] - 2s 16ms/step - loss: 0.5287 - accuracy: 0.7523\n",
            "Epoch 2/100\n",
            "12/12 [==============================] - 0s 14ms/step - loss: 0.3886 - accuracy: 0.8358\n",
            "Epoch 3/100\n",
            "12/12 [==============================] - 0s 14ms/step - loss: 0.3621 - accuracy: 0.8530\n",
            "Epoch 4/100\n",
            "12/12 [==============================] - 0s 17ms/step - loss: 0.3513 - accuracy: 0.8556\n",
            "Epoch 5/100\n",
            "12/12 [==============================] - 0s 15ms/step - loss: 0.3455 - accuracy: 0.8556\n",
            "Epoch 6/100\n",
            "12/12 [==============================] - 0s 15ms/step - loss: 0.3391 - accuracy: 0.8583\n",
            "Epoch 7/100\n",
            "12/12 [==============================] - 0s 15ms/step - loss: 0.3324 - accuracy: 0.8662\n",
            "Epoch 8/100\n",
            "12/12 [==============================] - 0s 14ms/step - loss: 0.3339 - accuracy: 0.8675\n",
            "Epoch 9/100\n",
            "12/12 [==============================] - 0s 14ms/step - loss: 0.3291 - accuracy: 0.8715\n",
            "Epoch 10/100\n",
            "12/12 [==============================] - 0s 16ms/step - loss: 0.3236 - accuracy: 0.8781\n",
            "Epoch 11/100\n",
            "12/12 [==============================] - 0s 15ms/step - loss: 0.3094 - accuracy: 0.8768\n",
            "Epoch 12/100\n",
            "12/12 [==============================] - 0s 14ms/step - loss: 0.3147 - accuracy: 0.8755\n",
            "Epoch 13/100\n",
            "12/12 [==============================] - 0s 14ms/step - loss: 0.3099 - accuracy: 0.8795\n",
            "Epoch 14/100\n",
            "12/12 [==============================] - 0s 16ms/step - loss: 0.2952 - accuracy: 0.8861\n",
            "Epoch 15/100\n",
            "12/12 [==============================] - 0s 14ms/step - loss: 0.3061 - accuracy: 0.8636\n",
            "Epoch 16/100\n",
            "12/12 [==============================] - 0s 15ms/step - loss: 0.2873 - accuracy: 0.8980\n",
            "Epoch 17/100\n",
            "12/12 [==============================] - 0s 14ms/step - loss: 0.3008 - accuracy: 0.8808\n",
            "Epoch 18/100\n",
            "12/12 [==============================] - 0s 13ms/step - loss: 0.2809 - accuracy: 0.8781\n",
            "Epoch 19/100\n",
            "12/12 [==============================] - 0s 15ms/step - loss: 0.2735 - accuracy: 0.8861\n",
            "Epoch 20/100\n",
            "12/12 [==============================] - 0s 14ms/step - loss: 0.2826 - accuracy: 0.8940\n",
            "Epoch 21/100\n",
            "12/12 [==============================] - 0s 16ms/step - loss: 0.2710 - accuracy: 0.8967\n",
            "Epoch 22/100\n",
            "12/12 [==============================] - 0s 14ms/step - loss: 0.2562 - accuracy: 0.8980\n",
            "Epoch 23/100\n",
            "12/12 [==============================] - 0s 15ms/step - loss: 0.2598 - accuracy: 0.8914\n",
            "Epoch 24/100\n",
            "12/12 [==============================] - 0s 14ms/step - loss: 0.2535 - accuracy: 0.9007\n",
            "Epoch 25/100\n",
            "12/12 [==============================] - 0s 17ms/step - loss: 0.2449 - accuracy: 0.8980\n",
            "Epoch 26/100\n",
            "12/12 [==============================] - 0s 15ms/step - loss: 0.2492 - accuracy: 0.8954\n",
            "Epoch 27/100\n",
            "12/12 [==============================] - 0s 15ms/step - loss: 0.2421 - accuracy: 0.9020\n",
            "Epoch 28/100\n",
            "12/12 [==============================] - 0s 16ms/step - loss: 0.2301 - accuracy: 0.9126\n",
            "Epoch 29/100\n",
            "12/12 [==============================] - 0s 15ms/step - loss: 0.2339 - accuracy: 0.9007\n",
            "Epoch 30/100\n",
            "12/12 [==============================] - 0s 14ms/step - loss: 0.2260 - accuracy: 0.9126\n",
            "Epoch 31/100\n",
            "12/12 [==============================] - 0s 15ms/step - loss: 0.2169 - accuracy: 0.9139\n",
            "Epoch 32/100\n",
            "12/12 [==============================] - 0s 15ms/step - loss: 0.2058 - accuracy: 0.9099\n",
            "Epoch 33/100\n",
            "12/12 [==============================] - 0s 14ms/step - loss: 0.2186 - accuracy: 0.9166\n",
            "Epoch 34/100\n",
            "12/12 [==============================] - 0s 14ms/step - loss: 0.2047 - accuracy: 0.9166\n",
            "Epoch 35/100\n",
            "12/12 [==============================] - 0s 15ms/step - loss: 0.2044 - accuracy: 0.9258\n",
            "Epoch 36/100\n",
            "12/12 [==============================] - 0s 14ms/step - loss: 0.1944 - accuracy: 0.9285\n",
            "Epoch 37/100\n",
            "12/12 [==============================] - 0s 15ms/step - loss: 0.1895 - accuracy: 0.9192\n",
            "Epoch 38/100\n",
            "12/12 [==============================] - 0s 16ms/step - loss: 0.1796 - accuracy: 0.9139\n",
            "Epoch 39/100\n",
            "12/12 [==============================] - 0s 14ms/step - loss: 0.2189 - accuracy: 0.9073\n",
            "Epoch 40/100\n",
            "12/12 [==============================] - 0s 14ms/step - loss: 0.1690 - accuracy: 0.9325\n",
            "Epoch 41/100\n",
            "12/12 [==============================] - 0s 15ms/step - loss: 0.1719 - accuracy: 0.9285\n",
            "Epoch 42/100\n",
            "12/12 [==============================] - 0s 14ms/step - loss: 0.1821 - accuracy: 0.9232\n",
            "Epoch 43/100\n",
            "12/12 [==============================] - 0s 16ms/step - loss: 0.1613 - accuracy: 0.9391\n",
            "Epoch 44/100\n",
            "12/12 [==============================] - 0s 15ms/step - loss: 0.1665 - accuracy: 0.9325\n",
            "Epoch 45/100\n",
            "12/12 [==============================] - 0s 14ms/step - loss: 0.1578 - accuracy: 0.9338\n",
            "Epoch 46/100\n",
            "12/12 [==============================] - 0s 14ms/step - loss: 0.1556 - accuracy: 0.9404\n",
            "Epoch 47/100\n",
            "12/12 [==============================] - 0s 13ms/step - loss: 0.1504 - accuracy: 0.9351\n",
            "Epoch 48/100\n",
            "12/12 [==============================] - 0s 15ms/step - loss: 0.1642 - accuracy: 0.9338\n",
            "Epoch 49/100\n",
            "12/12 [==============================] - 0s 15ms/step - loss: 0.1489 - accuracy: 0.9483\n",
            "Epoch 50/100\n",
            "12/12 [==============================] - 0s 14ms/step - loss: 0.1393 - accuracy: 0.9457\n",
            "Epoch 51/100\n",
            "12/12 [==============================] - 0s 14ms/step - loss: 0.1492 - accuracy: 0.9377\n",
            "Epoch 52/100\n",
            "12/12 [==============================] - 0s 15ms/step - loss: 0.1315 - accuracy: 0.9430\n",
            "Epoch 53/100\n",
            "12/12 [==============================] - 0s 14ms/step - loss: 0.1325 - accuracy: 0.9523\n",
            "Epoch 54/100\n",
            "12/12 [==============================] - 0s 15ms/step - loss: 0.1360 - accuracy: 0.9457\n",
            "Epoch 55/100\n",
            "12/12 [==============================] - 0s 14ms/step - loss: 0.1291 - accuracy: 0.9391\n",
            "Epoch 56/100\n",
            "12/12 [==============================] - 0s 14ms/step - loss: 0.1198 - accuracy: 0.9563\n",
            "Epoch 57/100\n",
            "12/12 [==============================] - 0s 14ms/step - loss: 0.1118 - accuracy: 0.9616\n",
            "Epoch 58/100\n",
            "12/12 [==============================] - 0s 15ms/step - loss: 0.1109 - accuracy: 0.9603\n",
            "Epoch 59/100\n",
            "12/12 [==============================] - 0s 14ms/step - loss: 0.1114 - accuracy: 0.9483\n",
            "Epoch 60/100\n",
            "12/12 [==============================] - 0s 15ms/step - loss: 0.1223 - accuracy: 0.9603\n",
            "Epoch 61/100\n",
            "12/12 [==============================] - 0s 14ms/step - loss: 0.1068 - accuracy: 0.9589\n",
            "Epoch 62/100\n",
            "12/12 [==============================] - 0s 14ms/step - loss: 0.0998 - accuracy: 0.9656\n",
            "Epoch 63/100\n",
            "12/12 [==============================] - 0s 14ms/step - loss: 0.0934 - accuracy: 0.9695\n",
            "Epoch 64/100\n",
            "12/12 [==============================] - 0s 15ms/step - loss: 0.1054 - accuracy: 0.9563\n",
            "Epoch 65/100\n",
            "12/12 [==============================] - 0s 14ms/step - loss: 0.1054 - accuracy: 0.9576\n",
            "Epoch 66/100\n",
            "12/12 [==============================] - 0s 14ms/step - loss: 0.0915 - accuracy: 0.9642\n",
            "Epoch 67/100\n",
            "12/12 [==============================] - 0s 14ms/step - loss: 0.0871 - accuracy: 0.9616\n",
            "Epoch 68/100\n",
            "12/12 [==============================] - 0s 15ms/step - loss: 0.0868 - accuracy: 0.9682\n",
            "Epoch 69/100\n",
            "12/12 [==============================] - 0s 14ms/step - loss: 0.1060 - accuracy: 0.9576\n",
            "Epoch 70/100\n",
            "12/12 [==============================] - 0s 16ms/step - loss: 0.0994 - accuracy: 0.9603\n",
            "Epoch 71/100\n",
            "12/12 [==============================] - 0s 15ms/step - loss: 0.0672 - accuracy: 0.9762\n",
            "Epoch 72/100\n",
            "12/12 [==============================] - 0s 15ms/step - loss: 0.0942 - accuracy: 0.9695\n",
            "Epoch 73/100\n",
            "12/12 [==============================] - 0s 15ms/step - loss: 0.0937 - accuracy: 0.9695\n",
            "Epoch 74/100\n",
            "12/12 [==============================] - 0s 14ms/step - loss: 0.0775 - accuracy: 0.9722\n",
            "Epoch 75/100\n",
            "12/12 [==============================] - 0s 14ms/step - loss: 0.0764 - accuracy: 0.9788\n",
            "Epoch 76/100\n",
            "12/12 [==============================] - 0s 16ms/step - loss: 0.0831 - accuracy: 0.9695\n",
            "Epoch 77/100\n",
            "12/12 [==============================] - 0s 15ms/step - loss: 0.0761 - accuracy: 0.9722\n",
            "Epoch 78/100\n",
            "12/12 [==============================] - 0s 14ms/step - loss: 0.0692 - accuracy: 0.9735\n",
            "Epoch 79/100\n",
            "12/12 [==============================] - 0s 15ms/step - loss: 0.0884 - accuracy: 0.9616\n",
            "Epoch 80/100\n",
            "12/12 [==============================] - 0s 14ms/step - loss: 0.1017 - accuracy: 0.9576\n",
            "Epoch 81/100\n",
            "12/12 [==============================] - 0s 14ms/step - loss: 0.0704 - accuracy: 0.9735\n",
            "Epoch 82/100\n",
            "12/12 [==============================] - 0s 18ms/step - loss: 0.0585 - accuracy: 0.9801\n",
            "Epoch 83/100\n",
            "12/12 [==============================] - 0s 14ms/step - loss: 0.0696 - accuracy: 0.9695\n",
            "Epoch 84/100\n",
            "12/12 [==============================] - 0s 14ms/step - loss: 0.0548 - accuracy: 0.9815\n",
            "Epoch 85/100\n",
            "12/12 [==============================] - 0s 15ms/step - loss: 0.0937 - accuracy: 0.9616\n",
            "Epoch 86/100\n",
            "12/12 [==============================] - 0s 14ms/step - loss: 0.0738 - accuracy: 0.9709\n",
            "Epoch 87/100\n",
            "12/12 [==============================] - 0s 14ms/step - loss: 0.0725 - accuracy: 0.9669\n",
            "Epoch 88/100\n",
            "12/12 [==============================] - 0s 15ms/step - loss: 0.0502 - accuracy: 0.9775\n",
            "Epoch 89/100\n",
            "12/12 [==============================] - 0s 14ms/step - loss: 0.0522 - accuracy: 0.9788\n",
            "Epoch 90/100\n",
            "12/12 [==============================] - 0s 14ms/step - loss: 0.0742 - accuracy: 0.9669\n",
            "Epoch 91/100\n",
            "12/12 [==============================] - 0s 14ms/step - loss: 0.0453 - accuracy: 0.9828\n",
            "Epoch 92/100\n",
            "12/12 [==============================] - 0s 14ms/step - loss: 0.0632 - accuracy: 0.9788\n",
            "Epoch 93/100\n",
            "12/12 [==============================] - 0s 15ms/step - loss: 0.0680 - accuracy: 0.9748\n",
            "Epoch 94/100\n",
            "12/12 [==============================] - 0s 14ms/step - loss: 0.0542 - accuracy: 0.9828\n",
            "Epoch 95/100\n",
            "12/12 [==============================] - 0s 14ms/step - loss: 0.0446 - accuracy: 0.9828\n",
            "Epoch 96/100\n",
            "12/12 [==============================] - 0s 14ms/step - loss: 0.0527 - accuracy: 0.9775\n",
            "Epoch 97/100\n",
            "12/12 [==============================] - 0s 14ms/step - loss: 0.0502 - accuracy: 0.9828\n",
            "Epoch 98/100\n",
            "12/12 [==============================] - 0s 16ms/step - loss: 0.0943 - accuracy: 0.9748\n",
            "Epoch 99/100\n",
            "12/12 [==============================] - 0s 15ms/step - loss: 0.0695 - accuracy: 0.9748\n",
            "Epoch 100/100\n",
            "12/12 [==============================] - 0s 14ms/step - loss: 0.0535 - accuracy: 0.9735\n",
            "6/6 [==============================] - 0s 4ms/step - loss: 0.6165 - accuracy: 0.9048\n"
          ]
        },
        {
          "data": {
            "text/plain": [
              "[0.6165429353713989, 0.9047619104385376]"
            ]
          },
          "execution_count": 8,
          "metadata": {},
          "output_type": "execute_result"
        }
      ],
      "source": [
        "input_layer = Input(shape = (19,1))\n",
        "X = Conv1D(32,3,strides = 1, padding = \"same\")(input_layer)\n",
        "X = Conv1D(64,3,strides = 1, padding = \"valid\")(X)\n",
        "X = MaxPooling1D(pool_size=2)(X)\n",
        "\n",
        "X = Conv1D(128,3,strides = 1, padding = \"valid\")(X)\n",
        "X = Conv1D(256,3,strides = 2, padding = \"valid\")(X)\n",
        "X = MaxPooling1D(pool_size=2)(X)\n",
        "\n",
        "X = Flatten()(X)\n",
        "X = Dense(64,activation = \"relu\")(X)\n",
        "X = Dense(32,activation = \"relu\")(X)\n",
        "output_layer = Dense(1,activation = \"sigmoid\")(X)\n",
        "\n",
        "model1 = Model(inputs = input_layer, outputs = output_layer)\n",
        "model1.compile(optimizer = \"rmsprop\",loss = \"binary_crossentropy\",metrics = [\"accuracy\"])\n",
        "model1.fit(X_train,Y_train,epochs = 100, batch_size = 64)\n",
        "model1.evaluate(X_test,Y_test)"
      ]
    },
    {
      "cell_type": "markdown",
      "metadata": {
        "id": "4Ma9M4R801WD"
      },
      "source": [
        "#Combination of Resnet, Mobilenet, VGG16"
      ]
    },
    {
      "cell_type": "markdown",
      "metadata": {
        "id": "C4L4lXtE1NiP"
      },
      "source": [
        "##Resnet Blocks"
      ]
    },
    {
      "cell_type": "code",
      "execution_count": null,
      "metadata": {
        "id": "OttnxzjGlN3o"
      },
      "outputs": [],
      "source": [
        "def identity_block(input,k_size, filters):\n",
        "\n",
        "  # initial input is stored in shortcut variable, input is passed through 3 blocks each with 1D CNN, BN \n",
        "  # after passing input from 3 blocks, output of 3rd block is added with the initial input which is stored in shortcut variable\n",
        "  shortcut = input\n",
        "  f1,f2,f3 = filters\n",
        "  #Resnet50 with 3 block of CNN, BN\n",
        "  #1st block\n",
        "  X = Conv1D(filters = f1,kernel_size = 1, strides = 1, padding = \"valid\")(input)\n",
        "  X = BatchNormalization(axis = -1)(X)\n",
        "  X = Activation(\"relu\")(X)\n",
        "\n",
        "  #2nd block\n",
        "  X = Conv1D(filters = f2, kernel_size = k_size, strides = 1, padding = \"same\")(X)\n",
        "  X = BatchNormalization(axis = -1)(X)\n",
        "  X = Activation(\"relu\")(X)\n",
        "\n",
        "  #3rd block \n",
        "  X = Conv1D(filters = f3, kernel_size = 1, strides = 1, padding= \"valid\")(X)\n",
        "  X = BatchNormalization(axis = -1)(X)\n",
        "\n",
        "  #Residual Connection Adding X, and Initial Input(shortcut)\n",
        "  X = Add()([X,shortcut])\n",
        "  X = Activation(\"relu\")(X)\n",
        "\n",
        "  return X"
      ]
    },
    {
      "cell_type": "code",
      "execution_count": null,
      "metadata": {
        "id": "N1iHgxlxm0cB"
      },
      "outputs": [],
      "source": [
        "def conv_block(input,k_size, filters, stride_size = 2):\n",
        "\n",
        "  #initial input is stored in shortcut variable, input is passed through 3 blocks each with 1D CNN, BN\n",
        "  # shortcut is passed through 1 block which consist of 1D CNN, BN\n",
        "  # output of 3rd block, and output of shortcut which is passed from 1 block are added.\n",
        "  shortcut = input\n",
        "  f1,f2,f3 = filters\n",
        "  # 1st block\n",
        "  X = Conv1D(filters = f1, kernel_size = 1, strides= stride_size, padding = \"valid\" )(input)\n",
        "  X = BatchNormalization(axis = -1)(X)\n",
        "  X = Activation(\"relu\")(X)\n",
        "\n",
        "  #2nd block\n",
        "  X = Conv1D(filters = f2, kernel_size = k_size, strides = 1, padding = \"same\")(X)\n",
        "  X = BatchNormalization(axis = -1)(X)\n",
        "  X = Activation(\"relu\")(X)\n",
        "\n",
        "  #3rd block\n",
        "  X = Conv1D(filters = f3, kernel_size = 1, strides = 1, padding = \"valid\")(X)\n",
        "  X = BatchNormalization(axis = -1 )(X)\n",
        "\n",
        "  #shortcut passed through CNN, BN\n",
        "  shortcut = Conv1D(filters = f3, kernel_size = 1, strides = stride_size, padding = \"valid\")(shortcut)\n",
        "  shortcut = BatchNormalization(axis = -1)(shortcut)\n",
        "\n",
        "  # Residual Connection, Adding X, and shortcut\n",
        "  X = Add()([X,shortcut])\n",
        "  X = Activation(\"relu\")(X)\n",
        "\n",
        "  return X\n"
      ]
    },
    {
      "cell_type": "markdown",
      "metadata": {
        "id": "Cw_L8IWU1Qq6"
      },
      "source": [
        "##Mobilenet Blocks"
      ]
    },
    {
      "cell_type": "code",
      "execution_count": null,
      "metadata": {
        "id": "cjkBOFnA1F-I"
      },
      "outputs": [],
      "source": [
        "def depthwise(inp,filters,stride ):\n",
        "  x = DepthwiseConv1D(kernel_size = 3, padding = \"same\")(inp)\n",
        "  x = BatchNormalization()(x)\n",
        "  x = Activation(\"relu\")(x)\n",
        "  \n",
        "  x = Conv1D(kernel_size = 1, filters = filters, strides = stride)(x)\n",
        "  x = BatchNormalization()(x)\n",
        "  x = Activation(\"relu\")(x)\n",
        "  return x\n",
        "\n",
        "\n",
        "\n",
        "def conv_mobile_net(inp,k_size, filters, stride):\n",
        "  x = Conv1D(filters = filters, kernel_size = k_size, strides = stride, padding = \"same\")(inp)\n",
        "  x = BatchNormalization()(x)\n",
        "  x = Activation(\"relu\")(x)\n",
        "  return x\n",
        "\n",
        "\n",
        "\n"
      ]
    },
    {
      "cell_type": "markdown",
      "metadata": {
        "id": "He9Y-hJp2NKI"
      },
      "source": [
        "## Combined Model (Resnet50, Mobilenet, VGG16)\n",
        "    2 blocks of Resnet50\n",
        "    1 block of Mobilenet\n",
        "    2 blocks of VGG16 "
      ]
    },
    {
      "cell_type": "code",
      "execution_count": null,
      "metadata": {
        "colab": {
          "background_save": true,
          "base_uri": "https://localhost:8080/"
        },
        "id": "xmGHFZPC1Kjq",
        "outputId": "07d93f57-11c7-41ce-dabf-feec6acc4b0b"
      },
      "outputs": [
        {
          "name": "stdout",
          "output_type": "stream",
          "text": [
            "Epoch 1/50\n",
            "12/12 [==============================] - 16s 186ms/step - loss: 1.4411 - accuracy: 0.6848\n",
            "Epoch 2/50\n",
            "12/12 [==============================] - 2s 183ms/step - loss: 0.3599 - accuracy: 0.8490\n",
            "Epoch 3/50\n",
            "12/12 [==============================] - 2s 187ms/step - loss: 0.3042 - accuracy: 0.8848\n",
            "Epoch 4/50\n",
            "12/12 [==============================] - 2s 185ms/step - loss: 0.2873 - accuracy: 0.8795\n",
            "Epoch 5/50\n",
            "12/12 [==============================] - 2s 184ms/step - loss: 0.3484 - accuracy: 0.8742\n",
            "Epoch 6/50\n",
            "12/12 [==============================] - 2s 182ms/step - loss: 0.2597 - accuracy: 0.8874\n",
            "Epoch 7/50\n",
            "12/12 [==============================] - 2s 182ms/step - loss: 0.2915 - accuracy: 0.8768\n",
            "Epoch 8/50\n",
            "12/12 [==============================] - 2s 179ms/step - loss: 0.2175 - accuracy: 0.9192\n",
            "Epoch 9/50\n",
            "12/12 [==============================] - 2s 180ms/step - loss: 0.2454 - accuracy: 0.8980\n",
            "Epoch 10/50\n",
            "12/12 [==============================] - 2s 177ms/step - loss: 0.2193 - accuracy: 0.9126\n",
            "Epoch 11/50\n",
            "12/12 [==============================] - 2s 178ms/step - loss: 0.2168 - accuracy: 0.9020\n",
            "Epoch 12/50\n",
            "12/12 [==============================] - 2s 177ms/step - loss: 0.1944 - accuracy: 0.9338\n",
            "Epoch 13/50\n",
            "12/12 [==============================] - 2s 178ms/step - loss: 0.2060 - accuracy: 0.9139\n",
            "Epoch 14/50\n",
            "12/12 [==============================] - 2s 177ms/step - loss: 0.2103 - accuracy: 0.9325\n",
            "Epoch 15/50\n",
            "12/12 [==============================] - 2s 181ms/step - loss: 0.1327 - accuracy: 0.9364\n",
            "Epoch 16/50\n",
            "12/12 [==============================] - 2s 183ms/step - loss: 0.1120 - accuracy: 0.9576\n",
            "Epoch 17/50\n",
            "12/12 [==============================] - 2s 180ms/step - loss: 0.2170 - accuracy: 0.9179\n",
            "Epoch 18/50\n",
            "12/12 [==============================] - 2s 180ms/step - loss: 0.1464 - accuracy: 0.9417\n",
            "Epoch 19/50\n",
            "12/12 [==============================] - 2s 186ms/step - loss: 0.1425 - accuracy: 0.9457\n",
            "Epoch 20/50\n",
            "12/12 [==============================] - 2s 182ms/step - loss: 0.1472 - accuracy: 0.9417\n",
            "Epoch 21/50\n",
            "12/12 [==============================] - 2s 182ms/step - loss: 0.1256 - accuracy: 0.9470\n",
            "Epoch 22/50\n",
            "12/12 [==============================] - 2s 181ms/step - loss: 0.1623 - accuracy: 0.9470\n",
            "Epoch 23/50\n",
            "12/12 [==============================] - 2s 176ms/step - loss: 0.0870 - accuracy: 0.9656\n",
            "Epoch 24/50\n",
            "12/12 [==============================] - 2s 180ms/step - loss: 0.1551 - accuracy: 0.9404\n",
            "Epoch 25/50\n",
            "12/12 [==============================] - 2s 179ms/step - loss: 0.0977 - accuracy: 0.9709\n",
            "Epoch 26/50\n",
            "12/12 [==============================] - 2s 181ms/step - loss: 0.1115 - accuracy: 0.9550\n",
            "Epoch 27/50\n",
            "12/12 [==============================] - 2s 182ms/step - loss: 0.1287 - accuracy: 0.9576\n",
            "Epoch 28/50\n",
            "12/12 [==============================] - 2s 181ms/step - loss: 0.0851 - accuracy: 0.9669\n",
            "Epoch 29/50\n",
            "12/12 [==============================] - 2s 178ms/step - loss: 0.1029 - accuracy: 0.9616\n",
            "Epoch 30/50\n",
            "12/12 [==============================] - 2s 182ms/step - loss: 0.1326 - accuracy: 0.9603\n",
            "Epoch 31/50\n",
            "12/12 [==============================] - 2s 181ms/step - loss: 0.1267 - accuracy: 0.9576\n",
            "Epoch 32/50\n",
            "12/12 [==============================] - 2s 179ms/step - loss: 0.0711 - accuracy: 0.9762\n",
            "Epoch 33/50\n",
            "12/12 [==============================] - 2s 182ms/step - loss: 0.1090 - accuracy: 0.9695\n",
            "Epoch 34/50\n",
            "12/12 [==============================] - 2s 182ms/step - loss: 0.1006 - accuracy: 0.9629\n",
            "Epoch 35/50\n",
            "12/12 [==============================] - 2s 184ms/step - loss: 0.0627 - accuracy: 0.9735\n",
            "Epoch 36/50\n",
            "12/12 [==============================] - 2s 182ms/step - loss: 0.0869 - accuracy: 0.9801\n",
            "Epoch 37/50\n",
            "12/12 [==============================] - 2s 183ms/step - loss: 0.1220 - accuracy: 0.9616\n",
            "Epoch 38/50\n",
            "12/12 [==============================] - 2s 181ms/step - loss: 0.1372 - accuracy: 0.9709\n",
            "Epoch 39/50\n",
            "12/12 [==============================] - 2s 182ms/step - loss: 0.0768 - accuracy: 0.9775\n",
            "Epoch 40/50\n",
            "12/12 [==============================] - 2s 185ms/step - loss: 0.0993 - accuracy: 0.9722\n",
            "Epoch 41/50\n",
            "12/12 [==============================] - 2s 180ms/step - loss: 0.0609 - accuracy: 0.9815\n",
            "Epoch 42/50\n",
            "12/12 [==============================] - 2s 184ms/step - loss: 0.0956 - accuracy: 0.9642\n",
            "Epoch 43/50\n",
            "12/12 [==============================] - 2s 182ms/step - loss: 0.0818 - accuracy: 0.9762\n",
            "Epoch 44/50\n",
            "12/12 [==============================] - 2s 182ms/step - loss: 0.0789 - accuracy: 0.9709\n",
            "Epoch 45/50\n",
            "12/12 [==============================] - 2s 185ms/step - loss: 0.0717 - accuracy: 0.9815\n",
            "Epoch 46/50\n",
            "12/12 [==============================] - 2s 182ms/step - loss: 0.0622 - accuracy: 0.9775\n",
            "Epoch 47/50\n",
            "12/12 [==============================] - 2s 185ms/step - loss: 0.0806 - accuracy: 0.9801\n",
            "Epoch 48/50\n",
            "12/12 [==============================] - 2s 185ms/step - loss: 0.0691 - accuracy: 0.9788\n",
            "Epoch 49/50\n",
            "12/12 [==============================] - 2s 180ms/step - loss: 0.0387 - accuracy: 0.9894\n",
            "Epoch 50/50\n",
            "12/12 [==============================] - 2s 178ms/step - loss: 0.0730 - accuracy: 0.9841\n"
          ]
        }
      ],
      "source": [
        "def combined_model(input_shape = (19,1)):\n",
        "  input_layer = Input(shape = input_shape)\n",
        "  resnet = ZeroPadding1D()(input_layer)\n",
        "\n",
        "\n",
        "  resnet = Conv1D(64,7,strides = 2)(resnet)\n",
        "  resnet = BatchNormalization(axis = -1)(resnet)\n",
        "  resnet = Activation(\"relu\")(resnet)\n",
        "  resnet = MaxPooling1D(pool_size = (3), strides = 2)(resnet)\n",
        "  # Skip connection block 1\n",
        "  resnet = conv_block(input = resnet,k_size = 3, filters = [64,64,256],stride_size = 1)\n",
        "  resnet = identity_block(input = resnet, k_size = 3, filters = [64,64,256])\n",
        "  resnet = identity_block(input = resnet, k_size = 3, filters = [64,64,256])\n",
        "  \n",
        "  #Skip connection Block 2\n",
        "  resnet = conv_block(input = resnet, k_size = 3, filters = [128,128,512],stride_size = 2)\n",
        "  resnet = identity_block(input = resnet, k_size = 3, filters = [128,128,512])\n",
        "  resnet = identity_block(input = resnet, k_size = 3, filters = [128,128,512])\n",
        "  resnet = identity_block(input = resnet, k_size = 3, filters = [128,128,512])\n",
        "\n",
        "  resnet_flat = Flatten()(resnet)\n",
        "\n",
        "  #MobileNet\n",
        "\n",
        "  #block 1\n",
        "  mobilent = conv_mobile_net(inp = input_layer,k_size = 3,filters = 512,stride = 4) #32\n",
        "  mobilent = depthwise(inp = mobilent, filters = 512, stride = 3) #32 filters\n",
        "\n",
        "  mobilenet_flat = Flatten()(mobilent)\n",
        "\n",
        "  #VGG16\n",
        "  #block 1\n",
        "  vgg = Conv1D(filters = 64, kernel_size = 3,activation = \"relu\",strides = 1,padding=\"same\")(input_layer)\n",
        "  vgg = Conv1D(filters = 64, kernel_size = 3,activation = \"relu\",strides = 1,padding=\"same\")(vgg)\n",
        "  vgg = MaxPooling1D(pool_size = 2)(vgg)\n",
        "  \n",
        "  #block 2\n",
        "  vgg = Conv1D(filters = 128, kernel_size = 3,activation = \"relu\",strides = 1,padding=\"same\")(vgg)\n",
        "  vgg = Conv1D(filters = 512, kernel_size = 3,activation = \"relu\",strides = 2,padding=\"same\")(vgg) #stride = 1, filters = 128\n",
        "  vgg = MaxPooling1D(pool_size = 2)(vgg) #pool size = 2\n",
        "  \n",
        "  vgg_flat = Flatten()(vgg)\n",
        "  \n",
        "\n",
        "\n",
        "  concat = Add()([resnet_flat,mobilenet_flat,vgg_flat])\n",
        "  X = Dense(256,activation = \"relu\")(concat)\n",
        "  X = Dense(128,activation = \"relu\")(X)\n",
        "  X = Dense(32,activation= \"relu\")(X)\n",
        "  output_layer = Dense(1,activation = \"sigmoid\")(X)\n",
        "\n",
        "  model = Model(input_layer,output_layer)\n",
        "  return model\n",
        "\n",
        "combined_model1 = combined_model()\n",
        "combined_model1.compile(optimizer = \"rmsprop\", loss = \"binary_crossentropy\", metrics = [\"accuracy\"])\n",
        "history=combined_model1.fit(X_train,Y_train,epochs = 50, batch_size = 64)"
      ]
    },
    {
      "cell_type": "markdown",
      "source": [
        "###Test Accuracy"
      ],
      "metadata": {
        "id": "lvlSSOPvhjux"
      }
    },
    {
      "cell_type": "code",
      "execution_count": null,
      "metadata": {
        "colab": {
          "base_uri": "https://localhost:8080/"
        },
        "outputId": "5b862e98-a00e-4927-c10e-585d2928c31e",
        "id": "gYfg4uPIi0qf"
      },
      "outputs": [
        {
          "name": "stdout",
          "output_type": "stream",
          "text": [
            "6/6 [==============================] - 0s 8ms/step - loss: 0.6873 - accuracy: 0.9418\n"
          ]
        },
        {
          "data": {
            "text/plain": [
              "[0.6873089671134949, 0.9417989253997803]"
            ]
          },
          "execution_count": 58,
          "metadata": {},
          "output_type": "execute_result"
        }
      ],
      "source": [
        "combined_model1.evaluate(X_test,Y_test)"
      ]
    },
    {
      "cell_type": "markdown",
      "source": [
        "###Saving the model"
      ],
      "metadata": {
        "id": "M9F1Nj35j-mE"
      }
    },
    {
      "cell_type": "code",
      "source": [
        "#combined_model1.save(\"/content/drive/MyDrive/Virtual Consultant (FYP)/Heart Disease/Combination_of_Resnet_mobilenet_vgg_94.18%accuracy.h5\")\n",
        "model = load_model(\"/content/drive/MyDrive/Virtual Consultant (FYP)/Heart Disease/Combination_of_Resnet_mobilenet_vgg_94.18%accuracy.h5\")"
      ],
      "metadata": {
        "id": "LyHe6SmRjWcT"
      },
      "execution_count": null,
      "outputs": []
    },
    {
      "cell_type": "markdown",
      "source": [
        "###Heatmap"
      ],
      "metadata": {
        "id": "1h1NLrJmkBjL"
      }
    },
    {
      "cell_type": "code",
      "execution_count": null,
      "metadata": {
        "colab": {
          "base_uri": "https://localhost:8080/",
          "height": 312
        },
        "id": "g3B32fFPL_xm",
        "outputId": "8bf2ed9d-1c27-45f6-aab9-e45fd16dd995"
      },
      "outputs": [
        {
          "data": {
            "text/plain": [
              "[]"
            ]
          },
          "execution_count": 45,
          "metadata": {},
          "output_type": "execute_result"
        },
        {
          "data": {
            "image/png": "[encoded data removed]",
            "text/plain": [
              "<Figure size 432x288 with 2 Axes>"
            ]
          },
          "metadata": {},
          "output_type": "display_data"
        }
      ],
      "source": [
        "Y_pred = model.predict(X_test)\n",
        "Y_pred = np.round(abs(Y_pred))\n",
        "conf_matrix = confusion_matrix(Y_test,Y_pred)\n",
        "\n",
        "sns.heatmap(conf_matrix,annot = True,fmt = \".3g\")\n",
        "plt.ylabel(\"True Label\")\n",
        "plt.xlabel(\"Predicted Label\")\n",
        "plt.title(\"Confusion Matrix\")\n",
        "plt.savefig(\"/content/drive/MyDrive/Virtual Consultant (FYP)/Heart Disease/Heart_Disease_Pictures/CM_CNN.png\",format = \"png\",dbi = 1200)\n",
        "plt.plot()"
      ]
    },
    {
      "cell_type": "markdown",
      "source": [
        "#Covolutional Neural Network (Resnet50, VGG16, MobileNet) as a feature extractor with Random Forest "
      ],
      "metadata": {
        "id": "DiMg4CldLgKt"
      }
    },
    {
      "cell_type": "code",
      "source": [
        "loss = 1.0e-3\n",
        "class MyCallBack(tf.keras.callbacks.Callback):\n",
        "  def on_epoch_end(self,epochs,logs = {}):\n",
        "    if logs.get(\"loss\")< loss:\n",
        "      self.model.stop_training = True\n",
        "\n",
        "mycallback = MyCallBack()"
      ],
      "metadata": {
        "id": "9ktBdaozV_L8"
      },
      "execution_count": null,
      "outputs": []
    },
    {
      "cell_type": "code",
      "source": [
        "input_shape = (19,1)\n",
        "input_layer = Input(shape = input_shape)\n",
        "resnet = ZeroPadding1D()(input_layer)\n",
        "\n",
        "\n",
        "resnet = Conv1D(64,7,strides = 2)(resnet)\n",
        "resnet = BatchNormalization(axis = -1)(resnet)\n",
        "resnet = Activation(\"relu\")(resnet)\n",
        "resnet = MaxPooling1D(pool_size = (3), strides = 2)(resnet)\n",
        "# Skip connection block 1\n",
        "resnet = conv_block(input = resnet,k_size = 3, filters = [64,64,256],stride_size = 1)\n",
        "resnet = identity_block(input = resnet, k_size = 3, filters = [64,64,256])\n",
        "resnet = identity_block(input = resnet, k_size = 3, filters = [64,64,256])\n",
        "\n",
        "#Skip connection Block 2\n",
        "resnet = conv_block(input = resnet, k_size = 3, filters = [128,128,512],stride_size = 2)\n",
        "resnet = identity_block(input = resnet, k_size = 3, filters = [128,128,512])\n",
        "resnet = identity_block(input = resnet, k_size = 3, filters = [128,128,512])\n",
        "resnet = identity_block(input = resnet, k_size = 3, filters = [128,128,512])\n",
        "\n",
        "resnet_flat = Flatten()(resnet)\n",
        "\n",
        "#MobileNet\n",
        "\n",
        "#block 1\n",
        "mobilent = conv_mobile_net(inp = input_layer,k_size = 3,filters = 512,stride = 4) #32\n",
        "mobilent = depthwise(inp = mobilent, filters = 512, stride = 3) #32 filters\n",
        "\n",
        "mobilenet_flat = Flatten()(mobilent)\n",
        "\n",
        "#VGG16\n",
        "#block 1\n",
        "vgg = Conv1D(filters = 64, kernel_size = 3,activation = \"relu\",strides = 1,padding=\"same\")(input_layer)\n",
        "vgg = Conv1D(filters = 64, kernel_size = 3,activation = \"relu\",strides = 1,padding=\"same\")(vgg)\n",
        "vgg = MaxPooling1D(pool_size = 2)(vgg)\n",
        "\n",
        "#block 2\n",
        "vgg = Conv1D(filters = 128, kernel_size = 3,activation = \"relu\",strides = 1,padding=\"same\")(vgg)\n",
        "vgg = Conv1D(filters = 512, kernel_size = 3,activation = \"relu\",strides = 2,padding=\"same\")(vgg) #stride = 1, filters = 128\n",
        "vgg = MaxPooling1D(pool_size = 2)(vgg) #pool size = 2\n",
        "\n",
        "vgg_flat = Flatten()(vgg)\n",
        "\n",
        "\n",
        "\n",
        "concat = Add()([resnet_flat,mobilenet_flat,vgg_flat])\n",
        "feature_extractor = Model(inputs = input_layer, outputs = concat)\n",
        "\n",
        "X = Dense(64,activation = \"relu\")(feature_extractor.output)\n",
        "\n",
        "\n",
        "output_layer = Dense(1,activation = \"sigmoid\")(X)\n",
        "\n",
        "cnn_model = Model(inputs = feature_extractor.input, outputs = output_layer)\n",
        "\n",
        "\n",
        "cnn_model.compile(optimizer = \"rmsprop\", loss = \"binary_crossentropy\", metrics = [\"accuracy\"])\n",
        "cnn_model.fit(X_train,Y_train,epochs = 100, batch_size = 64,callbacks = [mycallback])"
      ],
      "metadata": {
        "colab": {
          "base_uri": "https://localhost:8080/"
        },
        "id": "CIvTlObkLoHP",
        "outputId": "c514edd2-46fd-48a6-997c-b51c86b78ca4"
      },
      "execution_count": null,
      "outputs": [
        {
          "output_type": "stream",
          "name": "stdout",
          "text": [
            "Epoch 1/100\n",
            "12/12 [==============================] - 14s 170ms/step - loss: 0.9989 - accuracy: 0.7523\n",
            "Epoch 2/100\n",
            "12/12 [==============================] - 2s 169ms/step - loss: 0.3693 - accuracy: 0.8503\n",
            "Epoch 3/100\n",
            "12/12 [==============================] - 2s 173ms/step - loss: 0.2996 - accuracy: 0.8781\n",
            "Epoch 4/100\n",
            "12/12 [==============================] - 2s 170ms/step - loss: 0.3255 - accuracy: 0.8596\n",
            "Epoch 5/100\n",
            "12/12 [==============================] - 2s 172ms/step - loss: 0.3012 - accuracy: 0.8755\n",
            "Epoch 6/100\n",
            "12/12 [==============================] - 2s 172ms/step - loss: 0.2975 - accuracy: 0.8887\n",
            "Epoch 7/100\n",
            "12/12 [==============================] - 2s 169ms/step - loss: 0.2995 - accuracy: 0.8702\n",
            "Epoch 8/100\n",
            "12/12 [==============================] - 2s 172ms/step - loss: 0.2198 - accuracy: 0.9126\n",
            "Epoch 9/100\n",
            "12/12 [==============================] - 2s 170ms/step - loss: 0.2608 - accuracy: 0.8874\n",
            "Epoch 10/100\n",
            "12/12 [==============================] - 2s 172ms/step - loss: 0.2047 - accuracy: 0.9073\n",
            "Epoch 11/100\n",
            "12/12 [==============================] - 2s 168ms/step - loss: 0.2277 - accuracy: 0.9086\n",
            "Epoch 12/100\n",
            "12/12 [==============================] - 2s 169ms/step - loss: 0.1895 - accuracy: 0.9152\n",
            "Epoch 13/100\n",
            "12/12 [==============================] - 2s 172ms/step - loss: 0.2165 - accuracy: 0.9258\n",
            "Epoch 14/100\n",
            "12/12 [==============================] - 2s 170ms/step - loss: 0.1836 - accuracy: 0.9232\n",
            "Epoch 15/100\n",
            "12/12 [==============================] - 2s 170ms/step - loss: 0.1720 - accuracy: 0.9325\n",
            "Epoch 16/100\n",
            "12/12 [==============================] - 2s 172ms/step - loss: 0.1766 - accuracy: 0.9272\n",
            "Epoch 17/100\n",
            "12/12 [==============================] - 2s 171ms/step - loss: 0.1867 - accuracy: 0.9205\n",
            "Epoch 18/100\n",
            "12/12 [==============================] - 2s 170ms/step - loss: 0.1498 - accuracy: 0.9338\n",
            "Epoch 19/100\n",
            "12/12 [==============================] - 2s 168ms/step - loss: 0.1320 - accuracy: 0.9364\n",
            "Epoch 20/100\n",
            "12/12 [==============================] - 2s 171ms/step - loss: 0.1379 - accuracy: 0.9377\n",
            "Epoch 21/100\n",
            "12/12 [==============================] - 2s 169ms/step - loss: 0.1522 - accuracy: 0.9325\n",
            "Epoch 22/100\n",
            "12/12 [==============================] - 2s 171ms/step - loss: 0.1803 - accuracy: 0.9430\n",
            "Epoch 23/100\n",
            "12/12 [==============================] - 2s 173ms/step - loss: 0.1666 - accuracy: 0.9483\n",
            "Epoch 24/100\n",
            "12/12 [==============================] - 2s 172ms/step - loss: 0.1107 - accuracy: 0.9536\n",
            "Epoch 25/100\n",
            "12/12 [==============================] - 2s 171ms/step - loss: 0.1242 - accuracy: 0.9616\n",
            "Epoch 26/100\n",
            "12/12 [==============================] - 2s 171ms/step - loss: 0.1425 - accuracy: 0.9550\n",
            "Epoch 27/100\n",
            "12/12 [==============================] - 2s 169ms/step - loss: 0.1191 - accuracy: 0.9536\n",
            "Epoch 28/100\n",
            "12/12 [==============================] - 2s 171ms/step - loss: 0.1654 - accuracy: 0.9576\n",
            "Epoch 29/100\n",
            "12/12 [==============================] - 2s 173ms/step - loss: 0.0735 - accuracy: 0.9735\n",
            "Epoch 30/100\n",
            "12/12 [==============================] - 2s 173ms/step - loss: 0.1103 - accuracy: 0.9629\n",
            "Epoch 31/100\n",
            "12/12 [==============================] - 2s 173ms/step - loss: 0.1441 - accuracy: 0.9457\n",
            "Epoch 32/100\n",
            "12/12 [==============================] - 2s 170ms/step - loss: 0.0436 - accuracy: 0.9775\n",
            "Epoch 33/100\n",
            "12/12 [==============================] - 2s 172ms/step - loss: 0.1404 - accuracy: 0.9550\n",
            "Epoch 34/100\n",
            "12/12 [==============================] - 2s 173ms/step - loss: 0.0691 - accuracy: 0.9775\n",
            "Epoch 35/100\n",
            "12/12 [==============================] - 2s 173ms/step - loss: 0.0931 - accuracy: 0.9748\n",
            "Epoch 36/100\n",
            "12/12 [==============================] - 2s 172ms/step - loss: 0.1026 - accuracy: 0.9682\n",
            "Epoch 37/100\n",
            "12/12 [==============================] - 2s 172ms/step - loss: 0.0798 - accuracy: 0.9682\n",
            "Epoch 38/100\n",
            "12/12 [==============================] - 2s 176ms/step - loss: 0.0967 - accuracy: 0.9722\n",
            "Epoch 39/100\n",
            "12/12 [==============================] - 2s 172ms/step - loss: 0.0832 - accuracy: 0.9735\n",
            "Epoch 40/100\n",
            "12/12 [==============================] - 2s 173ms/step - loss: 0.0665 - accuracy: 0.9735\n",
            "Epoch 41/100\n",
            "12/12 [==============================] - 2s 173ms/step - loss: 0.0744 - accuracy: 0.9762\n",
            "Epoch 42/100\n",
            "12/12 [==============================] - 2s 174ms/step - loss: 0.0828 - accuracy: 0.9775\n",
            "Epoch 43/100\n",
            "12/12 [==============================] - 2s 174ms/step - loss: 0.0496 - accuracy: 0.9854\n",
            "Epoch 44/100\n",
            "12/12 [==============================] - 2s 173ms/step - loss: 0.1124 - accuracy: 0.9722\n",
            "Epoch 45/100\n",
            "12/12 [==============================] - 2s 172ms/step - loss: 0.0844 - accuracy: 0.9735\n",
            "Epoch 46/100\n",
            "12/12 [==============================] - 2s 171ms/step - loss: 0.0262 - accuracy: 0.9921\n",
            "Epoch 47/100\n",
            "12/12 [==============================] - 2s 171ms/step - loss: 0.0984 - accuracy: 0.9762\n",
            "Epoch 48/100\n",
            "12/12 [==============================] - 2s 172ms/step - loss: 0.0739 - accuracy: 0.9722\n",
            "Epoch 49/100\n",
            "12/12 [==============================] - 2s 171ms/step - loss: 0.0668 - accuracy: 0.9748\n",
            "Epoch 50/100\n",
            "12/12 [==============================] - 2s 170ms/step - loss: 0.0417 - accuracy: 0.9868\n",
            "Epoch 51/100\n",
            "12/12 [==============================] - 2s 172ms/step - loss: 0.1135 - accuracy: 0.9815\n",
            "Epoch 52/100\n",
            "12/12 [==============================] - 2s 172ms/step - loss: 0.0554 - accuracy: 0.9801\n",
            "Epoch 53/100\n",
            "12/12 [==============================] - 2s 173ms/step - loss: 0.0686 - accuracy: 0.9815\n",
            "Epoch 54/100\n",
            "12/12 [==============================] - 2s 172ms/step - loss: 0.0413 - accuracy: 0.9894\n",
            "Epoch 55/100\n",
            "12/12 [==============================] - 2s 172ms/step - loss: 0.0666 - accuracy: 0.9815\n",
            "Epoch 56/100\n",
            "12/12 [==============================] - 2s 172ms/step - loss: 0.0538 - accuracy: 0.9762\n",
            "Epoch 57/100\n",
            "12/12 [==============================] - 2s 172ms/step - loss: 0.0251 - accuracy: 0.9894\n",
            "Epoch 58/100\n",
            "12/12 [==============================] - 2s 176ms/step - loss: 0.0443 - accuracy: 0.9854\n",
            "Epoch 59/100\n",
            "12/12 [==============================] - 2s 174ms/step - loss: 0.0409 - accuracy: 0.9815\n",
            "Epoch 60/100\n",
            "12/12 [==============================] - 2s 177ms/step - loss: 0.0340 - accuracy: 0.9854\n",
            "Epoch 61/100\n",
            "12/12 [==============================] - 2s 173ms/step - loss: 0.0757 - accuracy: 0.9748\n",
            "Epoch 62/100\n",
            "12/12 [==============================] - 2s 173ms/step - loss: 0.0524 - accuracy: 0.9841\n",
            "Epoch 63/100\n",
            "12/12 [==============================] - 2s 175ms/step - loss: 0.0978 - accuracy: 0.9828\n",
            "Epoch 64/100\n",
            "12/12 [==============================] - 2s 171ms/step - loss: 0.0584 - accuracy: 0.9788\n",
            "Epoch 65/100\n",
            "12/12 [==============================] - 2s 170ms/step - loss: 0.0605 - accuracy: 0.9894\n",
            "Epoch 66/100\n",
            "12/12 [==============================] - 2s 170ms/step - loss: 0.0454 - accuracy: 0.9854\n",
            "Epoch 67/100\n",
            "12/12 [==============================] - 2s 172ms/step - loss: 0.0348 - accuracy: 0.9894\n",
            "Epoch 68/100\n",
            "12/12 [==============================] - 2s 170ms/step - loss: 0.0531 - accuracy: 0.9868\n",
            "Epoch 69/100\n",
            "12/12 [==============================] - 2s 171ms/step - loss: 0.0679 - accuracy: 0.9775\n",
            "Epoch 70/100\n",
            "12/12 [==============================] - 2s 172ms/step - loss: 0.0659 - accuracy: 0.9815\n",
            "Epoch 71/100\n",
            "12/12 [==============================] - 2s 170ms/step - loss: 0.0555 - accuracy: 0.9801\n",
            "Epoch 72/100\n",
            "12/12 [==============================] - 2s 171ms/step - loss: 0.0103 - accuracy: 1.0000\n",
            "Epoch 73/100\n",
            "12/12 [==============================] - 2s 172ms/step - loss: 0.0119 - accuracy: 0.9960\n",
            "Epoch 74/100\n",
            "12/12 [==============================] - 2s 172ms/step - loss: 0.0530 - accuracy: 0.9801\n",
            "Epoch 75/100\n",
            "12/12 [==============================] - 2s 172ms/step - loss: 0.0483 - accuracy: 0.9854\n",
            "Epoch 76/100\n",
            "12/12 [==============================] - 2s 172ms/step - loss: 0.0861 - accuracy: 0.9894\n",
            "Epoch 77/100\n",
            "12/12 [==============================] - 2s 171ms/step - loss: 0.0330 - accuracy: 0.9894\n",
            "Epoch 78/100\n",
            "12/12 [==============================] - 2s 173ms/step - loss: 0.0371 - accuracy: 0.9881\n",
            "Epoch 79/100\n",
            "12/12 [==============================] - 2s 171ms/step - loss: 0.0691 - accuracy: 0.9788\n",
            "Epoch 80/100\n",
            "12/12 [==============================] - 2s 172ms/step - loss: 0.0299 - accuracy: 0.9934\n",
            "Epoch 81/100\n",
            "12/12 [==============================] - 2s 170ms/step - loss: 0.0340 - accuracy: 0.9921\n",
            "Epoch 82/100\n",
            "12/12 [==============================] - 2s 172ms/step - loss: 0.0336 - accuracy: 0.9934\n",
            "Epoch 83/100\n",
            "12/12 [==============================] - 2s 170ms/step - loss: 0.0224 - accuracy: 0.9894\n",
            "Epoch 84/100\n",
            "12/12 [==============================] - 2s 172ms/step - loss: 0.0653 - accuracy: 0.9868\n",
            "Epoch 85/100\n",
            "12/12 [==============================] - 2s 171ms/step - loss: 0.0157 - accuracy: 0.9934\n",
            "Epoch 86/100\n",
            "12/12 [==============================] - 2s 171ms/step - loss: 0.0697 - accuracy: 0.9868\n",
            "Epoch 87/100\n",
            "12/12 [==============================] - 2s 171ms/step - loss: 0.0075 - accuracy: 0.9974\n",
            "Epoch 88/100\n",
            "12/12 [==============================] - 2s 171ms/step - loss: 0.0074 - accuracy: 0.9987\n",
            "Epoch 89/100\n",
            "12/12 [==============================] - 2s 174ms/step - loss: 0.0866 - accuracy: 0.9775\n",
            "Epoch 90/100\n",
            "12/12 [==============================] - 2s 172ms/step - loss: 0.0471 - accuracy: 0.9854\n",
            "Epoch 91/100\n",
            "12/12 [==============================] - 2s 170ms/step - loss: 0.0173 - accuracy: 0.9947\n",
            "Epoch 92/100\n",
            "12/12 [==============================] - 2s 173ms/step - loss: 0.0758 - accuracy: 0.9828\n",
            "Epoch 93/100\n",
            "12/12 [==============================] - 2s 173ms/step - loss: 0.0229 - accuracy: 0.9947\n",
            "Epoch 94/100\n",
            "12/12 [==============================] - 2s 174ms/step - loss: 0.0225 - accuracy: 0.9960\n",
            "Epoch 95/100\n",
            "12/12 [==============================] - 3s 296ms/step - loss: 0.0611 - accuracy: 0.9921\n",
            "Epoch 96/100\n",
            "12/12 [==============================] - 4s 305ms/step - loss: 0.0200 - accuracy: 0.9960\n",
            "Epoch 97/100\n",
            "12/12 [==============================] - 4s 303ms/step - loss: 0.0718 - accuracy: 0.9841\n",
            "Epoch 98/100\n",
            "12/12 [==============================] - 2s 170ms/step - loss: 0.0545 - accuracy: 0.9815\n",
            "Epoch 99/100\n",
            "12/12 [==============================] - 2s 170ms/step - loss: 0.0444 - accuracy: 0.9894\n",
            "Epoch 100/100\n",
            "12/12 [==============================] - 2s 172ms/step - loss: 0.0312 - accuracy: 0.9894\n"
          ]
        },
        {
          "output_type": "execute_result",
          "data": {
            "text/plain": [
              "<keras.callbacks.History at 0x7f1140f25c50>"
            ]
          },
          "metadata": {},
          "execution_count": 48
        }
      ]
    },
    {
      "cell_type": "code",
      "source": [
        "cnn_model.evaluate(X_test,Y_test)"
      ],
      "metadata": {
        "colab": {
          "base_uri": "https://localhost:8080/"
        },
        "id": "6hokQvTPMpCK",
        "outputId": "9949866b-9423-4f03-f0da-5cd1be51f13f"
      },
      "execution_count": null,
      "outputs": [
        {
          "output_type": "stream",
          "name": "stdout",
          "text": [
            "6/6 [==============================] - 1s 15ms/step - loss: 2.5935 - accuracy: 0.8783\n"
          ]
        },
        {
          "output_type": "execute_result",
          "data": {
            "text/plain": [
              "[2.59354567527771, 0.8783068656921387]"
            ]
          },
          "metadata": {},
          "execution_count": 49
        }
      ]
    },
    {
      "cell_type": "code",
      "source": [
        "X_train_features = feature_extractor.predict(X_train)\n",
        "X_test_features = feature_extractor.predict(X_test)"
      ],
      "metadata": {
        "id": "xkVQuB4aNQwd"
      },
      "execution_count": null,
      "outputs": []
    },
    {
      "cell_type": "code",
      "source": [
        "Rf_with_CNN = RandomForestClassifier()\n",
        "Rf_with_CNN.fit(X_train_features,Y_train)\n",
        "Rf_with_CNN.score(X_train_features,Y_train)\n",
        "Rf_with_CNN.score(X_test_features,Y_test)"
      ],
      "metadata": {
        "colab": {
          "base_uri": "https://localhost:8080/"
        },
        "id": "DiglexF0Nbt2",
        "outputId": "67684df6-6f8d-47ca-c9fa-d09913db2476"
      },
      "execution_count": null,
      "outputs": [
        {
          "output_type": "execute_result",
          "data": {
            "text/plain": [
              "0.8941798941798942"
            ]
          },
          "metadata": {},
          "execution_count": 52
        }
      ]
    },
    {
      "cell_type": "code",
      "source": [
        ""
      ],
      "metadata": {
        "colab": {
          "base_uri": "https://localhost:8080/"
        },
        "id": "53KjxereNkXW",
        "outputId": "52823a34-3e00-4614-c0f6-57f2465a291e"
      },
      "execution_count": null,
      "outputs": [
        {
          "output_type": "execute_result",
          "data": {
            "text/plain": [
              "0.9523809523809523"
            ]
          },
          "metadata": {},
          "execution_count": 46
        }
      ]
    }
  ],
  "metadata": {
    "accelerator": "TPU",
    "colab": {
      "collapsed_sections": [],
      "name": "FYP_Heart_Disease Using CNN.ipynb",
      "provenance": []
    },
    "kernelspec": {
      "display_name": "Python 3",
      "name": "python3"
    },
    "language_info": {
      "name": "python"
    }
  },
  "nbformat": 4,
  "nbformat_minor": 0
}