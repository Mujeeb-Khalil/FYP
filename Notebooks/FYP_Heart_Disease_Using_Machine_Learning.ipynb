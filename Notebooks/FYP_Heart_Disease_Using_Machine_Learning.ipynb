{
  "cells": [
    {
      "cell_type": "markdown",
      "metadata": {
        "id": "uYVM1nw5Eszh"
      },
      "source": [
        "#Importing Libraires"
      ]
    },
    {
      "cell_type": "code",
      "execution_count": null,
      "metadata": {
        "id": "5DU0gJ7QCAdF"
      },
      "outputs": [],
      "source": [
        "import pandas as pd\n",
        "from sklearn.model_selection import train_test_split\n",
        "from sklearn.svm import SVC\n",
        "from sklearn.preprocessing import MinMaxScaler\n",
        "from sklearn.ensemble import RandomForestClassifier,ExtraTreesClassifier, VotingClassifier\n",
        "from sklearn.linear_model import LogisticRegression\n",
        "from sklearn.metrics import accuracy_score,classification_report,confusion_matrix, precision_score, f1_score, recall_score\n",
        "from xgboost import XGBClassifier\n",
        "from sklearn.neural_network import MLPClassifier\n",
        "from sklearn.model_selection import RandomizedSearchCV,GridSearchCV\n",
        "import seaborn as sns\n",
        "import matplotlib.pyplot as plt\n",
        "import numpy as np\n",
        "import pickle\n"
      ]
    },
    {
      "cell_type": "markdown",
      "metadata": {
        "id": "99PzsMIEEufp"
      },
      "source": [
        "#Loading Dataset"
      ]
    },
    {
      "cell_type": "code",
      "execution_count": null,
      "metadata": {
        "id": "U6Owp7zvEhjk"
      },
      "outputs": [],
      "source": [
        "data = pd.read_csv(\"/content/drive/MyDrive/Virtual Consultant (FYP)/Heart Disease/Preprocessed_data.csv\")"
      ]
    },
    {
      "cell_type": "code",
      "execution_count": null,
      "metadata": {
        "colab": {
          "base_uri": "https://localhost:8080/",
          "height": 340
        },
        "id": "jHjIf58YE1uT",
        "outputId": "08b4a484-4efc-42a1-c701-349e20375685"
      },
      "outputs": [
        {
          "output_type": "execute_result",
          "data": {
            "text/plain": [
              "   age  sex  resting bp s  cholesterol  fasting blood sugar  max heart rate  \\\n",
              "0   40    1           140          289                    0             172   \n",
              "1   49    0           160          180                    0             156   \n",
              "2   37    1           130          283                    0              98   \n",
              "3   48    0           138          214                    0             108   \n",
              "4   54    1           150          195                    0             122   \n",
              "\n",
              "   exercise angina  oldpeak  target  chest pain type_asymptomatic  \\\n",
              "0                0      0.0       0                             0   \n",
              "1                0      1.0       1                             0   \n",
              "2                0      0.0       0                             0   \n",
              "3                1      1.5       1                             1   \n",
              "4                0      0.0       0                             0   \n",
              "\n",
              "   chest pain type_atypical angina  chest pain type_non-anginal pain  \\\n",
              "0                                1                                 0   \n",
              "1                                0                                 1   \n",
              "2                                1                                 0   \n",
              "3                                0                                 0   \n",
              "4                                0                                 1   \n",
              "\n",
              "   chest pain type_typical angina  ST slope_downsloping  ST slope_flat  \\\n",
              "0                               0                     0              0   \n",
              "1                               0                     0              1   \n",
              "2                               0                     0              0   \n",
              "3                               0                     0              1   \n",
              "4                               0                     0              0   \n",
              "\n",
              "   ST slope_normal  ST slope_upsloping  resting ecg_ST-T wave abnormality  \\\n",
              "0                0                   1                                  0   \n",
              "1                0                   0                                  0   \n",
              "2                0                   1                                  1   \n",
              "3                0                   0                                  0   \n",
              "4                0                   1                                  0   \n",
              "\n",
              "   resting ecg_left ventricular hypertrophy  resting ecg_normal  \n",
              "0                                         0                   1  \n",
              "1                                         0                   1  \n",
              "2                                         0                   0  \n",
              "3                                         0                   1  \n",
              "4                                         0                   1  "
            ],
            "text/html": [
              "\n",
              "  <div id=\"df-8fee527a-e29d-4b47-906f-2de701fa5c56\">\n",
              "    <div class=\"colab-df-container\">\n",
              "      <div>\n",
              "<style scoped>\n",
              "    .dataframe tbody tr th:only-of-type {\n",
              "        vertical-align: middle;\n",
              "    }\n",
              "\n",
              "    .dataframe tbody tr th {\n",
              "        vertical-align: top;\n",
              "    }\n",
              "\n",
              "    .dataframe thead th {\n",
              "        text-align: right;\n",
              "    }\n",
              "</style>\n",
              "<table border=\"1\" class=\"dataframe\">\n",
              "  <thead>\n",
              "    <tr style=\"text-align: right;\">\n",
              "      <th></th>\n",
              "      <th>age</th>\n",
              "      <th>sex</th>\n",
              "      <th>resting bp s</th>\n",
              "      <th>cholesterol</th>\n",
              "      <th>fasting blood sugar</th>\n",
              "      <th>max heart rate</th>\n",
              "      <th>exercise angina</th>\n",
              "      <th>oldpeak</th>\n",
              "      <th>target</th>\n",
              "      <th>chest pain type_asymptomatic</th>\n",
              "      <th>chest pain type_atypical angina</th>\n",
              "      <th>chest pain type_non-anginal pain</th>\n",
              "      <th>chest pain type_typical angina</th>\n",
              "      <th>ST slope_downsloping</th>\n",
              "      <th>ST slope_flat</th>\n",
              "      <th>ST slope_normal</th>\n",
              "      <th>ST slope_upsloping</th>\n",
              "      <th>resting ecg_ST-T wave abnormality</th>\n",
              "      <th>resting ecg_left ventricular hypertrophy</th>\n",
              "      <th>resting ecg_normal</th>\n",
              "    </tr>\n",
              "  </thead>\n",
              "  <tbody>\n",
              "    <tr>\n",
              "      <th>0</th>\n",
              "      <td>40</td>\n",
              "      <td>1</td>\n",
              "      <td>140</td>\n",
              "      <td>289</td>\n",
              "      <td>0</td>\n",
              "      <td>172</td>\n",
              "      <td>0</td>\n",
              "      <td>0.0</td>\n",
              "      <td>0</td>\n",
              "      <td>0</td>\n",
              "      <td>1</td>\n",
              "      <td>0</td>\n",
              "      <td>0</td>\n",
              "      <td>0</td>\n",
              "      <td>0</td>\n",
              "      <td>0</td>\n",
              "      <td>1</td>\n",
              "      <td>0</td>\n",
              "      <td>0</td>\n",
              "      <td>1</td>\n",
              "    </tr>\n",
              "    <tr>\n",
              "      <th>1</th>\n",
              "      <td>49</td>\n",
              "      <td>0</td>\n",
              "      <td>160</td>\n",
              "      <td>180</td>\n",
              "      <td>0</td>\n",
              "      <td>156</td>\n",
              "      <td>0</td>\n",
              "      <td>1.0</td>\n",
              "      <td>1</td>\n",
              "      <td>0</td>\n",
              "      <td>0</td>\n",
              "      <td>1</td>\n",
              "      <td>0</td>\n",
              "      <td>0</td>\n",
              "      <td>1</td>\n",
              "      <td>0</td>\n",
              "      <td>0</td>\n",
              "      <td>0</td>\n",
              "      <td>0</td>\n",
              "      <td>1</td>\n",
              "    </tr>\n",
              "    <tr>\n",
              "      <th>2</th>\n",
              "      <td>37</td>\n",
              "      <td>1</td>\n",
              "      <td>130</td>\n",
              "      <td>283</td>\n",
              "      <td>0</td>\n",
              "      <td>98</td>\n",
              "      <td>0</td>\n",
              "      <td>0.0</td>\n",
              "      <td>0</td>\n",
              "      <td>0</td>\n",
              "      <td>1</td>\n",
              "      <td>0</td>\n",
              "      <td>0</td>\n",
              "      <td>0</td>\n",
              "      <td>0</td>\n",
              "      <td>0</td>\n",
              "      <td>1</td>\n",
              "      <td>1</td>\n",
              "      <td>0</td>\n",
              "      <td>0</td>\n",
              "    </tr>\n",
              "    <tr>\n",
              "      <th>3</th>\n",
              "      <td>48</td>\n",
              "      <td>0</td>\n",
              "      <td>138</td>\n",
              "      <td>214</td>\n",
              "      <td>0</td>\n",
              "      <td>108</td>\n",
              "      <td>1</td>\n",
              "      <td>1.5</td>\n",
              "      <td>1</td>\n",
              "      <td>1</td>\n",
              "      <td>0</td>\n",
              "      <td>0</td>\n",
              "      <td>0</td>\n",
              "      <td>0</td>\n",
              "      <td>1</td>\n",
              "      <td>0</td>\n",
              "      <td>0</td>\n",
              "      <td>0</td>\n",
              "      <td>0</td>\n",
              "      <td>1</td>\n",
              "    </tr>\n",
              "    <tr>\n",
              "      <th>4</th>\n",
              "      <td>54</td>\n",
              "      <td>1</td>\n",
              "      <td>150</td>\n",
              "      <td>195</td>\n",
              "      <td>0</td>\n",
              "      <td>122</td>\n",
              "      <td>0</td>\n",
              "      <td>0.0</td>\n",
              "      <td>0</td>\n",
              "      <td>0</td>\n",
              "      <td>0</td>\n",
              "      <td>1</td>\n",
              "      <td>0</td>\n",
              "      <td>0</td>\n",
              "      <td>0</td>\n",
              "      <td>0</td>\n",
              "      <td>1</td>\n",
              "      <td>0</td>\n",
              "      <td>0</td>\n",
              "      <td>1</td>\n",
              "    </tr>\n",
              "  </tbody>\n",
              "</table>\n",
              "</div>\n",
              "      <button class=\"colab-df-convert\" onclick=\"convertToInteractive('df-8fee527a-e29d-4b47-906f-2de701fa5c56')\"\n",
              "              title=\"Convert this dataframe to an interactive table.\"\n",
              "              style=\"display:none;\">\n",
              "        \n",
              "  <svg xmlns=\"http://www.w3.org/2000/svg\" height=\"24px\"viewBox=\"0 0 24 24\"\n",
              "       width=\"24px\">\n",
              "    <path d=\"M0 0h24v24H0V0z\" fill=\"none\"/>\n",
              "    <path d=\"M18.56 5.44l.94 2.06.94-2.06 2.06-.94-2.06-.94-.94-2.06-.94 2.06-2.06.94zm-11 1L8.5 8.5l.94-2.06 2.06-.94-2.06-.94L8.5 2.5l-.94 2.06-2.06.94zm10 10l.94 2.06.94-2.06 2.06-.94-2.06-.94-.94-2.06-.94 2.06-2.06.94z\"/><path d=\"M17.41 7.96l-1.37-1.37c-.4-.4-.92-.59-1.43-.59-.52 0-1.04.2-1.43.59L10.3 9.45l-7.72 7.72c-.78.78-.78 2.05 0 2.83L4 21.41c.39.39.9.59 1.41.59.51 0 1.02-.2 1.41-.59l7.78-7.78 2.81-2.81c.8-.78.8-2.07 0-2.86zM5.41 20L4 18.59l7.72-7.72 1.47 1.35L5.41 20z\"/>\n",
              "  </svg>\n",
              "      </button>\n",
              "      \n",
              "  <style>\n",
              "    .colab-df-container {\n",
              "      display:flex;\n",
              "      flex-wrap:wrap;\n",
              "      gap: 12px;\n",
              "    }\n",
              "\n",
              "    .colab-df-convert {\n",
              "      background-color: #E8F0FE;\n",
              "      border: none;\n",
              "      border-radius: 50%;\n",
              "      cursor: pointer;\n",
              "      display: none;\n",
              "      fill: #1967D2;\n",
              "      height: 32px;\n",
              "      padding: 0 0 0 0;\n",
              "      width: 32px;\n",
              "    }\n",
              "\n",
              "    .colab-df-convert:hover {\n",
              "      background-color: #E2EBFA;\n",
              "      box-shadow: 0px 1px 2px rgba(60, 64, 67, 0.3), 0px 1px 3px 1px rgba(60, 64, 67, 0.15);\n",
              "      fill: #174EA6;\n",
              "    }\n",
              "\n",
              "    [theme=dark] .colab-df-convert {\n",
              "      background-color: #3B4455;\n",
              "      fill: #D2E3FC;\n",
              "    }\n",
              "\n",
              "    [theme=dark] .colab-df-convert:hover {\n",
              "      background-color: #434B5C;\n",
              "      box-shadow: 0px 1px 3px 1px rgba(0, 0, 0, 0.15);\n",
              "      filter: drop-shadow(0px 1px 2px rgba(0, 0, 0, 0.3));\n",
              "      fill: #FFFFFF;\n",
              "    }\n",
              "  </style>\n",
              "\n",
              "      <script>\n",
              "        const buttonEl =\n",
              "          document.querySelector('#df-8fee527a-e29d-4b47-906f-2de701fa5c56 button.colab-df-convert');\n",
              "        buttonEl.style.display =\n",
              "          google.colab.kernel.accessAllowed ? 'block' : 'none';\n",
              "\n",
              "        async function convertToInteractive(key) {\n",
              "          const element = document.querySelector('#df-8fee527a-e29d-4b47-906f-2de701fa5c56');\n",
              "          const dataTable =\n",
              "            await google.colab.kernel.invokeFunction('convertToInteractive',\n",
              "                                                     [key], {});\n",
              "          if (!dataTable) return;\n",
              "\n",
              "          const docLinkHtml = 'Like what you see? Visit the ' +\n",
              "            '<a target=\"_blank\" href=https://colab.research.google.com/notebooks/data_table.ipynb>data table notebook</a>'\n",
              "            + ' to learn more about interactive tables.';\n",
              "          element.innerHTML = '';\n",
              "          dataTable['output_type'] = 'display_data';\n",
              "          await google.colab.output.renderOutput(dataTable, element);\n",
              "          const docLink = document.createElement('div');\n",
              "          docLink.innerHTML = docLinkHtml;\n",
              "          element.appendChild(docLink);\n",
              "        }\n",
              "      </script>\n",
              "    </div>\n",
              "  </div>\n",
              "  "
            ]
          },
          "metadata": {},
          "execution_count": 3
        }
      ],
      "source": [
        "data.head()"
      ]
    },
    {
      "cell_type": "markdown",
      "metadata": {
        "id": "YNOB58ltFD5r"
      },
      "source": [
        "#Spliting the dependent and independent variables"
      ]
    },
    {
      "cell_type": "code",
      "execution_count": null,
      "metadata": {
        "id": "3FM1_C1-E21x"
      },
      "outputs": [],
      "source": [
        "In = data.drop(\"target\",axis = 1)\n",
        "Output = data[\"target\"]"
      ]
    },
    {
      "cell_type": "markdown",
      "metadata": {
        "id": "fVVkiqrEFREO"
      },
      "source": [
        "#Spliting the data into train and test"
      ]
    },
    {
      "cell_type": "code",
      "execution_count": null,
      "metadata": {
        "id": "23hizYUdFFqn"
      },
      "outputs": [],
      "source": [
        "X_train,X_test,Y_train,Y_test = train_test_split(In,Output,test_size = 0.2, random_state = 55)"
      ]
    },
    {
      "cell_type": "markdown",
      "metadata": {
        "id": "6gV0E3pUFW8z"
      },
      "source": [
        "#Normalizing the Data"
      ]
    },
    {
      "cell_type": "code",
      "execution_count": null,
      "metadata": {
        "id": "-8-ihNRkFUDq"
      },
      "outputs": [],
      "source": [
        "minmax = MinMaxScaler()\n",
        "col = [\"age\",\"resting bp s\",\"cholesterol\",\"max heart rate\",\"oldpeak\"]\n",
        "X_train[col] = minmax.fit_transform(X_train[col])\n",
        "X_test[col] = minmax.transform(X_test[col])"
      ]
    },
    {
      "cell_type": "markdown",
      "metadata": {
        "id": "BDx6PgDGZ3hX"
      },
      "source": [
        "#Machine learning Algorithms"
      ]
    },
    {
      "cell_type": "markdown",
      "metadata": {
        "id": "OdJv87LnUhy4"
      },
      "source": [
        "##Logistic Regression Model"
      ]
    },
    {
      "cell_type": "code",
      "execution_count": null,
      "metadata": {
        "colab": {
          "base_uri": "https://localhost:8080/",
          "height": 312
        },
        "id": "uTm9jiwtJeBh",
        "outputId": "c1d766ca-2300-4b5c-cff7-eec83d13a384"
      },
      "outputs": [
        {
          "output_type": "execute_result",
          "data": {
            "text/plain": [
              "[]"
            ]
          },
          "metadata": {},
          "execution_count": 7
        },
        {
          "output_type": "display_data",
          "data": {
            "text/plain": [
              "<Figure size 432x288 with 2 Axes>"
            ],
            "image/png": "[encoded data removed]"
          },
          "metadata": {
            "needs_background": "light"
          }
        }
      ],
      "source": [
        "lr = LogisticRegression(max_iter = 100)\n",
        "lr.fit(X_train,Y_train)\n",
        "\n",
        "y_pred_lr = lr.predict(X_test)\n",
        "cm = confusion_matrix(Y_test,y_pred_lr)\n",
        "\n",
        "sns.heatmap(cm,annot = True,fmt = \".3g\")\n",
        "plt.ylabel(\"True Label\")\n",
        "plt.xlabel(\"Predicted Label\")\n",
        "plt.title(\"Confusion Matrix\")\n",
        "plt.plot()"
      ]
    },
    {
      "cell_type": "markdown",
      "metadata": {
        "id": "zQ7MW09KRuZ7"
      },
      "source": [
        "##Random Forest"
      ]
    },
    {
      "cell_type": "code",
      "execution_count": null,
      "metadata": {
        "colab": {
          "base_uri": "https://localhost:8080/",
          "height": 312
        },
        "id": "1HiE0UKZbJLq",
        "outputId": "d45a990c-622a-4783-dfb0-74d176b73091"
      },
      "outputs": [
        {
          "output_type": "execute_result",
          "data": {
            "text/plain": [
              "[]"
            ]
          },
          "metadata": {},
          "execution_count": 8
        },
        {
          "output_type": "display_data",
          "data": {
            "text/plain": [
              "<Figure size 432x288 with 2 Axes>"
            ],
            "image/png": "[encoded data removed]"
          },
          "metadata": {
            "needs_background": "light"
          }
        }
      ],
      "source": [
        "rf = RandomForestClassifier()\n",
        "rf.fit(X_train,Y_train)\n",
        "\n",
        "y_pred_rf = rf.predict(X_test)\n",
        "cm = confusion_matrix(Y_test,y_pred_rf)\n",
        "\n",
        "sns.heatmap(cm,annot = True,fmt = \".3g\")\n",
        "plt.ylabel(\"True Label\")\n",
        "plt.xlabel(\"Predicted Label\")\n",
        "plt.title(\"Confusion Matrix\")\n",
        "plt.plot()"
      ]
    },
    {
      "cell_type": "markdown",
      "metadata": {
        "id": "K166lb3eRxp_"
      },
      "source": [
        "###Random Forest Hyperparameter tuning"
      ]
    },
    {
      "cell_type": "code",
      "execution_count": null,
      "metadata": {
        "id": "h-Olt8Fwjslm"
      },
      "outputs": [],
      "source": [
        "n_estimators = [int(x) for x in np.linspace(start = 200, stop = 2000, num = 10)]\n",
        "max_features = ['auto', 'sqrt']\n",
        "max_depth = [int(x) for x in np.linspace(10, 110, num = 11)]\n",
        "max_depth.append(None)\n",
        "min_samples_split = [2, 5, 10]\n",
        "min_samples_leaf = [1, 2, 4]\n",
        "bootstrap = [True, False]\n",
        "random_grid = {'n_estimators': n_estimators, 'max_features': max_features, 'max_depth': max_depth, 'min_samples_split': min_samples_split,'min_samples_leaf': min_samples_leaf,'bootstrap': bootstrap}"
      ]
    },
    {
      "cell_type": "code",
      "execution_count": null,
      "metadata": {
        "id": "0WoYbisHkgJK",
        "colab": {
          "base_uri": "https://localhost:8080/",
          "height": 330
        },
        "outputId": "95371058-762e-4879-c3ee-f326665911ed"
      },
      "outputs": [
        {
          "output_type": "stream",
          "name": "stdout",
          "text": [
            "Fitting 3 folds for each of 5 candidates, totalling 15 fits\n"
          ]
        },
        {
          "output_type": "execute_result",
          "data": {
            "text/plain": [
              "[]"
            ]
          },
          "metadata": {},
          "execution_count": 11
        },
        {
          "output_type": "display_data",
          "data": {
            "text/plain": [
              "<Figure size 432x288 with 2 Axes>"
            ],
            "image/png": "[encoded data removed]"
          },
          "metadata": {
            "needs_background": "light"
          }
        }
      ],
      "source": [
        "rf_cv = RandomForestClassifier()\n",
        "rf_ht = RandomizedSearchCV(rf_cv, param_distributions = random_grid, n_iter = 5, cv = 3, verbose=2, random_state=42, n_jobs = -1)\n",
        "rf_ht.fit(X_train,Y_train)\n",
        "\n",
        "y_pred_rf_ht = rf_ht.predict(X_test)\n",
        "\n",
        "cm = confusion_matrix(Y_test,y_pred_rf_ht)\n",
        "\n",
        "sns.heatmap(cm,annot = True,fmt = \".3g\")\n",
        "plt.ylabel(\"True Label\")\n",
        "plt.xlabel(\"Predicted Label\")\n",
        "plt.title(\"Confusion Matrix\")\n",
        "plt.plot()"
      ]
    },
    {
      "cell_type": "markdown",
      "metadata": {
        "id": "fZh1uo3VSM40"
      },
      "source": [
        "##XGBoost Classifier"
      ]
    },
    {
      "cell_type": "code",
      "execution_count": null,
      "metadata": {
        "colab": {
          "base_uri": "https://localhost:8080/",
          "height": 312
        },
        "id": "PhkEwdxUh3r6",
        "outputId": "b6b1d27e-79e0-4e97-afdf-175912ed1389"
      },
      "outputs": [
        {
          "output_type": "execute_result",
          "data": {
            "text/plain": [
              "[]"
            ]
          },
          "metadata": {},
          "execution_count": 12
        },
        {
          "output_type": "display_data",
          "data": {
            "text/plain": [
              "<Figure size 432x288 with 2 Axes>"
            ],
            "image/png": "[encoded data removed]"
          },
          "metadata": {
            "needs_background": "light"
          }
        }
      ],
      "source": [
        "xgb = XGBClassifier()\n",
        "xgb.fit(X_train,Y_train)\n",
        "\n",
        "y_pred_xg = xgb.predict(X_test)\n",
        "cm = confusion_matrix(Y_test,y_pred_xg)\n",
        "\n",
        "sns.heatmap(cm,annot = True,fmt = \".3g\")\n",
        "plt.ylabel(\"True Label\")\n",
        "plt.xlabel(\"Predicted Label\")\n",
        "plt.title(\"Confusion Matrix\")\n",
        "plt.plot()"
      ]
    },
    {
      "cell_type": "markdown",
      "metadata": {
        "id": "wulVh3iajMWr"
      },
      "source": [
        "##Extra Tree Classifier"
      ]
    },
    {
      "cell_type": "code",
      "execution_count": null,
      "metadata": {
        "colab": {
          "base_uri": "https://localhost:8080/",
          "height": 312
        },
        "id": "B6qYmoOmOzqN",
        "outputId": "79b9efec-4951-41c3-b94e-bbaee3f6f928"
      },
      "outputs": [
        {
          "output_type": "execute_result",
          "data": {
            "text/plain": [
              "[]"
            ]
          },
          "metadata": {},
          "execution_count": 13
        },
        {
          "output_type": "display_data",
          "data": {
            "text/plain": [
              "<Figure size 432x288 with 2 Axes>"
            ],
            "image/png": "[encoded data removed]"
          },
          "metadata": {
            "needs_background": "light"
          }
        }
      ],
      "source": [
        "Extratrees = ExtraTreesClassifier()\n",
        "Extratrees.fit(X_train,Y_train)\n",
        "\n",
        "y_pred_et = Extratrees.predict(X_test)\n",
        "cm = confusion_matrix(Y_test,y_pred_et)\n",
        "\n",
        "sns.heatmap(cm,annot = True,fmt = \".3g\")\n",
        "plt.ylabel(\"True Label\")\n",
        "plt.xlabel(\"Predicted Label\")\n",
        "plt.title(\"Confusion Matrix\")\n",
        "plt.plot()"
      ]
    },
    {
      "cell_type": "markdown",
      "metadata": {
        "id": "aMZVud5tlSLa"
      },
      "source": [
        "##MLP"
      ]
    },
    {
      "cell_type": "code",
      "execution_count": null,
      "metadata": {
        "colab": {
          "base_uri": "https://localhost:8080/",
          "height": 367
        },
        "id": "wn54vhyPlT1C",
        "outputId": "21734555-2910-433c-8f92-d478cefd73c0"
      },
      "outputs": [
        {
          "output_type": "stream",
          "name": "stderr",
          "text": [
            "/usr/local/lib/python3.7/dist-packages/sklearn/neural_network/_multilayer_perceptron.py:696: ConvergenceWarning: Stochastic Optimizer: Maximum iterations (1000) reached and the optimization hasn't converged yet.\n",
            "  ConvergenceWarning,\n"
          ]
        },
        {
          "output_type": "execute_result",
          "data": {
            "text/plain": [
              "[]"
            ]
          },
          "metadata": {},
          "execution_count": 14
        },
        {
          "output_type": "display_data",
          "data": {
            "text/plain": [
              "<Figure size 432x288 with 2 Axes>"
            ],
            "image/png": "[encoded data removed]"
          },
          "metadata": {
            "needs_background": "light"
          }
        }
      ],
      "source": [
        "Mlp = MLPClassifier(max_iter=1000, solver = \"adam\")\n",
        "Mlp.fit(X_train,Y_train)\n",
        "\n",
        "y_pred_mlp = Mlp.predict(X_test)\n",
        "cm = confusion_matrix(Y_test,y_pred_mlp)\n",
        "\n",
        "sns.heatmap(cm,annot = True)\n",
        "plt.ylabel(\"True Label\")\n",
        "plt.xlabel(\"Predicted Label\")\n",
        "plt.title(\"Confusion Matrix\")\n",
        "plt.plot()\n"
      ]
    },
    {
      "cell_type": "markdown",
      "source": [
        "#Voting Classifier"
      ],
      "metadata": {
        "id": "OCEcHFtA08H7"
      }
    },
    {
      "cell_type": "code",
      "execution_count": null,
      "metadata": {
        "colab": {
          "base_uri": "https://localhost:8080/",
          "height": 312
        },
        "id": "MbrkbBQWD5FD",
        "outputId": "2ae83be1-007a-4f28-dcdd-d4419d63409d"
      },
      "outputs": [
        {
          "output_type": "execute_result",
          "data": {
            "text/plain": [
              "[]"
            ]
          },
          "metadata": {},
          "execution_count": 15
        },
        {
          "output_type": "display_data",
          "data": {
            "text/plain": [
              "<Figure size 432x288 with 2 Axes>"
            ],
            "image/png": "[encoded data removed]"
          },
          "metadata": {
            "needs_background": "light"
          }
        }
      ],
      "source": [
        "estimator = [(\"XGBoost\",XGBClassifier(colsample_bytree= 0.4,gamma= 0.4,learning_rate= 0.3,max_depth=5,min_child_weight= 1,n_iter=5,scoring='roc_auc',n_jobs=-1,cv=5,verbose=3)),\n",
        "             (\"RandomForest\",RandomForestClassifier(bootstrap = False, max_depth= 60, max_features =  'auto', min_samples_leaf= 2, min_samples_split= 2, n_estimators= 600)),\n",
        "             (\"SVC\",SVC(probability = True))]\n",
        "hard_voting = VotingClassifier(estimators = estimator, voting = \"hard\")\n",
        "hard_voting.fit(X_train,Y_train)\n",
        "\n",
        "y_pred_hard_voting = hard_voting.predict(X_test)\n",
        "cm = confusion_matrix(Y_test,y_pred_hard_voting)\n",
        "\n",
        "sns.heatmap(cm,annot = True)\n",
        "plt.ylabel(\"True Label\")\n",
        "plt.xlabel(\"Predicted Label\")\n",
        "plt.title(\"Confusion Matrix\")\n",
        "plt.plot()\n"
      ]
    },
    {
      "cell_type": "markdown",
      "source": [
        "#Soft Voting"
      ],
      "metadata": {
        "id": "aR-UPhktB9zR"
      }
    },
    {
      "cell_type": "code",
      "execution_count": null,
      "metadata": {
        "id": "ngKa0dd-5thI",
        "colab": {
          "base_uri": "https://localhost:8080/",
          "height": 312
        },
        "outputId": "9da4c820-0dd3-4350-b056-d588c06abe89"
      },
      "outputs": [
        {
          "output_type": "execute_result",
          "data": {
            "text/plain": [
              "[]"
            ]
          },
          "metadata": {},
          "execution_count": 16
        },
        {
          "output_type": "display_data",
          "data": {
            "text/plain": [
              "<Figure size 432x288 with 2 Axes>"
            ],
            "image/png": "[encoded data removed]"
          },
          "metadata": {
            "needs_background": "light"
          }
        }
      ],
      "source": [
        "estimator = [(\"XGBoost\",XGBClassifier(colsample_bytree= 0.4,gamma= 0.4,learning_rate= 0.3,max_depth=5,min_child_weight= 1,n_iter=5,scoring='roc_auc',n_jobs=-1,cv=5,verbose=3)),\n",
        "             (\"RandomForest\",RandomForestClassifier(bootstrap = False, max_depth= 60, max_features =  'auto', min_samples_leaf= 2, min_samples_split= 2, n_estimators= 600)),\n",
        "             (\"SVC\",SVC(probability = True))]\n",
        "soft_voting = VotingClassifier(estimators = estimator, voting = \"soft\")\n",
        "soft_voting.fit(X_train,Y_train)\n",
        "\n",
        "y_pred_soft_voting = soft_voting.predict(X_test)\n",
        "cm = confusion_matrix(Y_test,y_pred_soft_voting)\n",
        "\n",
        "sns.heatmap(cm,annot = True)\n",
        "plt.ylabel(\"True Label\")\n",
        "plt.xlabel(\"Predicted Label\")\n",
        "plt.title(\"Confusion Matrix\")\n",
        "plt.plot()\n"
      ]
    },
    {
      "cell_type": "markdown",
      "source": [
        "#Results"
      ],
      "metadata": {
        "id": "8XFuMHvaEw1z"
      }
    },
    {
      "cell_type": "code",
      "source": [
        "accuracy_of_models = pd.DataFrame({\n",
        "    \"Train Accuracy\":[lr.score(X_train,Y_train),\n",
        "             rf.score(X_train,Y_train),\n",
        "             rf_ht.score(X_train,Y_train),\n",
        "             xgb.score(X_train,Y_train),\n",
        "             Extratrees.score(X_train,Y_train),\n",
        "             Mlp.score(X_train,Y_train),\n",
        "             hard_voting.score(X_train,Y_train),\n",
        "             soft_voting.score(X_train,Y_train)],\n",
        "    \"Test Accuracy\":[lr.score(X_test,Y_test),\n",
        "            rf.score(X_test,Y_test),\n",
        "            rf_ht.score(X_test,Y_test),\n",
        "            xgb.score(X_test,Y_test),\n",
        "            Extratrees.score(X_test,Y_test),\n",
        "            Mlp.score(X_test,Y_test),\n",
        "            hard_voting.score(X_test,Y_test),\n",
        "            soft_voting.score(X_test,Y_test)],\n",
        "    \"Precision\":[precision_score(Y_test,y_pred_lr),\n",
        "                 precision_score(Y_test,y_pred_rf),\n",
        "                 precision_score(Y_test,y_pred_rf_ht),\n",
        "                 precision_score(Y_test,y_pred_xg),\n",
        "                 precision_score(Y_test,y_pred_et),\n",
        "                 precision_score(Y_test,y_pred_mlp),\n",
        "                 precision_score(Y_test,y_pred_hard_voting),\n",
        "                 precision_score(Y_test,y_pred_soft_voting)],\n",
        "\n",
        "    \"Recall\" :  [recall_score(Y_test,y_pred_lr),\n",
        "                 recall_score(Y_test,y_pred_rf),\n",
        "                 recall_score(Y_test,y_pred_rf_ht),\n",
        "                 recall_score(Y_test,y_pred_xg),\n",
        "                 recall_score(Y_test,y_pred_et),\n",
        "                 recall_score(Y_test,y_pred_mlp),\n",
        "                 recall_score(Y_test,y_pred_hard_voting),\n",
        "                 recall_score(Y_test,y_pred_soft_voting)],\n",
        "\n",
        "    \"F1 Score\" :  [f1_score(Y_test,y_pred_lr),\n",
        "                 f1_score(Y_test,y_pred_rf),\n",
        "                 f1_score(Y_test,y_pred_rf_ht),\n",
        "                 f1_score(Y_test,y_pred_xg),\n",
        "                 f1_score(Y_test,y_pred_et),\n",
        "                 f1_score(Y_test,y_pred_mlp),\n",
        "                 f1_score(Y_test,y_pred_hard_voting),\n",
        "                 f1_score(Y_test,y_pred_soft_voting),\n",
        "                 ]\n",
        "            },\n",
        "            index = [\"Logistic Regression\",\n",
        "                     \"Random Forest Without Hyperparameter Tuning\",\n",
        "                     \"Random Forest With Hyperparameter Tuning\",\n",
        "                     \"Extreme Gradient Boosting\",\n",
        "                     \"Extra Tree Classifier\",\n",
        "                     \"Multi Layer Perceptron\",\n",
        "                     \"Voting Classifier (Hard Voting)\",\n",
        "                     \"Voting Classifier (Soft Voting)\"\n",
        "                     ])\n",
        "accuracy_of_models[\"Train Accuracy\"] = (accuracy_of_models[\"Train Accuracy\"]*100).round(decimals = 2)\n",
        "accuracy_of_models[\"Test Accuracy\"] = (accuracy_of_models[\"Test Accuracy\"]*100).round(decimals = 2)\n",
        "accuracy_of_models[\"Precision\"] = (accuracy_of_models[\"Precision\"]* 100).round(decimals = 2)\n",
        "accuracy_of_models[\"Recall\"] = (accuracy_of_models[\"Recall\"]* 100).round(decimals = 2)\n",
        "accuracy_of_models[\"F1 Score\"] = (accuracy_of_models[\"F1 Score\"]* 100).round(decimals = 2)\n",
        "accuracy_of_models"
      ],
      "metadata": {
        "colab": {
          "base_uri": "https://localhost:8080/",
          "height": 300
        },
        "id": "ULrTy8IlCQho",
        "outputId": "cf0b4cda-40c2-4fb2-97ac-57d11f3d6bb7"
      },
      "execution_count": null,
      "outputs": [
        {
          "output_type": "execute_result",
          "data": {
            "text/plain": [
              "                                             Train Accuracy  Test Accuracy  \\\n",
              "Logistic Regression                                   85.30          79.89   \n",
              "Random Forest Without Hyperparameter Tuning          100.00          96.83   \n",
              "Random Forest With Hyperparameter Tuning              99.60          96.30   \n",
              "Extreme Gradient Boosting                             94.70          92.06   \n",
              "Extra Tree Classifier                                100.00          94.18   \n",
              "Multi Layer Perceptron                                95.50          88.36   \n",
              "Voting Classifier (Hard Voting)                       99.60          94.71   \n",
              "Voting Classifier (Soft Voting)                       98.41          93.65   \n",
              "\n",
              "                                             Precision  Recall  F1 Score  \n",
              "Logistic Regression                              77.42   80.90     79.12  \n",
              "Random Forest Without Hyperparameter Tuning      95.60   97.75     96.67  \n",
              "Random Forest With Hyperparameter Tuning         95.56   96.63     96.09  \n",
              "Extreme Gradient Boosting                        92.05   91.01     91.53  \n",
              "Extra Tree Classifier                            92.39   95.51     93.92  \n",
              "Multi Layer Perceptron                           90.36   84.27     87.21  \n",
              "Voting Classifier (Hard Voting)                  92.47   96.63     94.51  \n",
              "Voting Classifier (Soft Voting)                  91.40   95.51     93.41  "
            ],
            "text/html": [
              "\n",
              "  <div id=\"df-04c270a4-ab60-447e-bf77-7eb1af8eeb1b\">\n",
              "    <div class=\"colab-df-container\">\n",
              "      <div>\n",
              "<style scoped>\n",
              "    .dataframe tbody tr th:only-of-type {\n",
              "        vertical-align: middle;\n",
              "    }\n",
              "\n",
              "    .dataframe tbody tr th {\n",
              "        vertical-align: top;\n",
              "    }\n",
              "\n",
              "    .dataframe thead th {\n",
              "        text-align: right;\n",
              "    }\n",
              "</style>\n",
              "<table border=\"1\" class=\"dataframe\">\n",
              "  <thead>\n",
              "    <tr style=\"text-align: right;\">\n",
              "      <th></th>\n",
              "      <th>Train Accuracy</th>\n",
              "      <th>Test Accuracy</th>\n",
              "      <th>Precision</th>\n",
              "      <th>Recall</th>\n",
              "      <th>F1 Score</th>\n",
              "    </tr>\n",
              "  </thead>\n",
              "  <tbody>\n",
              "    <tr>\n",
              "      <th>Logistic Regression</th>\n",
              "      <td>85.30</td>\n",
              "      <td>79.89</td>\n",
              "      <td>77.42</td>\n",
              "      <td>80.90</td>\n",
              "      <td>79.12</td>\n",
              "    </tr>\n",
              "    <tr>\n",
              "      <th>Random Forest Without Hyperparameter Tuning</th>\n",
              "      <td>100.00</td>\n",
              "      <td>96.83</td>\n",
              "      <td>95.60</td>\n",
              "      <td>97.75</td>\n",
              "      <td>96.67</td>\n",
              "    </tr>\n",
              "    <tr>\n",
              "      <th>Random Forest With Hyperparameter Tuning</th>\n",
              "      <td>99.60</td>\n",
              "      <td>96.30</td>\n",
              "      <td>95.56</td>\n",
              "      <td>96.63</td>\n",
              "      <td>96.09</td>\n",
              "    </tr>\n",
              "    <tr>\n",
              "      <th>Extreme Gradient Boosting</th>\n",
              "      <td>94.70</td>\n",
              "      <td>92.06</td>\n",
              "      <td>92.05</td>\n",
              "      <td>91.01</td>\n",
              "      <td>91.53</td>\n",
              "    </tr>\n",
              "    <tr>\n",
              "      <th>Extra Tree Classifier</th>\n",
              "      <td>100.00</td>\n",
              "      <td>94.18</td>\n",
              "      <td>92.39</td>\n",
              "      <td>95.51</td>\n",
              "      <td>93.92</td>\n",
              "    </tr>\n",
              "    <tr>\n",
              "      <th>Multi Layer Perceptron</th>\n",
              "      <td>95.50</td>\n",
              "      <td>88.36</td>\n",
              "      <td>90.36</td>\n",
              "      <td>84.27</td>\n",
              "      <td>87.21</td>\n",
              "    </tr>\n",
              "    <tr>\n",
              "      <th>Voting Classifier (Hard Voting)</th>\n",
              "      <td>99.60</td>\n",
              "      <td>94.71</td>\n",
              "      <td>92.47</td>\n",
              "      <td>96.63</td>\n",
              "      <td>94.51</td>\n",
              "    </tr>\n",
              "    <tr>\n",
              "      <th>Voting Classifier (Soft Voting)</th>\n",
              "      <td>98.41</td>\n",
              "      <td>93.65</td>\n",
              "      <td>91.40</td>\n",
              "      <td>95.51</td>\n",
              "      <td>93.41</td>\n",
              "    </tr>\n",
              "  </tbody>\n",
              "</table>\n",
              "</div>\n",
              "      <button class=\"colab-df-convert\" onclick=\"convertToInteractive('df-04c270a4-ab60-447e-bf77-7eb1af8eeb1b')\"\n",
              "              title=\"Convert this dataframe to an interactive table.\"\n",
              "              style=\"display:none;\">\n",
              "        \n",
              "  <svg xmlns=\"http://www.w3.org/2000/svg\" height=\"24px\"viewBox=\"0 0 24 24\"\n",
              "       width=\"24px\">\n",
              "    <path d=\"M0 0h24v24H0V0z\" fill=\"none\"/>\n",
              "    <path d=\"M18.56 5.44l.94 2.06.94-2.06 2.06-.94-2.06-.94-.94-2.06-.94 2.06-2.06.94zm-11 1L8.5 8.5l.94-2.06 2.06-.94-2.06-.94L8.5 2.5l-.94 2.06-2.06.94zm10 10l.94 2.06.94-2.06 2.06-.94-2.06-.94-.94-2.06-.94 2.06-2.06.94z\"/><path d=\"M17.41 7.96l-1.37-1.37c-.4-.4-.92-.59-1.43-.59-.52 0-1.04.2-1.43.59L10.3 9.45l-7.72 7.72c-.78.78-.78 2.05 0 2.83L4 21.41c.39.39.9.59 1.41.59.51 0 1.02-.2 1.41-.59l7.78-7.78 2.81-2.81c.8-.78.8-2.07 0-2.86zM5.41 20L4 18.59l7.72-7.72 1.47 1.35L5.41 20z\"/>\n",
              "  </svg>\n",
              "      </button>\n",
              "      \n",
              "  <style>\n",
              "    .colab-df-container {\n",
              "      display:flex;\n",
              "      flex-wrap:wrap;\n",
              "      gap: 12px;\n",
              "    }\n",
              "\n",
              "    .colab-df-convert {\n",
              "      background-color: #E8F0FE;\n",
              "      border: none;\n",
              "      border-radius: 50%;\n",
              "      cursor: pointer;\n",
              "      display: none;\n",
              "      fill: #1967D2;\n",
              "      height: 32px;\n",
              "      padding: 0 0 0 0;\n",
              "      width: 32px;\n",
              "    }\n",
              "\n",
              "    .colab-df-convert:hover {\n",
              "      background-color: #E2EBFA;\n",
              "      box-shadow: 0px 1px 2px rgba(60, 64, 67, 0.3), 0px 1px 3px 1px rgba(60, 64, 67, 0.15);\n",
              "      fill: #174EA6;\n",
              "    }\n",
              "\n",
              "    [theme=dark] .colab-df-convert {\n",
              "      background-color: #3B4455;\n",
              "      fill: #D2E3FC;\n",
              "    }\n",
              "\n",
              "    [theme=dark] .colab-df-convert:hover {\n",
              "      background-color: #434B5C;\n",
              "      box-shadow: 0px 1px 3px 1px rgba(0, 0, 0, 0.15);\n",
              "      filter: drop-shadow(0px 1px 2px rgba(0, 0, 0, 0.3));\n",
              "      fill: #FFFFFF;\n",
              "    }\n",
              "  </style>\n",
              "\n",
              "      <script>\n",
              "        const buttonEl =\n",
              "          document.querySelector('#df-04c270a4-ab60-447e-bf77-7eb1af8eeb1b button.colab-df-convert');\n",
              "        buttonEl.style.display =\n",
              "          google.colab.kernel.accessAllowed ? 'block' : 'none';\n",
              "\n",
              "        async function convertToInteractive(key) {\n",
              "          const element = document.querySelector('#df-04c270a4-ab60-447e-bf77-7eb1af8eeb1b');\n",
              "          const dataTable =\n",
              "            await google.colab.kernel.invokeFunction('convertToInteractive',\n",
              "                                                     [key], {});\n",
              "          if (!dataTable) return;\n",
              "\n",
              "          const docLinkHtml = 'Like what you see? Visit the ' +\n",
              "            '<a target=\"_blank\" href=https://colab.research.google.com/notebooks/data_table.ipynb>data table notebook</a>'\n",
              "            + ' to learn more about interactive tables.';\n",
              "          element.innerHTML = '';\n",
              "          dataTable['output_type'] = 'display_data';\n",
              "          await google.colab.output.renderOutput(dataTable, element);\n",
              "          const docLink = document.createElement('div');\n",
              "          docLink.innerHTML = docLinkHtml;\n",
              "          element.appendChild(docLink);\n",
              "        }\n",
              "      </script>\n",
              "    </div>\n",
              "  </div>\n",
              "  "
            ]
          },
          "metadata": {},
          "execution_count": 20
        }
      ]
    },
    {
      "cell_type": "markdown",
      "source": [
        "#Saving the best model"
      ],
      "metadata": {
        "id": "Ju7Kt4n5aVyb"
      }
    },
    {
      "cell_type": "code",
      "execution_count": null,
      "metadata": {
        "id": "ixXawYqhGh4M"
      },
      "outputs": [],
      "source": [
        "#pickle.dump(rf,open(\"/content/drive/MyDrive/Virtual Consultant (FYP)/Heart Disease/rf_with_96.82% test .pkl\",\"wb\"))"
      ]
    },
    {
      "cell_type": "code",
      "execution_count": null,
      "metadata": {
        "id": "KyfBn3ZhDmZE"
      },
      "outputs": [],
      "source": [
        "filename = \"/content/drive/MyDrive/Virtual Consultant (FYP)/Heart Disease/rf_with_96.82% test .pkl\"\n",
        "with open(filename, 'rb') as file:\n",
        "    model = pickle.load(file)"
      ]
    }
  ],
  "metadata": {
    "colab": {
      "collapsed_sections": [],
      "name": "FYP_Heart Disease Using Machine Learning.ipynb",
      "provenance": []
    },
    "kernelspec": {
      "display_name": "Python 3",
      "name": "python3"
    },
    "language_info": {
      "name": "python"
    }
  },
  "nbformat": 4,
  "nbformat_minor": 0
}